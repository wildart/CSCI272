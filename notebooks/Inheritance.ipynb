{
 "cells": [
  {
   "cell_type": "code",
   "execution_count": 1,
   "metadata": {
    "slideshow": {
     "slide_type": "skip"
    }
   },
   "outputs": [],
   "source": [
    "#include <iostream>\n",
    "using namespace std;"
   ]
  },
  {
   "cell_type": "markdown",
   "metadata": {
    "slideshow": {
     "slide_type": "slide"
    }
   },
   "source": [
    "# Inheritance"
   ]
  },
  {
   "cell_type": "markdown",
   "metadata": {
    "slideshow": {
     "slide_type": "slide"
    }
   },
   "source": [
    "## Object-Oriented Programming\n",
    "\n",
    "Object Oriented Programming (OOP) is the third major programming paradigm.\n",
    "\n",
    "Three major language features:\n",
    "\n",
    "- Abstract data types\n",
    "- Inheritance\n",
    "  - Inheritance is the central theme in OOP and languages that support it\n",
    "- Polymorphism"
   ]
  },
  {
   "cell_type": "markdown",
   "metadata": {
    "slideshow": {
     "slide_type": "slide"
    }
   },
   "source": [
    "## The Concept of Abstraction\n",
    "\n",
    "- An **abstraction** is a view or representation of an entity that includes only the most significant attributes\n",
    "- The concept of abstraction is fundamental in programming (and computer science)\n",
    "- Nearly all programming languages support **process abstraction** with subprograms\n",
    "- Nearly all programming languages designed since 1980 support **data abstraction**"
   ]
  },
  {
   "cell_type": "markdown",
   "metadata": {
    "slideshow": {
     "slide_type": "slide"
    }
   },
   "source": [
    "##  Data Abstraction\n",
    "\n",
    "An **abstract data type** is a user-defined data type that satisfies the following **two conditions**:\n",
    "\n",
    "- The representation of objects of the type is **hidden** from the program units that use these objects, so the only operations possible are those provided in the type's definition\n",
    "- The declarations of the type and the protocols of the operations on objects of the type are contained in a **single** syntactic unit.\n",
    "  \n",
    "Language requirements for ADTs  \n",
    "\n",
    "- A syntactic unit in which to encapsulate the type definition\n",
    "- A method of making type names and subprogram headers visible to clients, while hiding actual definitions\n",
    "- Some primitive operations must be built into the language processor"
   ]
  },
  {
   "cell_type": "markdown",
   "metadata": {
    "slideshow": {
     "slide_type": "slide"
    }
   },
   "source": [
    "## Inheritance\n",
    "\n",
    "Productivity increases can come from **reuse**\n",
    "\n",
    "- ADTs are difficult to reuse - always need changes\n",
    "- All ADTs are independent and at the same level\n",
    "\n",
    "**Inheritance** allows new classes *defined in terms of existing ones*\n",
    "\n",
    "- by allowing them to inherit common parts\n",
    "\n",
    "Inheritance addresses both of the above concerns\n",
    "\n",
    "- reuse ADTs after minor changes\n",
    "- define classes in a hierarchy"
   ]
  },
  {
   "cell_type": "markdown",
   "metadata": {
    "slideshow": {
     "slide_type": "subslide"
    }
   },
   "source": [
    "## Object-Oriented Concepts: Inheritance\n",
    "\n",
    "Inheritance can be complicated by access controls to encapsulated entities\n",
    "\n",
    "- A class can hide entities from its subclasses\n",
    "- A class can hide entities from its clients\n",
    "- A class can also hide entities for its clients while allowing its subclasses to see them\n",
    "\n",
    "Besides inheriting methods as is, a class can modify an inherited method\n",
    "\n",
    "- The new one **overrides** the inherited one\n",
    "- The method in the parent is **overriden**\n",
    "\n",
    "One disadvantage of inheritance for reuse: \n",
    "\n",
    "- Creates interdependencies among classes that complicate maintenance"
   ]
  },
  {
   "cell_type": "markdown",
   "metadata": {
    "slideshow": {
     "slide_type": "subslide"
    }
   },
   "source": [
    "Three ways a class can differ from its parent:\n",
    "\n",
    "1. The parent class can define some of its variables or methods to have private access, which means they will not be visible in the subclass\n",
    "2. The subclass can add variables and/or methods to those inherited from the parent\n",
    "3. The subclass can modify the behavior of one or more of its inherited methods."
   ]
  },
  {
   "cell_type": "markdown",
   "metadata": {
    "slideshow": {
     "slide_type": "subslide"
    }
   },
   "source": [
    "There are two kinds of variables in a class:\n",
    "\n",
    "- Class variables - one/class\n",
    "- Instance variables - one/object\n",
    "\n",
    "There are two kinds of methods in a class:\n",
    "\n",
    "- Class methods - accept messages to the class\n",
    "- Instance methods - accept messages to objects"
   ]
  },
  {
   "cell_type": "markdown",
   "metadata": {
    "slideshow": {
     "slide_type": "slide"
    }
   },
   "source": [
    "## Inheritance in C++\n",
    "\n",
    "\n",
    "- You can designate that a new class should **inherit** the members of an existing class.\n",
    "- This existing class is called the **base class**, and the new class is referred to as the **derived class**.\n",
    "- A derived class represents a more **specialized** group of objects.\n",
    "- C++ offers *public*, **protected** and *private* inheritance.\n",
    "- With public inheritance, every object of a derived class is also an object of that derived class's base class.\n",
    "- Base-class objects are **not** objects of their derived classes.\n",
    "- With object-oriented programming, you focus on the commonalities among objects in the system rather than on the special cases.\n"
   ]
  },
  {
   "cell_type": "markdown",
   "metadata": {
    "cell_style": "split",
    "slideshow": {
     "slide_type": "slide"
    }
   },
   "source": [
    "## Inheritance as a Relation\n",
    "    \n",
    "- We distinguish between the **is-a** relationship and the **has-a** relationship.\n",
    "\n",
    "\n",
    "- The <span style=\"color:red;font-weight: bold;\">is-a</span> relationship represents <span style=\"color:red;font-weight: bold;\">inheritance</span>.\n",
    "\n",
    "\n",
    "- In an **is-a** relationship, an object of a **derived class** also can be treated as an object of its **base class**.\n",
    "\n",
    "\n",
    "- By contrast, the **has-a** relationship represents **composition**."
   ]
  },
  {
   "cell_type": "markdown",
   "metadata": {
    "cell_style": "split",
    "hide_input": false,
    "slideshow": {
     "slide_type": "fragment"
    }
   },
   "source": [
    "<div class=\"figure\">\n",
    "<img src=\"../img/Hierarchies.png\"  style=\"width:600px\"/>\n",
    "</div>"
   ]
  },
  {
   "cell_type": "markdown",
   "metadata": {
    "slideshow": {
     "slide_type": "slide"
    }
   },
   "source": [
    "## Base and Derived Classes\n",
    "\n",
    "Several simple examples of base classes and derived classes.\n",
    "- Base classes tend to be more general and derived classes tend to be more specific.\n",
    "\n",
    "| Base class | Derived classes |\n",
    "|------------|:----------------|\n",
    "|Student     | GraduateStudent, UndergraduateStudent|\n",
    "|Shape| Circle, Triangle, Rectangle, Sphere, Cube|\n",
    "|Loan| CarLoan, HomeImprovementLoan, MortgageLoan|\n",
    "|Employee| Faculty, Staff|\n",
    "|Account| CheckingAccount, SavingsAccount|\n",
    "\n",
    "- Because every derived-class object **is an object** of its base class, and one base class can have **many** derived classes, the set of objects represented by a base class typically is **larger** than the set of objects represented by any of its derived classes.\n",
    "\n",
    "- Inheritance relationships form **class hierarchies**."
   ]
  },
  {
   "cell_type": "markdown",
   "metadata": {
    "slideshow": {
     "slide_type": "slide"
    }
   },
   "source": [
    "## Base and Derived Classes (cont.)\n",
    "\n",
    "- A base class exists in a hierarchical relationship with its derived classes.\n",
    "- Although classes can exist independently, once they're employed in inheritance relationships, they become affiliated with other classes.\n",
    "- A class becomes either a base class - supplying members to other classes, a derived class - inheriting its members from other classes, or both."
   ]
  },
  {
   "cell_type": "markdown",
   "metadata": {
    "slideshow": {
     "slide_type": "slide"
    }
   },
   "source": [
    "## Example: Community Member  (cont.)\n",
    "\n",
    "![](../img/Inheritance1.png)"
   ]
  },
  {
   "cell_type": "markdown",
   "metadata": {
    "slideshow": {
     "slide_type": "slide"
    }
   },
   "source": [
    "## Example: Community Member (cont.)\n",
    "\n",
    "Let’s develop a simple inheritance hierarchy with five levels.\n",
    "\n",
    "- A university community has thousands of `CommunityMembers`.\n",
    "- `Employees` are either `Faculty` or `Staff`.\n",
    "- `Faculty` are either `Administrators` or `Teachers`.\n",
    "- Some `Administrators`, however, are also `Teachers`.\n",
    "\n",
    "We've used multiple inheritance to form class `AdministratorTeacher`."
   ]
  },
  {
   "cell_type": "markdown",
   "metadata": {
    "slideshow": {
     "slide_type": "slide"
    }
   },
   "source": [
    "## Example: Community Member (cont.)\n",
    "\n",
    "- With **single inheritance**, a class is derived from **one base class**.\n",
    "- With **multiple inheritance**, a derived class inherits simultaneously from **two or more (possibly unrelated) base classes**.\n",
    "\n",
    "Each arrow in the hierarchy represents an **is-a** relationship.\n",
    "\n",
    "- As we follow the arrows in this class hierarchy, we can state *an Employee is a CommunityMember* and *a Teacher is a Faculty member*.\n",
    "- `CommunityMember` is the **direct base class** of `Employee`, `Student` and `Alumnus`.\n",
    "- `CommunityMember` is an **indirect base class** of all the other classes in the diagram.\n"
   ]
  },
  {
   "cell_type": "markdown",
   "metadata": {
    "cell_style": "split",
    "slideshow": {
     "slide_type": "slide"
    }
   },
   "source": [
    "## Example: Shape\n",
    "\n",
    "Consider the Shape inheritance hierarchy:\n",
    "\n",
    "- Begins with **base class** `Shape`.\n",
    "- Classes `TwoDimensionalShape` and `ThreeDimensionalShape` **derive** from base class `Shape`\n",
    "    - `Shapes` are either `TwoDimensionalShapes` or `Three-DimensionalShapes`.\n",
    "- The third level of this hierarchy contains some more specific types of `TwoDimensionalShapes` and `ThreeDimensionalShapes`.\n"
   ]
  },
  {
   "cell_type": "markdown",
   "metadata": {
    "cell_style": "split",
    "slideshow": {
     "slide_type": "fragment"
    }
   },
   "source": [
    "![](../img/Inheritance2.png)"
   ]
  },
  {
   "cell_type": "code",
   "execution_count": 2,
   "metadata": {
    "slideshow": {
     "slide_type": "slide"
    }
   },
   "outputs": [],
   "source": [
    "class Counter //base class\n",
    "{\n",
    "protected:  //NOTE: not private\n",
    "    unsigned int count; // counter\n",
    "public:\n",
    "    Counter() : count(0) { cout << \"Counter: No-arg constructor\" << endl; }    // no-arg constructor        \n",
    "    Counter(int c) : count(c) { cout << \"Counter: constructor with \" << c << endl; } // 1-arg constructor\n",
    "    ~Counter() {cout << \"Counter: destructor\" << endl;}\n",
    "    \n",
    "    unsigned int getCount() const { //return count\n",
    "        return count; \n",
    "    }\n",
    "    Counter& operator++ (){        //incr count (prefix)\n",
    "        ++count;\n",
    "        return *this;\n",
    "    }\n",
    "};"
   ]
  },
  {
   "cell_type": "code",
   "execution_count": 3,
   "metadata": {
    "slideshow": {
     "slide_type": "fragment"
    }
   },
   "outputs": [
    {
     "name": "stdout",
     "output_type": "stream",
     "text": [
      "Counter: constructor with 101\n",
      "Counter state: 101\n",
      "Counter state: 104\n",
      "Counter: destructor\n"
     ]
    }
   ],
   "source": [
    "{\n",
    "    Counter c{101};\n",
    "    cout << \"Counter state: \" << c.getCount() << endl;\n",
    "    ++(++(++c)); // ++c; ++c; ++c;\n",
    "    cout << \"Counter state: \" << c.getCount() << endl;\n",
    "}"
   ]
  },
  {
   "cell_type": "code",
   "execution_count": 4,
   "metadata": {
    "slideshow": {
     "slide_type": "slide"
    }
   },
   "outputs": [],
   "source": [
    "class CountDn : public Counter // derived class\n",
    "{\n",
    "public:\n",
    "    CountDn& operator-- () {   // decr count (prefix)\n",
    "        --count;\n",
    "        return *this;\n",
    "    }\n",
    "};"
   ]
  },
  {
   "cell_type": "code",
   "execution_count": 5,
   "metadata": {
    "slideshow": {
     "slide_type": "fragment"
    }
   },
   "outputs": [
    {
     "name": "stdout",
     "output_type": "stream",
     "text": [
      "Counter: No-arg constructor\n",
      "Counter state: 0\n",
      "Counter state: 3\n",
      "Counter state: 0\n",
      "Counter: destructor\n"
     ]
    }
   ],
   "source": [
    "{\n",
    "    CountDn c;\n",
    "    cout << \"Counter state: \" << c.getCount() << endl;\n",
    "    ++(++(++c)); // ++c; ++c; ++c;\n",
    "    cout << \"Counter state: \" << c.getCount() << endl;\n",
    "    --(--(--c));\n",
    "    cout << \"Counter state: \" << c.getCount() << endl;\n",
    "}"
   ]
  },
  {
   "cell_type": "markdown",
   "metadata": {
    "slideshow": {
     "slide_type": "slide"
    }
   },
   "source": [
    "## Inheritance Hierarchy\n",
    "\n",
    "- The **colon (:)** in the class definition indicates **inheritance**.\n",
    "- Keyword **public** indicates the *type of inheritance*.\n",
    "- As a derived class (formed with public inheritance), `CountDn` inherits all the members of class `Counter`\n",
    "    - Except for the **constructor** - each class provides its own constructors that are specific to the class.\n",
    "    - **Destructors** are not inherited\n",
    "- The public services of `CountDn` include its constructor and the public member functions inherited from class `Counter`"
   ]
  },
  {
   "cell_type": "markdown",
   "metadata": {
    "slideshow": {
     "slide_type": "slide"
    }
   },
   "source": [
    "## Specifying the Derived Class\n",
    "\n",
    "The specification for a new class, `CountDn`\n",
    "\n",
    "- This class incorporates a new function, `operator--()`, which decrements the `count`.\n",
    "- the new `CountDn` class **inherits** all the features of the `Counter` class.\n",
    "- `CountDn` doesn't need a **constructor** or the **getCount()** or **operator++()** functions, because\n",
    "these already exist in `Counter`.\n",
    "\n",
    "The first line of `CountDn` specifies that it is **derived** from `Counter`:\n",
    "\n",
    "```c++\n",
    "class CountDn : public Counter\n",
    "```\n",
    "\n",
    "Here we use a **single colon**, followed by the keyword **public** and the **name of the base class** `Counter`.\n",
    "- This sets up the relationship between the classes."
   ]
  },
  {
   "cell_type": "markdown",
   "metadata": {
    "cell_style": "split",
    "slideshow": {
     "slide_type": "slide"
    }
   },
   "source": [
    "## Generalization\n",
    "\n",
    "In the UML, **inheritance** is called **generalization**\n",
    "\n",
    "- because the parent class is a more general form of the child class\n",
    "- indicated by a **triangular arrowhead** on the line connecting the parent and child classes\n",
    "- he arrow means *inherited from or derived from or is a more specific version of*\n"
   ]
  },
  {
   "cell_type": "markdown",
   "metadata": {
    "cell_style": "split",
    "slideshow": {
     "slide_type": "fragment"
    }
   },
   "source": [
    "<img src=\"../img/Generalization.png\" style=\"width:400px\"/>"
   ]
  },
  {
   "cell_type": "markdown",
   "metadata": {
    "slideshow": {
     "slide_type": "slide"
    }
   },
   "source": [
    "## Accessing Base Class Members\n",
    "\n",
    "An important topic in inheritance is knowing when *a member function in the base class can be\n",
    "used by objects of the derived class*.\n",
    "\n",
    "- This is called **accessibility**.\n",
    "\n",
    "![](../img/Accessibility2.png)"
   ]
  },
  {
   "cell_type": "markdown",
   "metadata": {
    "cell_style": "split",
    "slideshow": {
     "slide_type": "slide"
    }
   },
   "source": [
    "## Access specifiers without inheritance\n",
    "\n",
    "![](../img/Access-No-Inheritance.png)"
   ]
  },
  {
   "cell_type": "markdown",
   "metadata": {
    "cell_style": "split",
    "slideshow": {
     "slide_type": "fragment"
    }
   },
   "source": [
    "## Access specifiers with inheritance\n",
    "\n",
    "![Inheritance2](../img/Access-Inheritance.png)"
   ]
  },
  {
   "cell_type": "code",
   "execution_count": 6,
   "metadata": {
    "slideshow": {
     "slide_type": "slide"
    }
   },
   "outputs": [],
   "source": [
    "class CounterPriv //base class\n",
    "{\n",
    "private:  //NOTE: private\n",
    "    unsigned int count; // counter\n",
    "public:\n",
    "    CounterPriv() : count(0) { }      // no-arg constructor        \n",
    "    CounterPriv(int c) : count(c) { } // 1-arg constructor\n",
    "    \n",
    "    unsigned int getCount() const { //return count\n",
    "        return count; \n",
    "    }\n",
    "    CounterPriv& operator++ (){        //incr count (prefix)\n",
    "        ++count;\n",
    "        return *this;\n",
    "    }\n",
    "};"
   ]
  },
  {
   "cell_type": "code",
   "execution_count": 7,
   "metadata": {
    "slideshow": {
     "slide_type": "fragment"
    }
   },
   "outputs": [
    {
     "name": "stderr",
     "output_type": "stream",
     "text": [
      "\u001b[1minput_line_14:5:11: \u001b[0m\u001b[0;1;31merror: \u001b[0m\u001b[1m'count' is a private member of '__cling_N56::CounterPriv'\u001b[0m\n",
      "        --count;\n",
      "\u001b[0;1;32m          ^\n",
      "\u001b[0m\u001b[1minput_line_13:4:18: \u001b[0m\u001b[0;1;30mnote: \u001b[0mdeclared private here\u001b[0m\n",
      "    unsigned int count; // counter\n",
      "\u001b[0;1;32m                 ^\n",
      "\u001b[0m"
     ]
    },
    {
     "ename": "Interpreter Error",
     "evalue": "",
     "output_type": "error",
     "traceback": [
      "Interpreter Error: "
     ]
    }
   ],
   "source": [
    "class CountDn2 : public CounterPriv // derived class\n",
    "{\n",
    "public:\n",
    "    CounterPriv& operator-- () {   // decr count (prefix)\n",
    "        --count;\n",
    "        return *this;\n",
    "    }\n",
    "};"
   ]
  },
  {
   "cell_type": "markdown",
   "metadata": {
    "slideshow": {
     "slide_type": "slide"
    }
   },
   "source": [
    "## Inheriting Base Class Constructors\n",
    "\n",
    "- Sometimes a derived class's constructors simply specify the same parameters as the base class's constructors.\n",
    "- For such cases, **C++11** allows you to specify that a derived class **should inherit** a base class's constructors.\n",
    "- To do this explicitly include a using declaration of the following form **anywhere** in the derived-class definition:\n",
    "```c++\n",
    "using BaseClass::BaseClass;\n",
    "```\n",
    "- In the preceding declaration, `BaseClass` is the base class's name."
   ]
  },
  {
   "cell_type": "code",
   "execution_count": 8,
   "metadata": {
    "slideshow": {
     "slide_type": "slide"
    }
   },
   "outputs": [],
   "source": [
    "class CountDn2 : public Counter // derived class\n",
    "{\n",
    "    using Counter::Counter;\n",
    "public:\n",
    "    Counter& operator-- () {   // decr count (prefix)\n",
    "        --count;\n",
    "        return *this;\n",
    "    }\n",
    "};"
   ]
  },
  {
   "cell_type": "code",
   "execution_count": 9,
   "metadata": {
    "slideshow": {
     "slide_type": "fragment"
    }
   },
   "outputs": [
    {
     "name": "stdout",
     "output_type": "stream",
     "text": [
      "Counter: constructor with 1335\n",
      "Counter state: 1335\n",
      "Counter state: 1338\n",
      "Counter state: 1336\n",
      "Counter: destructor\n"
     ]
    }
   ],
   "source": [
    "{\n",
    "    CountDn2 c{1335};\n",
    "    cout << \"Counter state: \" << c.getCount() << endl;\n",
    "    ++c; ++c; ++c;\n",
    "    cout << \"Counter state: \" << c.getCount() << endl;\n",
    "    --c; --c;\n",
    "    cout << \"Counter state: \" << c.getCount() << endl;\n",
    "}"
   ]
  },
  {
   "cell_type": "markdown",
   "metadata": {
    "slideshow": {
     "slide_type": "subslide"
    }
   },
   "source": [
    "## Inheriting Base Class Constructors (cont.)\n",
    "\n",
    "When you inherit constructors:\n",
    "\n",
    "- Each inherited constructor has the same access specifier (public, protected or private) as its corresponding base-class constructor.\n",
    "- The *default*, *copy* and *move* constructors are **not inherited**.\n",
    "- If a constructor is **deleted** in the base class by placing `= delete` in its prototype, the corresponding constructor in the derived class is **also deleted**.\n",
    "- If the derived class does not explicitly define constructors, the compiler still **generates a default constructor** in the derived class.\n",
    "- A given base-class constructor is **not inherited** if a constructor that you explicitly define in the derived class **has the same parameter list**.\n",
    "- A base-class constructor's *default* arguments are not inherited. Instead, the compiler generates overloaded constructors in the derived class."
   ]
  },
  {
   "cell_type": "code",
   "execution_count": 10,
   "metadata": {
    "slideshow": {
     "slide_type": "slide"
    }
   },
   "outputs": [],
   "source": [
    "class CountDn3 : public Counter // derived class\n",
    "{\n",
    "    // using Counter::Counter; // creates default constructors similar to ones from the base class\n",
    "private:\n",
    "    int calls;\n",
    "public:\n",
    "    CountDn3() : calls{0}, Counter() { cout << \"CountDn3: No-arg constructor\" << endl; }    // no-arg constructor        \n",
    "    CountDn3(int c) : calls{0}, Counter(c) { cout << \"CountDn3: constructor with \" << c << endl; } // 1-arg constructor\n",
    "    ~CountDn3() {cout << \"CountDn3: destructor\" << endl;}\n",
    "    \n",
    "    CountDn3& operator-- () {   // decr count (prefix)\n",
    "        --count;\n",
    "        calls++;\n",
    "        return *this;\n",
    "    }\n",
    "};"
   ]
  },
  {
   "cell_type": "markdown",
   "metadata": {
    "slideshow": {
     "slide_type": "slide"
    }
   },
   "source": [
    "## Constructors in Derived Classes\n",
    "\n",
    "- Instantiating a derived-class object begins a **chain of constructor calls** in which the derived-class constructor, before performing its own tasks, invokes its direct base class's constructor\n",
    "    - explicitly via a base-class member initializer\n",
    "    - implicitly via calling the base class’s default constructor\n",
    "    ```c++\n",
    "    CountDn3(int c) : Counter(c) {} // argument c is passed to Counter\n",
    "    ```\n",
    "- If the base class is derived from another class, the base-class constructor is required to invoke the constructor of the next class up in the hierarchy, and so on.\n",
    "- The last constructor called in this chain is the constructor of the class at the base of the hierarchy, whose body actually finishes executing **first**.\n",
    "- The most derived-class constructor’s body finishes executing **last**.\n",
    "- Each base-class constructor initializes the base-class data members that the derived-class object inherits."
   ]
  },
  {
   "cell_type": "code",
   "execution_count": 11,
   "metadata": {
    "slideshow": {
     "slide_type": "slide"
    }
   },
   "outputs": [
    {
     "name": "stdout",
     "output_type": "stream",
     "text": [
      "Counter: constructor with 17\n",
      "CountDn3: constructor with 17\n",
      "Counter state: 17\n",
      "Counter state: 20\n",
      "Counter state: 18\n",
      "CountDn3: destructor\n",
      "Counter: destructor\n"
     ]
    }
   ],
   "source": [
    "{\n",
    "    CountDn3 c{17};\n",
    "    cout << \"Counter state: \" << c.getCount() << endl;\n",
    "    ++c; ++c; ++c;\n",
    "    cout << \"Counter state: \" << c.getCount() << endl;\n",
    "    --c; --c;\n",
    "    cout << \"Counter state: \" << c.getCount() << endl;\n",
    "}"
   ]
  },
  {
   "cell_type": "markdown",
   "metadata": {
    "slideshow": {
     "slide_type": "slide"
    }
   },
   "source": [
    "## Derived-class Objects\n",
    "\n",
    "When a program creates a derived-class object:\n",
    "\n",
    "- the derived-class constructor immediately calls the base-class constructor\n",
    "- the base-class constructor's body executes\n",
    "- the derived class's member initializers execute\n",
    "- finally the derived-class constructor's body executes.\n",
    "\n",
    "This process cascades up the hierarchy if it contains more than two levels."
   ]
  },
  {
   "cell_type": "markdown",
   "metadata": {
    "slideshow": {
     "slide_type": "slide"
    }
   },
   "source": [
    "## Destructors in Derived Classes\n",
    "\n",
    "- When a *derived-class object is destroyed*, the program calls that **object's destructor**.\n",
    "- This begins a chain (or cascade) of destructor calls in which the derived-class destructor and the destructors of the direct and indirect base classes and the classes' members execute in **reverse of the order** in which the constructors executed.\n",
    "- When a derived-class object's destructor is called, the destructor performs its task, then invokes the destructor of the next base class up the hierarchy.\n",
    "- This process repeats until the destructor of the final base class at the top of the hierarchy is called.\n",
    "- Then the object is removed from memory."
   ]
  },
  {
   "cell_type": "markdown",
   "metadata": {
    "slideshow": {
     "slide_type": "slide"
    }
   },
   "source": [
    "## Overloaded Methods in Derived Classes\n",
    "\n",
    "- Base-class constructors, destructors and overloaded assignment operators are **not inherited** by *derived classes*.\n",
    "- Derived-class constructors, destructors and overloaded assignment operators **can call base-class versions**.\n"
   ]
  },
  {
   "cell_type": "markdown",
   "metadata": {
    "slideshow": {
     "slide_type": "slide"
    }
   },
   "source": [
    "## Public, Protected and Private Inheritance\n",
    "\n",
    "- When deriving a class from a base class, the base class may be inherited through `public`, `protected` or `private` inheritance.\n",
    "- Use of protected and private inheritance is *rare*.\n",
    "- A base class's private members are never accessible directly from a derived class, but can be accessed through calls to the public and protected members of the base class."
   ]
  },
  {
   "cell_type": "code",
   "execution_count": 12,
   "metadata": {
    "slideshow": {
     "slide_type": "slide"
    }
   },
   "outputs": [],
   "source": [
    "class A //base class\n",
    "{\n",
    "private:\n",
    "    int privdataA; //(functions have the same access\n",
    "protected:         // rules as the data shown here)\n",
    "    int protdataA;\n",
    "public:\n",
    "    int pubdataA;\n",
    "};"
   ]
  },
  {
   "cell_type": "code",
   "execution_count": 13,
   "metadata": {
    "slideshow": {
     "slide_type": "slide"
    }
   },
   "outputs": [],
   "source": [
    "class B : public A //publicly-derived class\n",
    "{\n",
    "public:\n",
    "    void funct()\n",
    "    {\n",
    "        int a;\n",
    "        //a = privdataA; //error: not accessible\n",
    "        a = protdataA; //OK\n",
    "        a = pubdataA;  //OK\n",
    "    }\n",
    "};"
   ]
  },
  {
   "cell_type": "code",
   "execution_count": 14,
   "metadata": {
    "slideshow": {
     "slide_type": "slide"
    }
   },
   "outputs": [],
   "source": [
    "class C : private A //privately-derived class\n",
    "{\n",
    "public:\n",
    "    void funct()\n",
    "    {\n",
    "        int a;\n",
    "        //a = privdataA; //error: not accessible\n",
    "        a = protdataA; //OK\n",
    "        a = pubdataA;  //OK\n",
    "    }\n",
    "};"
   ]
  },
  {
   "cell_type": "code",
   "execution_count": 15,
   "metadata": {
    "slideshow": {
     "slide_type": "fragment"
    }
   },
   "outputs": [
    {
     "name": "stderr",
     "output_type": "stream",
     "text": [
      "\u001b[1minput_line_22:9:13: \u001b[0m\u001b[0;1;31merror: \u001b[0m\u001b[1mcannot cast 'D' to its private base class '__cling_N512::A'\u001b[0m\n",
      "        a = pubdataA;  //error: not accessible\n",
      "\u001b[0;1;32m            ^\n",
      "\u001b[0m\u001b[1minput_line_21:1:11: \u001b[0m\u001b[0;1;30mnote: \u001b[0mdeclared private here\u001b[0m\n",
      "class C : private A //privately-derived class\n",
      "\u001b[0;1;32m          ^~~~~~~~~\n",
      "\u001b[0m\u001b[1minput_line_22:9:13: \u001b[0m\u001b[0;1;31merror: \u001b[0m\u001b[1m'pubdataA' is a private member of '__cling_N512::A'\u001b[0m\n",
      "        a = pubdataA;  //error: not accessible\n",
      "\u001b[0;1;32m            ^\n",
      "\u001b[0m\u001b[1minput_line_21:1:11: \u001b[0m\u001b[0;1;30mnote: \u001b[0mconstrained by private inheritance here\u001b[0m\n",
      "class C : private A //privately-derived class\n",
      "\u001b[0;1;32m          ^~~~~~~~~\n",
      "\u001b[0m\u001b[1minput_line_19:8:9: \u001b[0m\u001b[0;1;30mnote: \u001b[0mmember is declared here\u001b[0m\n",
      "    int pubdataA;\n",
      "\u001b[0;1;32m        ^\n",
      "\u001b[0m"
     ]
    },
    {
     "ename": "Interpreter Error",
     "evalue": "",
     "output_type": "error",
     "traceback": [
      "Interpreter Error: "
     ]
    }
   ],
   "source": [
    "class D : public C //public-derived class from privately-derived class\n",
    "{\n",
    "public:\n",
    "    void funct()\n",
    "    {\n",
    "        int a;\n",
    "        //a = privdataA; //error: not accessible\n",
    "        //a = protdataA; //error: not accessible\n",
    "        a = pubdataA;  //error: not accessible\n",
    "    }\n",
    "};"
   ]
  },
  {
   "cell_type": "code",
   "execution_count": 16,
   "metadata": {
    "scrolled": true,
    "slideshow": {
     "slide_type": "slide"
    }
   },
   "outputs": [],
   "source": [
    "{\n",
    "    int a;\n",
    "    B objB;\n",
    "    //a = objB.privdataA; //error: not accessible\n",
    "    //a = objB.protdataA; //error: not accessible\n",
    "    a = objB.pubdataA;  //OK (A public to B)\n",
    "}"
   ]
  },
  {
   "cell_type": "code",
   "execution_count": 17,
   "metadata": {
    "slideshow": {
     "slide_type": "fragment"
    }
   },
   "outputs": [
    {
     "name": "stderr",
     "output_type": "stream",
     "text": [
      "\u001b[1minput_line_24:7:9: \u001b[0m\u001b[0;1;31merror: \u001b[0m\u001b[1mcannot cast '__cling_N514::C' to its private base class '__cling_N512::A'\u001b[0m\n",
      "    a = objC.pubdataA;  //error: not accessible (A private to C)\n",
      "\u001b[0;1;32m        ^\n",
      "\u001b[0m\u001b[1minput_line_21:1:11: \u001b[0m\u001b[0;1;30mnote: \u001b[0mdeclared private here\u001b[0m\n",
      "class C : private A //privately-derived class\n",
      "\u001b[0;1;32m          ^~~~~~~~~\n",
      "\u001b[0m\u001b[1minput_line_24:7:14: \u001b[0m\u001b[0;1;31merror: \u001b[0m\u001b[1m'pubdataA' is a private member of '__cling_N512::A'\u001b[0m\n",
      "    a = objC.pubdataA;  //error: not accessible (A private to C)\n",
      "\u001b[0;1;32m             ^\n",
      "\u001b[0m\u001b[1minput_line_21:1:11: \u001b[0m\u001b[0;1;30mnote: \u001b[0mconstrained by private inheritance here\u001b[0m\n",
      "class C : private A //privately-derived class\n",
      "\u001b[0;1;32m          ^~~~~~~~~\n",
      "\u001b[0m\u001b[1minput_line_19:8:9: \u001b[0m\u001b[0;1;30mnote: \u001b[0mmember is declared here\u001b[0m\n",
      "    int pubdataA;\n",
      "\u001b[0;1;32m        ^\n",
      "\u001b[0m"
     ]
    },
    {
     "ename": "Interpreter Error",
     "evalue": "",
     "output_type": "error",
     "traceback": [
      "Interpreter Error: "
     ]
    }
   ],
   "source": [
    "{\n",
    "    int a;\n",
    "    C objC;\n",
    "    //a = objC.privdataA; //error: not accessible\n",
    "    //a = objC.protdataA; //error: not accessible\n",
    "    a = objC.pubdataA;  //error: not accessible (A private to C)\n",
    "}"
   ]
  },
  {
   "cell_type": "markdown",
   "metadata": {
    "slideshow": {
     "slide_type": "slide"
    }
   },
   "source": [
    "## Public and Private Derivation\n",
    "\n",
    "![Derivation](../img/Derivation.png)"
   ]
  },
  {
   "cell_type": "markdown",
   "metadata": {
    "slideshow": {
     "slide_type": "slide"
    }
   },
   "source": [
    "## Public, Protected and Private Inheritance\n",
    "\n",
    "![Accessibility](../img/Accessibility.png)"
   ]
  },
  {
   "cell_type": "markdown",
   "metadata": {
    "cell_style": "split",
    "slideshow": {
     "slide_type": "slide"
    }
   },
   "source": [
    "## Multiple Inheritance\n",
    "\n",
    "- A class can be derived from more than one base class. This is called multiple inheritance.\n",
    "- The base classes from which `C` is derived are listed following the colon in `C`’s specification;\n",
    "    - they are separated by commas.\n"
   ]
  },
  {
   "cell_type": "markdown",
   "metadata": {
    "cell_style": "split",
    "slideshow": {
     "slide_type": "fragment"
    }
   },
   "source": [
    "![MultipleInheritance](../img/MultipleInheritance.png)"
   ]
  },
  {
   "cell_type": "code",
   "execution_count": 18,
   "metadata": {
    "slideshow": {
     "slide_type": "slide"
    }
   },
   "outputs": [],
   "source": [
    "// The syntax for multiple inheritance is similar to that for single inheritance. \n",
    "class A1 // base class A\n",
    "{\n",
    "public:\n",
    "    int a;\n",
    "};\n",
    "\n",
    "class B2 // base class B\n",
    "{\n",
    "public:\n",
    "    int b;\n",
    "};\n",
    "\n",
    "class C3 : public A1, public B2 // C is derived from A and B\n",
    "{\n",
    "    void func(){\n",
    "        a = b;\n",
    "    }\n",
    "};"
   ]
  },
  {
   "cell_type": "code",
   "execution_count": 19,
   "metadata": {
    "slideshow": {
     "slide_type": "fragment"
    }
   },
   "outputs": [],
   "source": [
    "{\n",
    "    C3 c;\n",
    "    c.a = c.b;\n",
    "}"
   ]
  }
 ],
 "metadata": {
  "celltoolbar": "Slideshow",
  "kernelspec": {
   "display_name": "C++14",
   "language": "C++14",
   "name": "xcpp14"
  },
  "language_info": {
   "codemirror_mode": "text/x-c++src",
   "file_extension": ".cpp",
   "mimetype": "text/x-c++src",
   "name": "c++",
   "version": "14"
  },
  "rise": {
   "enable_chalkboard": true
  }
 },
 "nbformat": 4,
 "nbformat_minor": 2
}
