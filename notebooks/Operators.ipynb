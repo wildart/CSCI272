{
 "cells": [
  {
   "cell_type": "code",
   "execution_count": 1,
   "metadata": {
    "slideshow": {
     "slide_type": "skip"
    }
   },
   "outputs": [],
   "source": [
    "#include <iostream>\n",
    "#include <iomanip>   // for setw and setfill stream manipulators\n",
    "#include <stdexcept> // for invalid_argument exception class\n",
    "#include <sstream>   // for ostringstream class\n",
    "#include <string>\n",
    "using namespace std;"
   ]
  },
  {
   "cell_type": "markdown",
   "metadata": {
    "slideshow": {
     "slide_type": "slide"
    }
   },
   "source": [
    "# Operator Overloading"
   ]
  },
  {
   "cell_type": "markdown",
   "metadata": {
    "slideshow": {
     "slide_type": "slide"
    }
   },
   "source": [
    "## Example: Monomial"
   ]
  },
  {
   "cell_type": "code",
   "execution_count": 2,
   "metadata": {
    "slideshow": {
     "slide_type": "fragment"
    }
   },
   "outputs": [
    {
     "name": "stdout",
     "output_type": "stream",
     "text": [
      "3x^1\n",
      "-37.5x^7\n",
      "-27x^18\n"
     ]
    }
   ],
   "source": [
    "#include \"../src/monomial.hpp\"\n",
    "{\n",
    "    Monomial m1, m2( 2.0 ), m3( 12.5, 1 ), m4( -3.0 , 6);\n",
    "    m1.Add(m2); m1.Print();\n",
    "    m3.Multiply(m4); m3.Print();\n",
    "    m4.Exponent(3); m4.Print();\n",
    "}"
   ]
  },
  {
   "cell_type": "code",
   "execution_count": 3,
   "metadata": {
    "slideshow": {
     "slide_type": "fragment"
    }
   },
   "outputs": [
    {
     "name": "stdout",
     "output_type": "stream",
     "text": [
      "3x^1\n",
      "-37.5x^7\n",
      "-243x^30\n",
      "37.5x^2\n",
      "Cannot add monomials with different powers\n",
      "1x^1\n"
     ]
    }
   ],
   "source": [
    "{\n",
    "    Monomial m1, m2( 2.0 ), m3( 12.5, 1 ), m4( -3.0 , 6);\n",
    "    (m1 + m2).Print();\n",
    "    (m3 * m4).Print();\n",
    "    (m4^5).Print();\n",
    "    ((m1 + m2)*m3).Print();\n",
    "    (m1 + m2 * m3).Print();\n",
    "}"
   ]
  },
  {
   "cell_type": "markdown",
   "metadata": {
    "slideshow": {
     "slide_type": "slide"
    }
   },
   "source": [
    "## C++ Operators\n",
    "\n",
    "![](../img/op-precedence.png)"
   ]
  },
  {
   "cell_type": "markdown",
   "metadata": {
    "slideshow": {
     "slide_type": "slide"
    }
   },
   "source": [
    "## Operators & Classes\n",
    "\n",
    "C++ operators can work with class objects - a process called operator overloading.\n",
    "\n",
    "- One example of an overloaded operator built into C++ is **<<**, which is used both as the stream insertion operator and as the bitwise left-shift operator.\n",
    "\n",
    "- Similarly, **>>** also is overloaded; it’s used both as the stream extraction operator\n",
    "    - defined via operator overloading in the C++ Standard Library\n",
    "- and the bitwise right-shift operator\n",
    "    - defined as part of the C++ language."
   ]
  },
  {
   "cell_type": "code",
   "execution_count": 4,
   "metadata": {
    "slideshow": {
     "slide_type": "fragment"
    }
   },
   "outputs": [
    {
     "name": "stdout",
     "output_type": "stream",
     "text": [
      "defabc"
     ]
    }
   ],
   "source": [
    "{\n",
    "    string a{\"def\"};\n",
    "    string b{\"abc\"};\n",
    "    cout << a + b;\n",
    "}"
   ]
  },
  {
   "cell_type": "markdown",
   "metadata": {
    "slideshow": {
     "slide_type": "slide"
    }
   },
   "source": [
    "## Fundamentals Of Operator Overloading\n",
    "\n",
    "- **Overloaded operators** provide a concise notation for manipulating objects.\n",
    "- You can use operators with your **own user-defined types** as well.\n",
    "- Although C++ does **not allow new operators** to be created\n",
    "    - it does **allow most existing operators** to be overloaded so that, when they're used with objects, they have meaning appropriate to those objects.\n",
    "- Operators that cannot be overloaded: \n",
    "    - .\n",
    "    - .* (pointer to member)\n",
    "    - **::**\n",
    "    - **?:**\n",
    "- Operator **overloading is not automatic**\n",
    "    - you must write operator-overloading functions to perform the desired operations."
   ]
  },
  {
   "cell_type": "markdown",
   "metadata": {
    "slideshow": {
     "slide_type": "slide"
    }
   },
   "source": [
    "## Overloading Rules and Restrictions\n",
    "\n",
    "An operator's **precedence cannot be changed** by overloading.\n",
    "- However, parentheses can be used to force the order of evaluation of overloaded operators in an expression.\n",
    "\n",
    "An operator's **associativity cannot be changed** by overloading\n",
    "- if an operator normally associates from left to right, then so do all of its overloaded versions.\n",
    "\n",
    "An operator's **\"arity\" cannot be change** overloaded\n",
    "- arity - the number of operands an operator takes\n",
    "- unary operators remain unary operators\n",
    "- overloaded binary operators remain binary operators.\n",
    "\n",
    "Operators &, *, + and - all have both unary and binary versions\n",
    "- these unary and binary versions can be separately overloaded."
   ]
  },
  {
   "cell_type": "markdown",
   "metadata": {
    "slideshow": {
     "slide_type": "slide"
    }
   },
   "source": [
    "## Overloading Rules and Restrictions (cont.)\n",
    "\n",
    "- Only **existing** operators can be overloaded.\n",
    "\n",
    "- You cannot overload operators to change how an operator works for fundamental type values\n",
    "    - For example, you cannot make the + operator subtract two ints.\n",
    "    - Operator overloading works only with objects of user-defined types or with a mixture of an object of a user-defined type and an object of a fundamental type."
   ]
  },
  {
   "cell_type": "markdown",
   "metadata": {
    "slideshow": {
     "slide_type": "slide"
    }
   },
   "source": [
    "## Overloading Rules and Restrictions (cont.)\n",
    "\n",
    "- Related operators, like + and +=, **must be** overloaded separately.\n",
    "\n",
    "- When overloading `()`, `[]`, `->` or any of the assignment operators, the operator overloading function **must be** declared as a **class member**.\n",
    "    - For all other overloadable operators, the operator overloading functions can be member functions or non-member functions."
   ]
  },
  {
   "cell_type": "markdown",
   "metadata": {
    "slideshow": {
     "slide_type": "slide"
    }
   },
   "source": [
    "## Overloading Binary Operators\n",
    "\n",
    "A **binary operator** can be overloaded\n",
    "- as a **non-static member** function with one parameter, or\n",
    "- as a **non-member function** with two parameters\n",
    "    - one of those parameters must be either a class object or a reference to a class object\n",
    "\n",
    "As a non-member function, binary operator `<` must take two arguments\n",
    "- one of which must be an object (or a reference to an object) of the class."
   ]
  },
  {
   "cell_type": "markdown",
   "metadata": {
    "slideshow": {
     "slide_type": "skip"
    }
   },
   "source": [
    "[Class with Binary Operations](../src/ClassWithBinOp.cpp)\n",
    "- Download code form the repository [ClassWithBinOp.cpp](https://github.com/wildart/CSCI272/blob/main/src/ClassWithBinOp.cpp)"
   ]
  },
  {
   "cell_type": "code",
   "execution_count": 19,
   "metadata": {
    "slideshow": {
     "slide_type": "slide"
    }
   },
   "outputs": [],
   "source": [
    "class ClassWithBinOp {\n",
    "    int x;\n",
    "public:\n",
    "    ClassWithBinOp(int v): x{v}{}\n",
    "    int getX() const {\n",
    "        return x;\n",
    "    }\n",
    "    bool operator<(const ClassWithBinOp& v) const {\n",
    "        return this->x < v.x;\n",
    "    }\n",
    "};"
   ]
  },
  {
   "cell_type": "code",
   "execution_count": null,
   "metadata": {
    "slideshow": {
     "slide_type": "fragment"
    }
   },
   "outputs": [],
   "source": [
    "bool operator>(const ClassWithBinOp& v, const ClassWithBinOp& w){\n",
    "    return v.getX() > w.getX();\n",
    "}"
   ]
  },
  {
   "cell_type": "code",
   "execution_count": 23,
   "metadata": {
    "slideshow": {
     "slide_type": "fragment"
    }
   },
   "outputs": [
    {
     "name": "stdout",
     "output_type": "stream",
     "text": [
      "6\n"
     ]
    }
   ],
   "source": [
    "{\n",
    "    ClassWithBinOp a{2};\n",
    "    ClassWithBinOp b{1};\n",
    "    cout << boolalpha << (a < b) << endl;\n",
    "    cout << boolalpha << (a.operator<(b)) << endl;    \n",
    "//     cout << boolalpha << (a>b) << endl;\n",
    "}"
   ]
  },
  {
   "cell_type": "markdown",
   "metadata": {
    "slideshow": {
     "slide_type": "slide"
    }
   },
   "source": [
    "## Commutativity of Binary Operators\n",
    "\n",
    "- By default, overloaded binary operators are **not commutative**, e.g.\n",
    "    - For an overload operator `+` as a member function, the only possible way to use this operator when the first operand is an object of the class, `obj + 1`.\n",
    "        - `operator+(const ClassWithBinOp& obj)`\n",
    "    - An operator call with the first parameter that is not an object of the class, `1 + obj`, have to be realized as a non-member function.\n",
    "        - `operator+(int y, const ClassWithBinOp& obj)`\n",
    "        \n",
    "-  For the operator commutativity, two version of the overloaded operator must be provided with corresponding ordering of the operator function parameters"
   ]
  },
  {
   "cell_type": "code",
   "execution_count": null,
   "metadata": {
    "slideshow": {
     "slide_type": "fragment"
    }
   },
   "outputs": [],
   "source": [
    "int operator+(const int& y, const ClassWithBinOp& obj) const {\n",
    "    return y + obj.getX();\n",
    "}\n",
    "int operator+(const ClassWithBinOp& obj, const int& y) const {\n",
    "    return obj.getX() + y;\n",
    "}"
   ]
  },
  {
   "cell_type": "markdown",
   "metadata": {
    "slideshow": {
     "slide_type": "slide"
    }
   },
   "source": [
    "## Overloading the Binary Stream Operators\n",
    "\n",
    "- You can input and output fundamental-type data using:\n",
    "    - the stream extraction operator >> \n",
    "    - the stream insertion operator <<\n",
    "    \n",
    "- The C++ class libraries overload these binary operators for **each fundamental type**\n",
    "    - including pointers and char * strings.\n",
    "\n",
    "- You can also overload these operators to perform input and output for your own types"
   ]
  },
  {
   "cell_type": "markdown",
   "metadata": {
    "slideshow": {
     "slide_type": "slide"
    }
   },
   "source": [
    "[Class with Stream Operations](../src/ClassWithStreamOp.cpp)\n",
    "- Download code form the repository [ClassWithStreamOp.cpp](https://github.com/wildart/CSCI272/blob/main/src/ClassWithStreamOp.cpp)"
   ]
  },
  {
   "cell_type": "code",
   "execution_count": 2,
   "metadata": {
    "slideshow": {
     "slide_type": "fragment"
    }
   },
   "outputs": [],
   "source": [
    "class ClassWithStreamOp {\n",
    "    friend std::ostream& operator<<(std::ostream&, const ClassWithStreamOp&);\n",
    "private:\n",
    "    int x;\n",
    "public:    \n",
    "    ClassWithStreamOp(int v): x{v}{}    \n",
    "};"
   ]
  },
  {
   "cell_type": "code",
   "execution_count": null,
   "metadata": {
    "slideshow": {
     "slide_type": "fragment"
    }
   },
   "outputs": [],
   "source": [
    "// overloaded stream insertion operator; cannot be a member function\n",
    "// if we would like to invoke it with cout << ClassWithStreamOp;\n",
    "ostream& operator<<(ostream& output, const ClassWithStreamOp& obj) {\n",
    "    output << \"Object field 'x': \" << obj.x;\n",
    "    return output;\n",
    "}"
   ]
  },
  {
   "cell_type": "code",
   "execution_count": null,
   "metadata": {
    "slideshow": {
     "slide_type": "fragment"
    }
   },
   "outputs": [],
   "source": [
    "{\n",
    "    ClassWithStreamOp obj{10};\n",
    "    cout << obj << endl;\n",
    "}"
   ]
  },
  {
   "cell_type": "markdown",
   "metadata": {
    "slideshow": {
     "slide_type": "slide"
    }
   },
   "source": [
    "## Tips\n",
    "\n",
    "- Overloaded operators **should mimic** the functionality of their built-in counterparts\n",
    "    - the `+` operator should perform addition, not subtraction.\n",
    "\n",
    "- Avoid excessive or inconsistent use of operator overloading, as this can make a program cryptic and difficult to read."
   ]
  },
  {
   "cell_type": "markdown",
   "metadata": {
    "slideshow": {
     "slide_type": "slide"
    }
   },
   "source": [
    "## Overloading Unary Operators\n",
    "\n",
    "- A unary operator for a class can be overloaded as\n",
    "    - a non-static member function with no arguments\n",
    "    - as a non-member function with one argument that **must be** an object (or a reference to an object) of the class.\n",
    "- A unary operator such as **!** may be overloaded as **a non-member function** with one parameter."
   ]
  },
  {
   "cell_type": "code",
   "execution_count": 24,
   "metadata": {
    "slideshow": {
     "slide_type": "slide"
    }
   },
   "outputs": [],
   "source": [
    "class ClassWithUnaryOp {\n",
    "    int x;\n",
    "public:\n",
    "    ClassWithUnaryOp(int v): x{v}{}\n",
    "    int operator!() const {\n",
    "        return x*x;\n",
    "    }\n",
    "};\n",
    "\n",
    "// int operator!(const ClassWithUnaryOp &obj) const {\n",
    "//     return obj.x*obj.x;\n",
    "// }"
   ]
  },
  {
   "cell_type": "code",
   "execution_count": 26,
   "metadata": {
    "slideshow": {
     "slide_type": "fragment"
    }
   },
   "outputs": [
    {
     "name": "stdout",
     "output_type": "stream",
     "text": [
      "64"
     ]
    }
   ],
   "source": [
    "{\n",
    "    ClassWithUnaryOp obj{8};\n",
    "    cout << !obj;\n",
    "}"
   ]
  },
  {
   "cell_type": "markdown",
   "metadata": {
    "slideshow": {
     "slide_type": "slide"
    }
   },
   "source": [
    "## Overloading the ++ and --\n",
    "\n",
    "- The prefix and postfix versions of the increment and decrement operators can all be overloaded.\n",
    "- To overload the increment operator to allow both prefix and postfix increment usage, each overloaded operator function must have a distinct signature\n",
    "    - the compiler will be able to determine which version of ++ is intended.\n",
    "- The prefix versions are overloaded exactly as any other prefix unary operator would be"
   ]
  },
  {
   "cell_type": "markdown",
   "metadata": {
    "slideshow": {
     "slide_type": "slide"
    }
   },
   "source": [
    "## Overloading Prefix Operations\n",
    "\n",
    "- When the compiler sees the preincrementing expression `++obj`\n",
    "    - the overloaded operator is defined as a member function, and the compiler generates the member-function call\n",
    "        - `obj.operator++()`\n",
    "    - the prototype for this operator function would be\n",
    "        - `MyClass& operator++();`\n",
    "- If the prefix increment operator is implemented as a non-member function, then the compiler generates the function call\n",
    "    - `operator++( obj )`\n",
    "    - the prototype for this operator function would be declared in the `MyClass` class as \n",
    "        - `MyClass& operator++( MyClass& );`"
   ]
  },
  {
   "cell_type": "code",
   "execution_count": 28,
   "metadata": {
    "slideshow": {
     "slide_type": "slide"
    }
   },
   "outputs": [],
   "source": [
    "class ClassWithIncOp {\n",
    "    int x;\n",
    "public:\n",
    "    ClassWithIncOp(int v): x{v}{}\n",
    "    int getX() const { return x;}\n",
    "    ClassWithIncOp& operator++(){\n",
    "        // increment object\n",
    "        x = x + 1;\n",
    "        // reference return to create an lvalue\n",
    "        return *this;\n",
    "    }\n",
    "};"
   ]
  },
  {
   "cell_type": "code",
   "execution_count": 29,
   "metadata": {
    "slideshow": {
     "slide_type": "fragment"
    }
   },
   "outputs": [
    {
     "name": "stdout",
     "output_type": "stream",
     "text": [
      "Before increment: 7\n",
      "8\n",
      "After increment: 8\n"
     ]
    }
   ],
   "source": [
    "{\n",
    "    ClassWithIncOp a{7};\n",
    "    cout << \"Before increment: \"<< a.getX() << endl;\n",
    "    cout << (++a).getX() << endl;\n",
    "    cout << \"After increment: \"<< a.getX() << endl;\n",
    "}"
   ]
  },
  {
   "cell_type": "markdown",
   "metadata": {
    "slideshow": {
     "slide_type": "slide"
    }
   },
   "source": [
    "## Overloading Postfix Operators\n",
    "\n",
    "Overloading the postfix increment operator presents a challenge, because the compiler **must be able to distinguish** between the signatures of the overloaded prefix and postfix increment operator functions.\n",
    "\n",
    "- The convention that has been adopted in C++ is that, when the compiler sees the postincrementiang expression `obj++`, it generates the member-function call\n",
    "    - `obj.operator++(0)`\n",
    "    - the prototype for this function is `MyClass operator++(int)`\n",
    "    \n",
    "- The argument **0** is strictly a **\"dummy value\"** that enables the compiler to distinguish between the prefix and postfix increment operator functions.\n",
    "    - The same syntax is used to differentiate between the prefix and postfix decrement operator functions."
   ]
  },
  {
   "cell_type": "code",
   "execution_count": 33,
   "metadata": {
    "slideshow": {
     "slide_type": "slide"
    }
   },
   "outputs": [],
   "source": [
    "class ClassWithIncOp2 {\n",
    "    int x;\n",
    "public:\n",
    "    ClassWithIncOp2(int v): x{v}{}\n",
    "    int getX() {return x;}\n",
    "    ClassWithIncOp2 operator++(int){\n",
    "        // hold current state of object\n",
    "        ClassWithIncOp2 tmp{*this}; // copy constructor call\n",
    "        // increment object\n",
    "        x = x + 1;\n",
    "        // return unincremented, saved, temporary object\n",
    "        return tmp; // value return; not a reference return\n",
    "    }\n",
    "};"
   ]
  },
  {
   "cell_type": "code",
   "execution_count": 34,
   "metadata": {
    "slideshow": {
     "slide_type": "fragment"
    }
   },
   "outputs": [
    {
     "name": "stdout",
     "output_type": "stream",
     "text": [
      "Before increment: 7\n",
      "7\n",
      "After increment: 8\n"
     ]
    }
   ],
   "source": [
    "{\n",
    "    ClassWithIncOp2 a{7};\n",
    "    cout << \"Before increment: \"<< a.getX() << endl;\n",
    "    cout << (a++).getX() << endl;\n",
    "    cout << \"After increment: \"<< a.getX() << endl;\n",
    "}"
   ]
  },
  {
   "cell_type": "markdown",
   "metadata": {
    "slideshow": {
     "slide_type": "slide"
    }
   },
   "source": [
    "## Overloaded Subscript Operators\n",
    "\n",
    "- When the compiler sees the expression with `obj[5]`, it invokes the appropriate overloaded `operator[]` member function by generating the call, e.g.\n",
    "\n",
    "```cpp\n",
    "    obj.operator[](5)\n",
    "```\n",
    "\n",
    "- Each definition of `operator[]` determines whether the subscript it receives as an argument is in range, and if not, each throws an `out_of_range` exception.\n",
    "    - If the subscript is in range, the non-`const` version of `operator[]` returns the appropriate element as\n",
    "a reference so that it may be used as a modifiable `lvalue` (e.g., on the left side of an assignment statement). \n",
    "    - If the subscript is in range, the `const` version of `operator[]` returns a copy of the appropriate element."
   ]
  },
  {
   "cell_type": "code",
   "execution_count": 35,
   "metadata": {
    "slideshow": {
     "slide_type": "slide"
    }
   },
   "outputs": [],
   "source": [
    "class ClassWithSubOp {\n",
    "    int x;\n",
    "public:\n",
    "    ClassWithSubOp(int v): x{v}{}\n",
    "    int getX() {return x;}\n",
    "    int operator[](int i) const {\n",
    "        return x+i; // value return; not a reference return\n",
    "    }\n",
    "};"
   ]
  },
  {
   "cell_type": "code",
   "execution_count": 36,
   "metadata": {
    "slideshow": {
     "slide_type": "fragment"
    }
   },
   "outputs": [
    {
     "name": "stdout",
     "output_type": "stream",
     "text": [
      "Value of the `obj.x`: 10\n",
      "Value of the `obj[5]`: 15\n"
     ]
    }
   ],
   "source": [
    "{\n",
    "    ClassWithSubOp obj{10};\n",
    "    cout << \"Value of the `obj.x`: \"<< obj.getX() << endl;\n",
    "    cout << \"Value of the `obj[5]`: \"<< obj[5] << endl;\n",
    "}"
   ]
  },
  {
   "cell_type": "markdown",
   "metadata": {
    "slideshow": {
     "slide_type": "slide"
    }
   },
   "source": [
    "## Overloading the Function Call Operator\n",
    "\n",
    "- Overloading the **function call operator ()** is powerful, because functions can take an arbitrary number of comma-separated parameters.\n",
    "- The overloaded function call operator must be a non-static member function. For example:\n",
    "```cpp\n",
    "Class operator()(int param1, bool param2)\n",
    "```\n",
    "- When the compiler encounters the expression `class_obj(2, false)` , it generates the member-function call\n",
    "```cpp\n",
    "class_obj.operator()(2, false)\n",
    "```"
   ]
  },
  {
   "cell_type": "code",
   "execution_count": 37,
   "metadata": {
    "slideshow": {
     "slide_type": "slide"
    }
   },
   "outputs": [],
   "source": [
    "class ClassWithCall {\n",
    "    int x;\n",
    "public:\n",
    "    ClassWithCall(int v): x{v}{}\n",
    "    int getX() {return x;}\n",
    "    int operator()(int i) const {\n",
    "        return x+i;\n",
    "    }\n",
    "};"
   ]
  },
  {
   "cell_type": "code",
   "execution_count": 38,
   "metadata": {
    "slideshow": {
     "slide_type": "fragment"
    }
   },
   "outputs": [
    {
     "name": "stdout",
     "output_type": "stream",
     "text": [
      "Value of the `obj.x`: 10\n",
      "Value of the `obj(5)`: 15\n"
     ]
    }
   ],
   "source": [
    "{\n",
    "    ClassWithCall obj{10};\n",
    "    cout << \"Value of the `obj.x`: \"<< obj.getX() << endl;\n",
    "    cout << \"Value of the `obj(5)`: \"<< obj(5) << endl;\n",
    "}"
   ]
  }
 ],
 "metadata": {
  "celltoolbar": "Slideshow",
  "kernelspec": {
   "display_name": "C++14",
   "language": "C++14",
   "name": "xcpp14"
  },
  "language_info": {
   "codemirror_mode": "text/x-c++src",
   "file_extension": ".cpp",
   "mimetype": "text/x-c++src",
   "name": "c++",
   "version": "14"
  },
  "rise": {
   "enable_chalkboard": true
  }
 },
 "nbformat": 4,
 "nbformat_minor": 2
}
