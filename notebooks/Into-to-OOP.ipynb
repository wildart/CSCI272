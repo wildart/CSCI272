{
 "cells": [
  {
   "cell_type": "code",
   "execution_count": 1,
   "metadata": {
    "slideshow": {
     "slide_type": "skip"
    }
   },
   "outputs": [],
   "source": [
    "// Load required libraries for notebook code\n",
    "#include <string> // enable program to use C++ string data type\n",
    "#include <iostream>\n",
    "using namespace std;"
   ]
  },
  {
   "cell_type": "markdown",
   "metadata": {
    "slideshow": {
     "slide_type": "slide"
    }
   },
   "source": [
    "# Introduction to Object-Oriented Programming (OOP)"
   ]
  },
  {
   "cell_type": "markdown",
   "metadata": {
    "slideshow": {
     "slide_type": "slide"
    }
   },
   "source": [
    "## Learning Objectives\n",
    "\n",
    "- Begin programming with the object-oriented concepts: **abstraction**.\n",
    "- Define a **class** and use it to create an object.\n",
    "- Implement a class's behaviors as **member functions**.\n",
    "- Implement a class's attributes as **data members**.\n",
    "- Call an object's member functions to make them perform their tasks.\n",
    "- Encapsulation: Access and manipulate **private** data members through their corresponding **public** functions.\n",
    "- Learn what local variables of a member function are and how they differ from data members of a class.\n",
    "- Use a **constructor** to initialize an object’s data.\n",
    "- Become familiar with **UML class diagrams**."
   ]
  },
  {
   "cell_type": "markdown",
   "metadata": {
    "slideshow": {
     "slide_type": "slide"
    }
   },
   "source": [
    "## Object-Oriented Programming\n",
    "\n",
    "Object-oriented languages are defined by the following:\n",
    "- data abstraction & composition\n",
    "- encapsulation\n",
    "- inheritance\n",
    "- polymorphism"
   ]
  },
  {
   "cell_type": "markdown",
   "metadata": {
    "slideshow": {
     "slide_type": "slide"
    }
   },
   "source": [
    "## Abstraction of Complex Systems\n",
    "\n",
    "- In nature, various complex systems usually exibit some degree of hierarchy.\n",
    "- The levels of this hierarchy represent different levels of abstraction\n",
    "    - each built upon the other, and each understandable by itself.  \n",
    "- At each level of abstraction, we find a collection of devices that collaborate to provide services to higher layers.\n",
    "- All parts at the same level of abstraction interact in well-defined ways.\n",
    "- There is a clear separation of concerns among the parts at different levels of abstraction.\n"
   ]
  },
  {
   "cell_type": "markdown",
   "metadata": {
    "slideshow": {
     "slide_type": "slide"
    }
   },
   "source": [
    "## Hierarchies\n",
    "\n",
    "<table>\n",
    "    <tbody>\n",
    "        <tr>\n",
    "        </tr>\n",
    "        <tr>\n",
    "            <td style=\"width:40%; float: left; \">\n",
    "                <div style=\"font-size: medium; text-align:left\">\n",
    "                 Decomposition represents a structural, or <b>\"part of\"</b> hierarchy.\n",
    "                <ul>\n",
    "                    <li>an aircraft may be studied by decomposing it into its propulsion system, etc.</li>\n",
    "                    <li><b>object structure</b></li>\n",
    "                </ul>\n",
    "                <p/>\n",
    "                In an entirely orthogonal way, relationship between abstractions creates <b>\"is a\"</b> hierarchy.\n",
    "                <ul>\n",
    "                    <li>a turbofan engine is simply a specialized kind of jet engine.</li>\n",
    "                    <li><b>class structure</b></li>\n",
    "                </ul>\n",
    "                </div>\n",
    "            </td>\n",
    "            <td style=\"width:60%; float: left;\">\n",
    "                <img src=\"../img/Hierarchies.png\"/>\n",
    "            </td>\n",
    "        </tr>\n",
    "    </tbody>\n",
    "</table>"
   ]
  },
  {
   "cell_type": "markdown",
   "metadata": {
    "slideshow": {
     "slide_type": "slide"
    }
   },
   "source": [
    "## Towards a higher level of abstraction\n",
    "\n",
    "<img src=\"../img/Layers-of-Abstraction.jpg\" style=\"width:800px;margin: auto;padding-top:20px\"/>"
   ]
  },
  {
   "cell_type": "markdown",
   "metadata": {
    "slideshow": {
     "slide_type": "slide"
    }
   },
   "source": [
    "## There Are Always Trade-Offs\n",
    "\n",
    "High-level languages\n",
    "- simpler to write & understand\n",
    "- more library support, data structures\n",
    "\n",
    "Low-level languages\n",
    "- closer to hardware\n",
    "- more efficient (but also dangerous!)\n",
    "\n",
    "What about C++?"
   ]
  },
  {
   "cell_type": "markdown",
   "metadata": {
    "slideshow": {
     "slide_type": "slide"
    }
   },
   "source": [
    "## What are objects?\n",
    "\n",
    "**Objects** model elements of the problem context.\n",
    "\n",
    "Each object has:\n",
    "- characteristics\n",
    "- responsibilities (or required behaviors)\n",
    "\n",
    "Example:\n",
    "- **Problem:** Design and build a computer hockey game\n",
    "- **Object:** Hockey player\n",
    "- **Characteristics:** Position, height, weight, salary, number of goals\n",
    "- **Responsibilities:** Pass the puck, shoot, skate forward, skate backward, punch another player, etc.\n"
   ]
  },
  {
   "cell_type": "markdown",
   "metadata": {
    "slideshow": {
     "slide_type": "slide"
    }
   },
   "source": [
    "## Example\n",
    "\n",
    "**Problem:** Computation modeling in biology\n",
    "\n",
    "**Description:**\n",
    "Write a program that simulates the growth of parasite population in an animal over time. Each parasite organism reproduces itself at some time interval. Animals may undergo drug treatment to inhibit the reproduction process, and clear the parasites from their body. However, some of the parasite are resistant to drugs and may survive."
   ]
  },
  {
   "cell_type": "markdown",
   "metadata": {
    "slideshow": {
     "slide_type": "fragment"
    }
   },
   "source": [
    "- What are **objects**?\n",
    "- **Characteristics?**\n",
    "- **Responsibilities?**"
   ]
  },
  {
   "cell_type": "markdown",
   "metadata": {
    "slideshow": {
     "slide_type": "slide"
    }
   },
   "source": [
    "**Description:**\n",
    "\n",
    "Write a program that simulates the growth of **parasite population in an animal** over time. Each parasite organism **reproduces itself** at **some time interval**. Animals may **undergo drug treatment** to inhibit the reproduction process, and clear the parasites from their body. However, some of the parasite are **resistant to drugs** and **may survive**."
   ]
  },
  {
   "cell_type": "markdown",
   "metadata": {
    "slideshow": {
     "slide_type": "fragment"
    }
   },
   "source": [
    "Animal\n",
    "- Characteristics: parasite population, immunity to parasites (%)\n",
    "- Responsibilities: undergo treatment \n",
    "\n",
    "Parasite\n",
    "- Characteristics: reproduction rate (%), resistance (%)\n",
    "- Responsibilities: reproduce, survive"
   ]
  },
  {
   "cell_type": "markdown",
   "metadata": {
    "slideshow": {
     "slide_type": "slide"
    }
   },
   "source": [
    "## Questions "
   ]
  },
  {
   "cell_type": "markdown",
   "metadata": {
    "slideshow": {
     "slide_type": "fragment"
    }
   },
   "source": [
    "- Why didn’t we model an object named Doctor?"
   ]
  },
  {
   "cell_type": "markdown",
   "metadata": {
    "slideshow": {
     "slide_type": "fragment"
    }
   },
   "source": [
    "- Doesn’t every animal have other characteristics?"
   ]
  },
  {
   "cell_type": "markdown",
   "metadata": {
    "slideshow": {
     "slide_type": "slide"
    }
   },
   "source": [
    "# Basic OOP in C++"
   ]
  },
  {
   "cell_type": "markdown",
   "metadata": {
    "slideshow": {
     "slide_type": "slide"
    }
   },
   "source": [
    "## Classes\n",
    "\n",
    "A **class** is like a **cookie cutter**\n",
    "- it defines the shape of objects\n",
    "\n",
    "**Objects** are like **cookies**\n",
    "- they are instances of the class\n",
    "\n",
    "<img src=\"../img/Cookies.jpg\" style=\"width:500px;margin: auto;padding-top:20px\"/>\n",
    "\n",
    "Photograph courtesy of [Guillaume Brialon](https://www.flickr.com/photos/guillaumebrialon/3213750216/) on Flickr."
   ]
  },
  {
   "cell_type": "markdown",
   "metadata": {
    "slideshow": {
     "slide_type": "slide"
    }
   },
   "source": [
    "## Classes (cont.)\n",
    "\n",
    "**Class** is a **user-defined data type** which \n",
    "- holds its own data members and member functions,\n",
    "- can be accessed and used by creating an instance of that class.\n",
    "\n",
    "A class is like a *blueprint* for an **object**.\n",
    "- Each class you create becomes a **new type** you can use to create objects, so C++ is an extensible programming language.\n",
    "\n",
    "Classes cannot execute by themselves\n",
    "  - A *Person object* can drive a *Car object* by telling it what to do (go faster, go slower, turn left, turn right, etc.) - without knowing how the car’s internal mechanisms work.\n",
    "  - Similarly, the main function can \"drive\" an Account object by calling its member functions - without knowing how the class is implemented.\n"
   ]
  },
  {
   "cell_type": "markdown",
   "metadata": {
    "slideshow": {
     "slide_type": "slide"
    }
   },
   "source": [
    "## C Syntax: Structures\n",
    "\n",
    "A data structure is a group of *data elements* grouped together under one name.\n",
    "- These data elements, known as **members**, can have different types and different lengths.\n",
    "\n",
    "Data structures can be declared in C++ using the following syntax:\n",
    "```cpp\n",
    "struct type_name {\n",
    "    member_type1 member_name1;\n",
    "    member_type2 member_name2;\n",
    "    ...\n",
    "} [object_names];\n",
    "```\n",
    "- **type_name** is a name for the structure type\n",
    "- **object_name** can be a set of valid identifiers for objects that have the type of this structure\n",
    "- within **braces {}**, there is a list with the **data members**, each one is specified with a type and a valid identifier as its name."
   ]
  },
  {
   "cell_type": "code",
   "execution_count": 2,
   "metadata": {
    "slideshow": {
     "slide_type": "slide"
    }
   },
   "outputs": [],
   "source": [
    "struct Car {\n",
    "    float speed;\n",
    "    int wheels;\n",
    "} mycar;"
   ]
  },
  {
   "cell_type": "code",
   "execution_count": 3,
   "metadata": {
    "slideshow": {
     "slide_type": "fragment"
    }
   },
   "outputs": [
    {
     "data": {
      "text/plain": [
       "0.00000f"
      ]
     },
     "execution_count": 3,
     "metadata": {},
     "output_type": "execute_result"
    }
   ],
   "source": [
    "mycar.speed"
   ]
  },
  {
   "cell_type": "code",
   "execution_count": 4,
   "metadata": {
    "slideshow": {
     "slide_type": "fragment"
    }
   },
   "outputs": [
    {
     "data": {
      "text/plain": [
       "0"
      ]
     },
     "execution_count": 4,
     "metadata": {},
     "output_type": "execute_result"
    }
   ],
   "source": [
    "mycar.wheels"
   ]
  },
  {
   "cell_type": "code",
   "execution_count": 5,
   "metadata": {
    "slideshow": {
     "slide_type": "fragment"
    }
   },
   "outputs": [
    {
     "data": {
      "text/plain": [
       "10.6000f"
      ]
     },
     "execution_count": 5,
     "metadata": {},
     "output_type": "execute_result"
    }
   ],
   "source": [
    "int a{12};\n",
    "Car car3{10.6, 2};\n",
    "car3.speed"
   ]
  },
  {
   "cell_type": "code",
   "execution_count": 6,
   "metadata": {
    "scrolled": true,
    "slideshow": {
     "slide_type": "fragment"
    }
   },
   "outputs": [
    {
     "name": "stdout",
     "output_type": "stream",
     "text": [
      "wheels: 2\n",
      "car3.wheels: 10\n",
      "car3.speed: 10.6\n"
     ]
    }
   ],
   "source": [
    "{\n",
    "    int nwheels = car3.wheels;\n",
    "    cout << \"wheels: \" << nwheels << endl;\n",
    "    car3.wheels = 10;\n",
    "    cout << \"car3.wheels: \" << car3.wheels << endl;\n",
    "    cout << \"car3.speed: \" << car3.speed << endl;\n",
    "}"
   ]
  },
  {
   "cell_type": "code",
   "execution_count": null,
   "metadata": {
    "slideshow": {
     "slide_type": "skip"
    }
   },
   "outputs": [],
   "source": [
    "#include <iostream>\n",
    "using namespace std;\n",
    "\n",
    "struct Car {\n",
    "    float speed;\n",
    "    int wheels;\n",
    "};\n",
    "\n",
    "// void printCar(float speed, int wheels){\n",
    "//     cout << \"car.speed: \" << speed << endl;\n",
    "//     cout << \"car.wheels: \" << wheels << endl;\n",
    "// }\n",
    "\n",
    "void printCar(Car car){\n",
    "    cout << \"car.speed: \" << car.speed << endl;\n",
    "    cout << \"car.wheels: \" << car.wheels << endl;\n",
    "}\n",
    "\n",
    "Car createCar(){\n",
    "    Car tmp{10.5, 6};\n",
    "    return tmp;\n",
    "}\n",
    "\n",
    "int main()\n",
    "{\n",
    "    Car car3{11.5, 4};\n",
    "    \n",
    "    int b = car3.wheels;\n",
    "    cout << \"b: \" << b << endl;\n",
    "    car3.wheels = 10;\n",
    "    printCar(car3); //printCar(car3.speed, car3.wheels);\n",
    "    Car car4 = createCar();\n",
    "    printCar(car4);\n",
    "\n",
    "    return 0;\n",
    "}"
   ]
  },
  {
   "cell_type": "markdown",
   "metadata": {
    "slideshow": {
     "slide_type": "slide"
    }
   },
   "source": [
    "## C++ Syntax: Classes\n",
    "\n",
    "Classes are defined using either keyword **class** or keyword **struct**, with the following syntax:\n",
    "\n",
    "```cpp\n",
    "class class_name {\n",
    "  access_modifier_1:\n",
    "    member1;\n",
    "  access_modifier_2:\n",
    "    member2;\n",
    "  ...\n",
    "} [object_names];\n",
    "```\n",
    "\n",
    "- **class_name** is a valid identifier for the class type\n",
    "- **object_names** is an optional list of names for objects of this class\n",
    "\n",
    "The body of the declaration can contain **members**, which can either be *data* (field) or *function* declarations, and optionally **access modifiers (specifiers)**."
   ]
  },
  {
   "cell_type": "code",
   "execution_count": 7,
   "metadata": {
    "slideshow": {
     "slide_type": "slide"
    }
   },
   "outputs": [],
   "source": [
    "class One {\n",
    "    int x;\n",
    "public:    \n",
    "    void setValue(int a){ \n",
    "        x = a; \n",
    "    }\n",
    "    int getValue(){\n",
    "      return x;  \n",
    "    }\n",
    "};"
   ]
  },
  {
   "cell_type": "code",
   "execution_count": 8,
   "metadata": {
    "scrolled": true,
    "slideshow": {
     "slide_type": "fragment"
    }
   },
   "outputs": [
    {
     "name": "stderr",
     "output_type": "stream",
     "text": [
      "\u001b[1minput_line_21:4:17: \u001b[0m\u001b[0;1;31merror: \u001b[0m\u001b[1m'x' is a private member of '__cling_N510::One'\u001b[0m\n",
      "    cout << obj.x << endl;\n",
      "\u001b[0;1;32m                ^\n",
      "\u001b[0m\u001b[1minput_line_20:2:9: \u001b[0m\u001b[0;1;30mnote: \u001b[0mimplicitly declared private here\u001b[0m\n",
      "    int x;\n",
      "\u001b[0;1;32m        ^\n",
      "\u001b[0m"
     ]
    },
    {
     "ename": "Interpreter Error",
     "evalue": "",
     "output_type": "error",
     "traceback": [
      "Interpreter Error: "
     ]
    }
   ],
   "source": [
    "{\n",
    "    One obj;\n",
    "    cout << obj.x << endl;\n",
    "}"
   ]
  },
  {
   "cell_type": "code",
   "execution_count": null,
   "metadata": {
    "scrolled": true,
    "slideshow": {
     "slide_type": "fragment"
    }
   },
   "outputs": [],
   "source": [
    "getValue()"
   ]
  },
  {
   "cell_type": "code",
   "execution_count": 9,
   "metadata": {
    "slideshow": {
     "slide_type": "fragment"
    }
   },
   "outputs": [
    {
     "name": "stdout",
     "output_type": "stream",
     "text": [
      "Value is 1642963584\n",
      "Value is 10\n"
     ]
    }
   ],
   "source": [
    "{\n",
    "    One obj;\n",
    "    cout << \"Value is \" << obj.getValue() << endl;\n",
    "    obj.setValue(10);\n",
    "    cout << \"Value is \" << obj.getValue() << endl;    \n",
    "}"
   ]
  },
  {
   "cell_type": "markdown",
   "metadata": {
    "slideshow": {
     "slide_type": "slide"
    }
   },
   "source": [
    "## Encapsulation\n",
    "\n",
    "What is **encapsulation**?\n",
    "- A language mechanism for restricting direct access to some of the object's components.\n",
    "\n",
    "Encapsulation is a process of bundling the data and functions in a single unit.\n",
    "- It binds the data and functions together and keeps them safe from outside interference.\n",
    "- It is used to secure the data from other methods.\n",
    "    - When making a data private, these data are used within the class only and not accessible outside the class.\n",
    "\n",
    "Advantages of Encapsulation\n",
    "- Encapsulation provides abstraction between an object and its users.\n",
    "- It protects an object from unwanted access by unauthorized users."
   ]
  },
  {
   "cell_type": "markdown",
   "metadata": {
    "slideshow": {
     "slide_type": "slide"
    }
   },
   "source": [
    "## Simulation: Class Declaration"
   ]
  },
  {
   "cell_type": "code",
   "execution_count": null,
   "metadata": {
    "slideshow": {
     "slide_type": "fragment"
    }
   },
   "outputs": [],
   "source": [
    "class Parasite {\n",
    "    \n",
    "    float reproductionRate; // rate of reproduction, in %\n",
    "    float resistance;       // resistance against drugs, in %\n",
    "    static constexpr float defaultReproductionRate = 0.3;\n",
    "    \n",
    "public:\n",
    "    \n",
    "    Parasite(float newResistance);\n",
    "    Parasite(float newReproductionRate, float newResistance);\n",
    "    \n",
    "    Parasite* reproduce(float immunity);\n",
    "    bool survive(float immunity);\n",
    "};"
   ]
  },
  {
   "cell_type": "markdown",
   "metadata": {
    "slideshow": {
     "slide_type": "slide"
    }
   },
   "source": [
    "## Simulation: Data Members (Fields)\n",
    "\n",
    "```cpp\n",
    "class Parasite {\n",
    "```\n",
    "<pre><code style=\"color:red\">\n",
    "    float reproductionRate; // rate of reproduction, in %\n",
    "    float resistance;       // resistance against drugs, in %\n",
    "    static constexpr float defaultReproductionRate = 0.1;\n",
    "</code></pre>\n",
    "\n",
    "```cpp    \n",
    "public:\n",
    "    \n",
    "    Parasite(float newResistance);\n",
    "    Parasite(float newReproductionRate, float newResistance);\n",
    "    \n",
    "    Parasite* reproduce(float immunity);\n",
    "    bool survive(float immunity);\n",
    "};\n",
    "```"
   ]
  },
  {
   "cell_type": "markdown",
   "metadata": {
    "slideshow": {
     "slide_type": "slide"
    }
   },
   "source": [
    "## Simulation: Functional Members (Methods)\n",
    "\n",
    "```cpp\n",
    "\n",
    "class Parasite {\n",
    "\n",
    "    float reproductionRate; // rate of reproduction, in %\n",
    "    float resistance;       // resistance against drugs, in %\n",
    "    static constexpr float defaultReproductionRate = 0.1;\n",
    "\n",
    "public:    \n",
    "    Parasite(float newResistance);\n",
    "    Parasite(float newReproductionRate, float newResistance);\n",
    "    \n",
    "```\n",
    "    \n",
    "<pre><code style=\"color:red\">    \n",
    "    Parasite* reproduce(float immunity);\n",
    "    bool survive(float immunity);\n",
    "</code></pre>\n",
    "    \n",
    "```cpp\n",
    "};\n",
    "```"
   ]
  },
  {
   "cell_type": "markdown",
   "metadata": {
    "slideshow": {
     "slide_type": "slide"
    }
   },
   "source": [
    "## Member Functions\n",
    "\n",
    "- The first line of each function definition is the function header (signature).\n",
    "- The (member) function's return type (which appears to the left of the function's name) specifies the type of data the member function returns to its caller after performing its task, e.g. **bool**.\n",
    "- The return type **void** indicates that a function does not return (i.e., give back) any information to its calling function.\n",
    "```cpp\n",
    "bool survive(float immunity);\n",
    "```"
   ]
  },
  {
   "cell_type": "markdown",
   "metadata": {
    "slideshow": {
     "slide_type": "slide"
    }
   },
   "source": [
    "## Member Functions (cont.)\n",
    "\n",
    "- A member function can require one or more parameters that represent the data it needs to perform its task.\n",
    "  - Parameters are declared in a parameter list located in the required parentheses following the member function’s name.\n",
    "  - Each parameter must specify a type followed by a parameter name.\n",
    "  - Parameters are separated by a comma, as in\n",
    "  \n",
    "          (type1 name1, type2 name2, ...)\n",
    "  \n",
    "  - The number/order of arguments in a function call must match the number/order of parameters in the function definition’s parameter list.\n",
    "\n",
    "```cpp\n",
    "bool survive(float immunity);\n",
    "```"
   ]
  },
  {
   "cell_type": "markdown",
   "metadata": {
    "slideshow": {
     "slide_type": "slide"
    }
   },
   "source": [
    "## Member Functions (cont.)\n",
    "\n",
    "- Every member function body is delimited by an opening left and a closing right braces.\n",
    "- Within the braces are one or more statements that perform the (member) function's task(s).\n",
    "- When program execution reaches the member function's closing brace, the function returns to its caller.\n",
    "- Variables declared in a particular function's body are local variables which can be used only in that function.\n",
    "- When a function terminates, the values of its local variables are lost.\n",
    "- A function’s parameters also are local variables of that function."
   ]
  },
  {
   "cell_type": "markdown",
   "metadata": {
    "slideshow": {
     "slide_type": "slide"
    }
   },
   "source": [
    "## Access Modifiers\n",
    "\n",
    "Classes have the same format as **plain data structures**, except that they can also include functions and have these new things called access modifiers (specifiers).\n",
    "\n",
    "An access specifier is one of the following three keywords: **private, public** or **protected**. These specifiers modify the access rights for the members that follow them:\n",
    "\n",
    "- **private** members of a class are accessible only from within other members of the same class (or from their \"friends\").\n",
    "- **protected** members are accessible from other members of the same class (or from their \"friends\"), but also from members of their derived classes.\n",
    "- **public** members are accessible from anywhere where the object is visible.\n",
    "\n",
    "<font color=red>*Note:* By default, all members of a class declared with the class keyword have **private** access for all its members.</font>"
   ]
  },
  {
   "cell_type": "markdown",
   "metadata": {
    "slideshow": {
     "slide_type": "slide"
    }
   },
   "source": [
    "## Tips\n",
    "\n",
    "- **By default**, everything in a class is **private**, unless you specify otherwise.\n",
    "- Once you list an access modifier, *everything from that point has that access* until you list another access modifier.\n",
    "- The access modifier **public** and **private** may be repeated, but this is unnecessary and can be confusing."
   ]
  },
  {
   "cell_type": "code",
   "execution_count": null,
   "metadata": {
    "slideshow": {
     "slide_type": "slide"
    }
   },
   "outputs": [],
   "source": [
    "class Yeah {\n",
    "    int a;\n",
    "public:\n",
    "    int b;\n",
    "    double x;\n",
    "private:\n",
    "    double z;\n",
    "public:\n",
    "    double y;\n",
    "};"
   ]
  },
  {
   "cell_type": "code",
   "execution_count": null,
   "metadata": {
    "slideshow": {
     "slide_type": "fragment"
    }
   },
   "outputs": [],
   "source": [
    "{\n",
    "    Yeah y;\n",
    "    y.a = 5;\n",
    "    y.b = 3;\n",
    "    y.x = 2.3;\n",
    "    y.z = 10.0;\n",
    "}"
   ]
  },
  {
   "cell_type": "markdown",
   "metadata": {
    "slideshow": {
     "slide_type": "slide"
    }
   },
   "source": [
    "## Design Tip: Separating Declaration and Definition\n",
    "\n",
    "We can separate the declaration (i.e. giving the name of the function, its return type and the number and types of its parameters) and the definition (i.e. the code itself).\n",
    "\n",
    "- For methods it's the same, but we need a syntax to specify the class a function belongs to (the same name can be used for member functions of different classes).\n",
    "- The syntax is **class-name::function-name**.\n",
    "- The methods identifier can be used alone in the member functions statement.\n",
    "    "
   ]
  },
  {
   "cell_type": "code",
   "execution_count": 10,
   "metadata": {
    "slideshow": {
     "slide_type": "slide"
    }
   },
   "outputs": [],
   "source": [
    "class Two {\n",
    "    int x;\n",
    "public:\n",
    "    void setValue(int a);\n",
    "    int getValue();\n",
    "};"
   ]
  },
  {
   "cell_type": "code",
   "execution_count": 12,
   "metadata": {
    "slideshow": {
     "slide_type": "fragment"
    }
   },
   "outputs": [],
   "source": [
    "void Two::setValue(int a){ x = a*3; };"
   ]
  },
  {
   "cell_type": "code",
   "execution_count": 13,
   "metadata": {
    "slideshow": {
     "slide_type": "fragment"
    }
   },
   "outputs": [],
   "source": [
    "int Two::getValue(){ return x; };"
   ]
  },
  {
   "cell_type": "code",
   "execution_count": 14,
   "metadata": {
    "slideshow": {
     "slide_type": "fragment"
    }
   },
   "outputs": [
    {
     "name": "stdout",
     "output_type": "stream",
     "text": [
      "Value is 1642963584\n",
      "Value is 30\n"
     ]
    }
   ],
   "source": [
    "{\n",
    "    Two obj;\n",
    "    cout << \"Value is \" << obj.getValue() << endl;\n",
    "    obj.setValue(10);\n",
    "    cout << \"Value is \" << obj.getValue() << endl;    \n",
    "}"
   ]
  },
  {
   "cell_type": "markdown",
   "metadata": {
    "slideshow": {
     "slide_type": "slide"
    }
   },
   "source": [
    "## Example: Simple bank-account class\n",
    "\n",
    "- Class **Account** contains a name data member that stores the account holder’s name.\n",
    "- A class's data members maintain data for each object of the class.\n",
    "- Class **Account** also contains member function **setName** that a program can call to store a name in an Account object, and member function **getName** that a program can call to obtain a name from an Account object."
   ]
  },
  {
   "cell_type": "code",
   "execution_count": null,
   "metadata": {
    "slideshow": {
     "slide_type": "slide"
    }
   },
   "outputs": [],
   "source": [
    "class Account {\n",
    "public:  \n",
    "    // member function that sets the account name in the object\n",
    "    void setName(std::string accountName) {\n",
    "        name = accountName; // store the account name           \n",
    "    }\n",
    "    // member function that retrieves the account name from the object       \n",
    "    std::string getName() const {\n",
    "        return name; // return name's value to this function's caller\n",
    "    }\n",
    "private:\n",
    "    std::string name; // data member containing account holder's name\n",
    "}; // end class Account"
   ]
  },
  {
   "cell_type": "code",
   "execution_count": null,
   "metadata": {
    "slideshow": {
     "slide_type": "subslide"
    }
   },
   "outputs": [],
   "source": [
    "class C2 {\n",
    "public:\n",
    "    int x;\n",
    "}"
   ]
  },
  {
   "cell_type": "code",
   "execution_count": null,
   "metadata": {
    "slideshow": {
     "slide_type": "fragment"
    }
   },
   "outputs": [],
   "source": [
    "{\n",
    "    C2 c;\n",
    "    c.x = 1000;\n",
    "    cout << c.x;\n",
    "}"
   ]
  },
  {
   "cell_type": "code",
   "execution_count": null,
   "metadata": {
    "slideshow": {
     "slide_type": "subslide"
    }
   },
   "outputs": [],
   "source": [
    "class C3 {\n",
    "    int x;\n",
    "public:\n",
    "    int count = 0;\n",
    "    void setX(int v){\n",
    "        x = v;\n",
    "        count++;\n",
    "    }\n",
    "}"
   ]
  },
  {
   "cell_type": "code",
   "execution_count": null,
   "metadata": {
    "slideshow": {
     "slide_type": "fragment"
    }
   },
   "outputs": [],
   "source": [
    "{\n",
    "    C3 c;\n",
    "    cout << c.count << endl;;\n",
    "    c.setX(10);\n",
    "    cout << c.count<< endl;\n",
    "    c.setX(11);\n",
    "    cout << c.count<< endl;\n",
    "}"
   ]
  },
  {
   "cell_type": "markdown",
   "metadata": {
    "slideshow": {
     "slide_type": "slide"
    }
   },
   "source": [
    "## Instantiating an Object\n",
    "\n",
    "**An object** is an instance of a **class**.\n",
    "- In terms of variables, a **class** would be the **type**, and an **object** would be the **variable**.\n",
    "\n",
    "Typically, you **cannot** call a member function of a class **until** you *create an object* of that class."
   ]
  },
  {
   "cell_type": "code",
   "execution_count": null,
   "metadata": {
    "slideshow": {
     "slide_type": "fragment"
    }
   },
   "outputs": [],
   "source": [
    "// create Account object myAccount\n",
    "Account myAccount; \n",
    "// Account myAccount{\"John Dow\"}; "
   ]
  },
  {
   "cell_type": "markdown",
   "metadata": {
    "slideshow": {
     "slide_type": "slide"
    }
   },
   "source": [
    "## Data Members\n",
    "\n",
    " - An object has attributes, implemented as **data members** - the object carries these with it throughout its lifetime.\n",
    "- Each object has its own copy of the class's data members.\n",
    "- Normally, a class also contains one or more member functions that manipulate the data members belonging to particular objects of the class.\n",
    "- Data members are declared inside a class definition but outside the bodies of the class's member functions."
   ]
  },
  {
   "cell_type": "markdown",
   "metadata": {
    "slideshow": {
     "slide_type": "slide"
    }
   },
   "source": [
    "## Account: Access Modifiers\n",
    "\n",
    "- **private** is an access modifier\n",
    "- Access specifiers are always followed by **a colon (:)**.\n",
    "- Data member name's declaration (line 12) appears after access modifier **private:** to indicate that name is accessible only to class Account's member functions.\n",
    "  - This is known as data hiding - the data member name is **encapsulated** (hidden) and can be used only in class Account's **getName** and **setName** member functions.\n",
    "- Data members or member functions listed after the public access specifier (and before the next access specifier if there is one) are \"available to the public.\"\n",
    "  - They can be used by other functions in the program, and by member functions of other classes."
   ]
  },
  {
   "cell_type": "markdown",
   "metadata": {
    "slideshow": {
     "slide_type": "slide"
    }
   },
   "source": [
    "## Account: Member Functions\n",
    "\n",
    "- One can get **myAccount** name by calling the object's **getName** member function with the expression **myAccount.getName()**.\n",
    "    - To call a member function for a specific object, you specify the object's name (*myAccount*), followed by the **dot operator (.)**, then the member function name (*getName*) and a set of parentheses.\n",
    "- The empty parentheses indicate that **getName** does not require any additional information to perform its task.\n",
    "- The member function's **return type** specifies the type of data the member function returns to its caller after performing its task.\n",
    "- The return type **void** indicates that a function does not return (i.e., give back) any information to its calling function."
   ]
  },
  {
   "cell_type": "code",
   "execution_count": null,
   "metadata": {
    "slideshow": {
     "slide_type": "slide"
    }
   },
   "outputs": [],
   "source": [
    "// show that the initial value of myAccount's name is empty\n",
    "cout << \"Initial account name is: \" << myAccount.getName();"
   ]
  },
  {
   "cell_type": "code",
   "execution_count": null,
   "metadata": {
    "slideshow": {
     "slide_type": "fragment"
    }
   },
   "outputs": [],
   "source": [
    "cout << \"\\nPlease enter the account name: \";\n",
    "string theName = \"John Dow\";\n",
    "//getline(cin, theName); // Console Alternative: read a line of text"
   ]
  },
  {
   "cell_type": "code",
   "execution_count": null,
   "metadata": {
    "slideshow": {
     "slide_type": "fragment"
    }
   },
   "outputs": [],
   "source": [
    "// use member function to set protected data member\n",
    "myAccount.setName(theName);"
   ]
  },
  {
   "cell_type": "code",
   "execution_count": null,
   "metadata": {
    "slideshow": {
     "slide_type": "fragment"
    }
   },
   "outputs": [],
   "source": [
    "// display the name stored in object myAccount\n",
    "cout << \"Name in object myAccount is: \" << myAccount.getName() << endl;"
   ]
  },
  {
   "cell_type": "markdown",
   "metadata": {
    "slideshow": {
     "slide_type": "slide"
    }
   },
   "source": [
    "## UML Class Diagram\n",
    "\n",
    "**UML Class Diagram** diagrams summarize a class's attributes and operations.\n",
    "- In industry, UML diagrams help systems designers specify systems in a concise, graphical, programming-language-independent manner, before programmers implement the systems in specific programming languages.\n",
    "\n",
    "\n",
    "<img src=\"../img/UML-class-diagram.png\" style=\"width:800px;margin: auto;padding-top:20px\"/>"
   ]
  },
  {
   "cell_type": "markdown",
   "metadata": {
    "slideshow": {
     "slide_type": "slide"
    }
   },
   "source": [
    "## UML Class Diagram (cont.)\n",
    "\n",
    "In the UML, each class is modeled in a class diagram as a rectangle with three compartments.\n",
    "\n",
    "- The **top** compartment contains the class name centered horizontally in boldface type\n",
    "- The **middle** compartment contains the class's attributes, which correspond to the data members of the same name in C++.\n",
    "    - The diagram lists a minus sign (-) access modifier before the attribute name for **private** attributes.\n",
    "    - Following the attribute name are a colon and the attribute type.\n",
    "    \n",
    "- The **bottom** compartment contains the class's operations, which correspond to the member functions of the same names in C++.\n",
    "    - The models operations preceded by an access modifier.\n",
    "    - A plus sign (+) indicates **public** in the UML.\n",
    "    - The UML indicates the **return type** after a **colon** and the return type after the parentheses following the operation name."
   ]
  },
  {
   "cell_type": "code",
   "execution_count": null,
   "metadata": {
    "slideshow": {
     "slide_type": "slide"
    }
   },
   "outputs": [],
   "source": [
    "class Account2 {\n",
    "public:\n",
    "    // constructor initializes data member name with parameter accountName\n",
    "    explicit Account2(std::string accountName)\n",
    "        : name{accountName} { // member initializer\n",
    "    // empty body\n",
    "    }\n",
    "    // function to set the account name\n",
    "    void setName(std::string accountName) {\n",
    "        name = accountName;\n",
    "    }\n",
    "    // function to retrieve the account name\n",
    "    std::string getName() const {\n",
    "        return name;\n",
    "    }\n",
    "private:\n",
    "    std::string name; // account name data member\n",
    "}; // end class Account"
   ]
  },
  {
   "cell_type": "markdown",
   "metadata": {
    "slideshow": {
     "slide_type": "slide"
    }
   },
   "source": [
    "## Initializing Objects with Constructors\n",
    "\n",
    "Each class can define a **constructor** that specifies custom initialization for objects of that class.\n",
    "```cpp\n",
    "explicit Account2(std::string accountName)\n",
    "    : name{accountName} { // member initializer\n",
    "// empty body\n",
    "}\n",
    "```\n",
    "Constructor:\n",
    "- Special member function that **must have** the **same name** as the class.\n",
    "- C++ requires a constructor call when **each object is created**.\n",
    "- A constructor can have parameters for initialization of the object's data members."
   ]
  },
  {
   "cell_type": "code",
   "execution_count": null,
   "metadata": {
    "slideshow": {
     "slide_type": "fragment"
    }
   },
   "outputs": [],
   "source": [
    "Account2 myAccount{\"John Dow\"}; "
   ]
  },
  {
   "cell_type": "markdown",
   "metadata": {
    "slideshow": {
     "slide_type": "slide"
    }
   },
   "source": [
    "## Tips\n",
    "\n",
    "- Normally, constructors are **public**.\n",
    "- Constructors **cannot** specify return types, not even void.\n",
    "- Constructors **cannot** be declared _**const**_.\n",
    "    - Initializing an object modifies it.\n",
    "- **explicit** specifies that a constructor is explicit, that is, it cannot be used for implicit conversions and copy initialization.\n",
    "    - it will be discussed in following lectures."
   ]
  },
  {
   "cell_type": "markdown",
   "metadata": {
    "slideshow": {
     "slide_type": "slide"
    }
   },
   "source": [
    "## Member Initializer List\n",
    "\n",
    "A member-initializer list initializes data members (typically with argument values):\n",
    "```cpp\n",
    "    : name{accountName}\n",
    "```    \n",
    "- Member initializers appear **between** a constructor's parameter list and the left brace that begins the constructor's body.\n",
    "- Separated from the parameter list with a **colon** (:).\n",
    "- Each member initializer consists of a data member's variable name followed by parentheses containing the member's initial value.\n",
    "- If a class contains more than one data member, each member initializer is separated from the next by a comma.\n",
    "- The member initializer list **executes before** the constructor's body executes."
   ]
  },
  {
   "cell_type": "markdown",
   "metadata": {
    "slideshow": {
     "slide_type": "fragment"
    }
   },
   "source": [
    "**Remember to initialize all fields inside constructors!**"
   ]
  },
  {
   "cell_type": "markdown",
   "metadata": {
    "slideshow": {
     "slide_type": "slide"
    }
   },
   "source": [
    "## Working with Objects\n",
    "\n",
    "- A class's data members and member functions belong to that class's scope.\n",
    "    - Nonmember functions are defined at global namespace scope, by default.\n",
    "- **Inside** a class's scope, class **members are immediately accessible** by **all** of that **class's member functions** and can be **referenced by name**.\n",
    "- **Outside** a class's scope, o**nly public class members** are referenced through one of the **handles** on an object:\n",
    "    - an object name,\n",
    "    - a reference to an object, or\n",
    "    - a pointer to an object"
   ]
  },
  {
   "cell_type": "markdown",
   "metadata": {
    "slideshow": {
     "slide_type": "slide"
    }
   },
   "source": [
    "## Accessing Class Members\n",
    "\n",
    "Use an object's name - or a reference to an object - **followed** by the **dot member-selection operator ( . )** to access an object's members.\n",
    "\n",
    "To reference an object's members via a **pointer to an object**, follow the pointer name by the **arrow member-selection operator (->)** and the member name\n",
    "- e.g. pointerName->memberName\n"
   ]
  },
  {
   "cell_type": "markdown",
   "metadata": {
    "slideshow": {
     "slide_type": "slide"
    }
   },
   "source": [
    "## Static Allocation\n",
    "\n",
    "When you create an object, C++ **implicitly calls** the class's constructor to initialize that object.\n",
    "- If the constructor has parameters, you place the corresponding arguments in braces, { and }, to the right of the object's variable name."
   ]
  },
  {
   "cell_type": "code",
   "execution_count": null,
   "metadata": {
    "slideshow": {
     "slide_type": "fragment"
    }
   },
   "outputs": [],
   "source": [
    "{\n",
    "    cout << \"Begining of scope\" << endl;\n",
    "    Account2 a{\"John Smith\"};\n",
    "    cout << \"Account name: \" << a.getName()  << endl;\n",
    "    cout << \"End of scope\" << endl;\n",
    "}"
   ]
  },
  {
   "cell_type": "markdown",
   "metadata": {
    "slideshow": {
     "slide_type": "fragment"
    }
   },
   "source": [
    "**Object is automatically destroyed at the end of scope.**"
   ]
  },
  {
   "cell_type": "markdown",
   "metadata": {
    "slideshow": {
     "slide_type": "slide"
    }
   },
   "source": [
    "## Dynamic Allocation\n",
    "\n",
    "To allocate an object on **heap**:\n",
    "- use **new** keyword\n",
    "\n",
    "To deallocate:\n",
    "- use **delete** keyword\n"
   ]
  },
  {
   "cell_type": "code",
   "execution_count": null,
   "metadata": {
    "slideshow": {
     "slide_type": "fragment"
    }
   },
   "outputs": [],
   "source": [
    "{\n",
    "    cout << \"Begining of scope\" << endl;\n",
    "    Account2* a = new Account2(\"Jane Dow\");\n",
    "    cout << \"Account name: \" << a->getName()  << endl;\n",
    "    delete a;\n",
    "    cout << \"End of scope\" << endl;\n",
    "}"
   ]
  }
 ],
 "metadata": {
  "celltoolbar": "Slideshow",
  "kernelspec": {
   "display_name": "C++14",
   "language": "C++14",
   "name": "xcpp14"
  },
  "language_info": {
   "codemirror_mode": "text/x-c++src",
   "file_extension": ".cpp",
   "mimetype": "text/x-c++src",
   "name": "c++",
   "version": "14"
  },
  "rise": {
   "enable_chalkboard": true
  }
 },
 "nbformat": 4,
 "nbformat_minor": 2
}
