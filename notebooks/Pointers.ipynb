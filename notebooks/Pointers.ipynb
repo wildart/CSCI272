{
 "cells": [
  {
   "cell_type": "code",
   "execution_count": 1,
   "metadata": {
    "slideshow": {
     "slide_type": "skip"
    }
   },
   "outputs": [],
   "source": [
    "#include <iostream>\n",
    "#include <memory>\n",
    "using namespace std;"
   ]
  },
  {
   "cell_type": "markdown",
   "metadata": {
    "slideshow": {
     "slide_type": "slide"
    }
   },
   "source": [
    "# (Smart) Pointers"
   ]
  },
  {
   "cell_type": "markdown",
   "metadata": {
    "slideshow": {
     "slide_type": "slide"
    }
   },
   "source": [
    "## Introduction\n",
    "\n",
    "- Pointers are one of the most powerful, yet challenging to use, C++ capabilities.\n",
    "\n",
    "- Pointers also enable **pass-by-reference** and can be used to create and manipulate pointer-based dynamic data structures.\n",
    "\n",
    "- Pointers have relationship to built-in static arrays\n",
    "    - In new software development projects, you should favor `array` and `vector` objects to built-in arrays.\n"
   ]
  },
  {
   "cell_type": "markdown",
   "metadata": {
    "slideshow": {
     "slide_type": "slide"
    }
   },
   "source": [
    "## Pointer Variable Declarations and Initialization\n",
    "\n",
    "- A pointer contains the **memory address** of a variable that, in turn, contains a specific value.\n",
    "\n",
    "- In this sense, a variable name **directly references a value**, and a pointer **indirectly references a value**.\n",
    "\n",
    "- Referencing a value through a pointer is called **indirection**.\n",
    "\n",
    "<img src=\"../img/pointer.jpg\" style=\"width:70%\"/>"
   ]
  },
  {
   "cell_type": "markdown",
   "metadata": {
    "slideshow": {
     "slide_type": "slide"
    }
   },
   "source": [
    "## Declaring Pointers\n",
    "\n",
    "The declaration\n",
    "\n",
    "```c++\n",
    "int* countPtr, count; // both vars are int pointers \n",
    "int *countPtr, count; // countPtr is a int pointers\n",
    "```\n",
    "- declares the variable `countPtr` to be a type `int*` (i.e., a pointer to an int value) and is read (right to left), \"countPtr  is a pointer to int\".\n",
    "\n",
    "    - Variable `count` in the preceding declaration is declared to be an `int`\n",
    "    - The `*` in the declaration applies only to `countPtr`\n",
    "    - Each variable being declared as a pointer must be preceded by an asterisk (`*`).\n",
    "\n",
    "- When `*`appears in a declaration, it is **not** an operator\n",
    "    - it indicates that the variable being declared is a pointer.\n",
    "\n",
    "- Pointers can be declared to point to objects of **any** type."
   ]
  },
  {
   "cell_type": "markdown",
   "metadata": {
    "slideshow": {
     "slide_type": "slide"
    }
   },
   "source": [
    "## Declaring Pointers (cont.)\n",
    "\n",
    "- Each pointer must be declared with the `*` prefixed to the name (with or without spaces in between).\n",
    "- Declaring only one variable per declaration helps avoid these types of errors and improves program readability."
   ]
  },
  {
   "cell_type": "markdown",
   "metadata": {
    "slideshow": {
     "slide_type": "slide"
    }
   },
   "source": [
    "## Initializing Pointers \n",
    "\n",
    "- Pointers should be initialized to `nullptr` (new in C++11) or to a memory either when they're declared or in an assignment.\n",
    "\n",
    "- A pointer with the value `nullptr` \"points to nothing\" and is known as a **null pointer**.\n",
    "\n",
    "- Initialize all pointers to prevent pointing to unknown or uninitialized areas of memory."
   ]
  },
  {
   "cell_type": "markdown",
   "metadata": {
    "slideshow": {
     "slide_type": "slide"
    }
   },
   "source": [
    "## Null Pointers Prior to C++11\n",
    "\n",
    "- In earlier versions of C++, the value specified for a null pointer was `0` or `NULL`\n",
    "\n",
    "- `NULL` is defined in several standard library headers to represent the value `0`\n",
    "\n",
    "- Initializing a pointer to `NULL` is equivalent to initializing a pointer to `0`, but prior to C++11, `0` was used by convention.\n",
    "\n",
    "- The value `0` is the **only** integer value that can be assigned directly to a pointer variable without first **casting** the integer to a pointer type"
   ]
  },
  {
   "cell_type": "markdown",
   "metadata": {
    "slideshow": {
     "slide_type": "slide"
    }
   },
   "source": [
    "# Pointer Operators\n",
    "\n",
    "- The unary operators `&` and `*` are used to create pointer values and \"dereference\" pointers, respectively."
   ]
  },
  {
   "cell_type": "markdown",
   "metadata": {
    "slideshow": {
     "slide_type": "slide"
    }
   },
   "source": [
    "## Address (`&`) Operator\n",
    "\n",
    "- The **address operator (`&`)** is a unary operator that **obtains the memory address of its operand**.\n",
    "\n",
    "- Assuming the declarations"
   ]
  },
  {
   "cell_type": "code",
   "execution_count": 2,
   "metadata": {
    "slideshow": {
     "slide_type": "fragment"
    }
   },
   "outputs": [
    {
     "name": "stdout",
     "output_type": "stream",
     "text": [
      "Pointer: 0x7ffe4f52e8b4, value: 5\n",
      "Address of yhe pointer: 0x7ffe4f52e8a8"
     ]
    }
   ],
   "source": [
    "{\n",
    "    int y{5};           // declare variable y\n",
    "    int* yPtr{nullptr}; // declare pointer variable\n",
    "    yPtr = &y;          // assign address of y to yPtr\n",
    "    cout << \"Pointer: \" << yPtr << \", value: \" << y << endl;\n",
    "    cout << \"Address of yhe pointer: \" << &yPtr;\n",
    "}"
   ]
  },
  {
   "cell_type": "markdown",
   "metadata": {
    "slideshow": {
     "slide_type": "fragment"
    }
   },
   "source": [
    "<img src=\"../img/amp-op.jpg\" style=\"width:70%\"/>"
   ]
  },
  {
   "cell_type": "markdown",
   "metadata": {
    "slideshow": {
     "slide_type": "slide"
    }
   },
   "source": [
    "## Address (`&`) Operator (cont.)\n",
    "\n",
    "<img src=\"../img/ptr-vals.jpg\" style=\"width:70%\"/>\n",
    "\n",
    "\n",
    "- Representation in memory with integer variable `y` stored at memory location 600000 and pointer variable `yPtr` stored at location 500000.\n",
    "\n",
    "\n",
    "- The operand of the address operator must be an **l-value** - the address operator **cannot** be applied to constants or to expressions that result in temporary values (like the results of calculations)."
   ]
  },
  {
   "cell_type": "markdown",
   "metadata": {
    "slideshow": {
     "slide_type": "slide"
    }
   },
   "source": [
    "## Indirection (`*`) Operator\n",
    "\n",
    "- The **unary `*` operator** - commonly referred to as the **indirection operator** or **dereferencing** operator.\n",
    "\n",
    "    - Returns an *l-value* representing the object to which its pointer operand points.\n",
    "\n",
    "    - Called dereferencing a pointer\n",
    "\n",
    "- A **dereferenced pointer** may also be used as an *l-value* on the **left** side of an assignment.\n",
    "- Dereferencing an **uninitialized** or a null pointer results in **undefined behavior**."
   ]
  },
  {
   "cell_type": "code",
   "execution_count": 3,
   "metadata": {
    "slideshow": {
     "slide_type": "slide"
    }
   },
   "outputs": [
    {
     "name": "stdout",
     "output_type": "stream",
     "text": [
      "The address of `a` is 0x7ffe4f52e8b4\n",
      "The value of `aPtr` is 0x7ffe4f52e8b4\n",
      "The address of `aPtr` is 0x7ffe4f52e8a8\n",
      "The value of `a` is 17\n",
      "The value of `*aPtr` is 17\n",
      "The value of `a` is 18\n"
     ]
    }
   ],
   "source": [
    "{\n",
    "    int a{17};\n",
    "    int* aPtr = &a;\n",
    "    \n",
    "    cout << \"The address of `a` is \" << &a << endl;\n",
    "    cout << \"The value of `aPtr` is \" << aPtr << endl;\n",
    "    cout << \"The address of `aPtr` is \" << &aPtr << endl;\n",
    "    cout << \"The value of `a` is \" << a << endl;\n",
    "    cout << \"The value of `*aPtr` is \" << *aPtr << endl;\n",
    "    *aPtr = 18; // *aPtr is l-value\n",
    "    cout << \"The value of `a` is \" << a << endl;\n",
    "}"
   ]
  },
  {
   "cell_type": "markdown",
   "metadata": {
    "slideshow": {
     "slide_type": "slide"
    }
   },
   "source": [
    "## Pass-By-Reference with Pointers\n",
    "\n",
    "- There are three ways in C++ to pass arguments to a function\n",
    "\n",
    "    - pass-by-value\n",
    "\n",
    "    - pass-by-reference with reference arguments\n",
    "\n",
    "    - **pass-by-reference with pointer arguments**"
   ]
  },
  {
   "cell_type": "markdown",
   "metadata": {
    "slideshow": {
     "slide_type": "slide"
    }
   },
   "source": [
    "## Pass-By-Reference with Pointers (cont.)\n",
    "\n",
    "- Pointers can be used to modify one or more variables in the caller or to pass pointers to large data objects to avoid the overhead of copying the objects.\n",
    "\n",
    "- You can use pointers and the indirection operator (`*`) to accomplish *pass-by-reference*.\n",
    "\n",
    "- When calling a function with an argument that should be modified, the **address** of the argument is passed."
   ]
  },
  {
   "cell_type": "markdown",
   "metadata": {
    "slideshow": {
     "slide_type": "slide"
    }
   },
   "source": [
    "### Example: Pass-By-Value"
   ]
  },
  {
   "cell_type": "code",
   "execution_count": 4,
   "metadata": {
    "slideshow": {
     "slide_type": "fragment"
    }
   },
   "outputs": [],
   "source": [
    "// Pass-By-Value\n",
    "int cubeByValue(int x) {\n",
    "    return x*x*x;\n",
    "}"
   ]
  },
  {
   "cell_type": "code",
   "execution_count": 5,
   "metadata": {
    "slideshow": {
     "slide_type": "fragment"
    }
   },
   "outputs": [
    {
     "name": "stdout",
     "output_type": "stream",
     "text": [
      "Original `num` value is 8\n",
      "New `num` value is 512\n"
     ]
    }
   ],
   "source": [
    "{\n",
    "    int number{8};\n",
    "    \n",
    "    cout << \"Original `num` value is \" << number << endl;\n",
    "    number = cubeByValue(number);\n",
    "    cout << \"New `num` value is \" << number << endl;    \n",
    "}"
   ]
  },
  {
   "cell_type": "markdown",
   "metadata": {
    "slideshow": {
     "slide_type": "slide"
    }
   },
   "source": [
    "<img src=\"../img/pbv1.jpg\" style=\"width:100%\"/>"
   ]
  },
  {
   "cell_type": "markdown",
   "metadata": {
    "slideshow": {
     "slide_type": "slide"
    }
   },
   "source": [
    "<img src=\"../img/pbv2.jpg\" style=\"width:100%\"/>"
   ]
  },
  {
   "cell_type": "markdown",
   "metadata": {
    "slideshow": {
     "slide_type": "slide"
    }
   },
   "source": [
    "<img src=\"../img/pbv3.jpg\" style=\"width:100%\"/>"
   ]
  },
  {
   "cell_type": "markdown",
   "metadata": {
    "slideshow": {
     "slide_type": "slide"
    }
   },
   "source": [
    "### Example: Pass-By-Reference"
   ]
  },
  {
   "cell_type": "code",
   "execution_count": 6,
   "metadata": {
    "slideshow": {
     "slide_type": "fragment"
    }
   },
   "outputs": [],
   "source": [
    "// Pass-By-Reference\n",
    "void cubeByRef(int &xRef) {\n",
    "    xRef = xRef * xRef * xRef;\n",
    "}"
   ]
  },
  {
   "cell_type": "code",
   "execution_count": 7,
   "metadata": {
    "slideshow": {
     "slide_type": "fragment"
    }
   },
   "outputs": [
    {
     "name": "stdout",
     "output_type": "stream",
     "text": [
      "Original `number` value is 5\n",
      "New `number` value is 125\n"
     ]
    }
   ],
   "source": [
    "{\n",
    "    int number{5};\n",
    "    \n",
    "    cout << \"Original `number` value is \" << number << endl;\n",
    "    cubeByRef(number);\n",
    "    cout << \"New `number` value is \" << number << endl;    \n",
    "}"
   ]
  },
  {
   "cell_type": "markdown",
   "metadata": {
    "slideshow": {
     "slide_type": "slide"
    }
   },
   "source": [
    "### Example: Pass-By-Reference with Pointers"
   ]
  },
  {
   "cell_type": "code",
   "execution_count": 8,
   "metadata": {
    "slideshow": {
     "slide_type": "fragment"
    }
   },
   "outputs": [],
   "source": [
    "// Pass-By-Reference with Pointers\n",
    "void cubeByRefPtr(int* xPtr) {\n",
    "    *xPtr = *xPtr * *xPtr * *xPtr;\n",
    "}"
   ]
  },
  {
   "cell_type": "code",
   "execution_count": 9,
   "metadata": {
    "slideshow": {
     "slide_type": "fragment"
    }
   },
   "outputs": [
    {
     "name": "stdout",
     "output_type": "stream",
     "text": [
      "Original `number` value is 8\n",
      "New `number` value is 512\n"
     ]
    }
   ],
   "source": [
    "{\n",
    "    int number{8};\n",
    "    \n",
    "    cout << \"Original `number` value is \" << number << endl;\n",
    "    cubeByRefPtr(&number);\n",
    "    cout << \"New `number` value is \" << number << endl;    \n",
    "}"
   ]
  },
  {
   "cell_type": "markdown",
   "metadata": {
    "slideshow": {
     "slide_type": "slide"
    }
   },
   "source": [
    "<img src=\"../img/pbr1.jpg\" style=\"width:100%\"/>"
   ]
  },
  {
   "cell_type": "markdown",
   "metadata": {
    "slideshow": {
     "slide_type": "slide"
    }
   },
   "source": [
    "<img src=\"../img/pbr2.jpg\" style=\"width:100%\"/>"
   ]
  },
  {
   "cell_type": "markdown",
   "metadata": {
    "slideshow": {
     "slide_type": "slide"
    }
   },
   "source": [
    "<img src=\"../img/pbr3.jpg\" style=\"width:100%\"/>"
   ]
  },
  {
   "cell_type": "markdown",
   "metadata": {
    "slideshow": {
     "slide_type": "slide"
    }
   },
   "source": [
    "## Pass-By-Reference with Pointers (cont.)\n",
    "\n",
    "- **Insight: All Arguments Are Passed By Value**\n",
    "\n",
    "- Passing a variable by reference with a pointer **does not actually pass anything by reference**\n",
    "\n",
    "    - a pointer to that variable is passed by value and is **copied** into the function's corresponding pointer parameter.\n",
    "\n",
    "- The called function can then access that variable in the caller simply by dereferencing the pointer, thus accomplishing **pass-by-reference**."
   ]
  },
  {
   "cell_type": "markdown",
   "metadata": {
    "slideshow": {
     "slide_type": "slide"
    }
   },
   "source": [
    "## Built-In Arrays\n",
    "\n",
    "- To specify the type of the elements and the number of elements required by a built-in array, use a declaration of the form:\n",
    "```cpp\n",
    "type arrayName[arraySize];\n",
    "```\n",
    "- The compiler reserves the appropriate amount of memory.\n",
    "- `arraySize` must be an integer constant greater than zero.\n",
    "- Use the subscript (**[]**) operator to access the individual elements of a built-in array."
   ]
  },
  {
   "cell_type": "code",
   "execution_count": 10,
   "metadata": {
    "slideshow": {
     "slide_type": "fragment"
    }
   },
   "outputs": [
    {
     "name": "stdout",
     "output_type": "stream",
     "text": [
      "1\n",
      "4\n"
     ]
    }
   ],
   "source": [
    "{\n",
    "    // To reserve 5 elements for built-in array of ints named c\n",
    "    int c[5]{1,2,3,4,5};\n",
    "    cout << c[0] << endl; // zero-based indexing\n",
    "    cout << c[3] << endl;\n",
    "}"
   ]
  },
  {
   "cell_type": "markdown",
   "metadata": {
    "slideshow": {
     "slide_type": "slide"
    }
   },
   "source": [
    "## Pointers and arrays\n",
    "\n",
    "- The *value of a built-in array's name* is implicitly convertible to the *address of the built-in array's first element*.\n",
    "    - So `arrayName` is implicitly convertible to `&arrayName[0]`.\n",
    "- You don't need to take the address (&) of a built-in array to pass it to a function - you simply pass the built-in array's name.\n",
    "- For built-in arrays, the called function can modify all the elements of a built-in array in the *caller*\n",
    "    - Unless the function precedes the corresponding built-in array parameter with `const` to indicate that the elements should not be modified."
   ]
  },
  {
   "cell_type": "code",
   "execution_count": 11,
   "metadata": {
    "slideshow": {
     "slide_type": "slide"
    }
   },
   "outputs": [
    {
     "name": "stdout",
     "output_type": "stream",
     "text": [
      "Element 0 has address: 0x7ffe4f52e8a0\n",
      "The array decays to a pointer holding address: 0x7ffe4f52e8a0\n"
     ]
    }
   ],
   "source": [
    "{\n",
    "    int array[5]{ 9, 7, 5, 3, 1 };\n",
    "    // print address of the array's first element\n",
    "    std::cout << \"Element 0 has address: \" << &array[0] << '\\n'; \n",
    "    // print the value of the pointer the array decays to\n",
    "    std::cout << \"The array decays to a pointer holding address: \" << array << '\\n';\n",
    "}"
   ]
  },
  {
   "cell_type": "code",
   "execution_count": 12,
   "metadata": {
    "slideshow": {
     "slide_type": "fragment"
    }
   },
   "outputs": [],
   "source": [
    "//void someFunc(int* array, size_t len)\n",
    "void someFunc(int array[], size_t len) {\n",
    "    for (size_t i=0;i<len;++i)\n",
    "        array[i] = 0;\n",
    "}"
   ]
  },
  {
   "cell_type": "code",
   "execution_count": 13,
   "metadata": {
    "slideshow": {
     "slide_type": "fragment"
    }
   },
   "outputs": [
    {
     "name": "stdout",
     "output_type": "stream",
     "text": [
      "9 7 5 3 1 \n",
      "0 0 0 0 0 "
     ]
    }
   ],
   "source": [
    "{\n",
    "    int array[5]{ 9, 7, 5, 3, 1 };\n",
    "    for (size_t i=0;i<5;++i) cout << array[i] << \" \";\n",
    "    someFunc(array, 5); cout << endl;\n",
    "    for (size_t i=0;i<5;++i) cout << array[i] << \" \";\n",
    "}"
   ]
  },
  {
   "cell_type": "markdown",
   "metadata": {
    "slideshow": {
     "slide_type": "slide"
    }
   },
   "source": [
    "## Built-In Array Limitations\n",
    "\n",
    "- They cannot be compared using the relational and equality operators\n",
    "    - you must use a loop to compare two built-in arrays element by element\n",
    "- They cannot be assigned to one another\n",
    "- They don't know their own size\n",
    "    - a function that processes a built-in array typically receives both the built-in array's name and its size as arguments.\n",
    "- They don't provide automatic bounds checking\n",
    "    - you must ensure that array-access expressions use subscripts that are within the built-in array's bounds."
   ]
  },
  {
   "cell_type": "markdown",
   "metadata": {
    "slideshow": {
     "slide_type": "slide"
    }
   },
   "source": [
    "## Pointer Arithmetic\n",
    "\n",
    "- *Pointers* are **valid operands** in arithmetic expressions, assignment expressions and comparison expressions.\n",
    "- C++ enables pointer arithmetic - a few arithmetic operations may be performed on pointers:\n",
    "    - increment (`++`)\n",
    "    - decremented (`--`)\n",
    "    - an integer may be added to a pointer (`+` or `+=`)\n",
    "    - an integer may be subtracted from a pointer (`-` or `-=`)\n",
    "    - one pointer may be subtracted from another of the same type\n",
    "        - this particular operation is appropriate only for two pointers that point to elements of the same built-in array"
   ]
  },
  {
   "cell_type": "markdown",
   "metadata": {
    "slideshow": {
     "slide_type": "subslide"
    }
   },
   "source": [
    "## Portability\n",
    "\n",
    "- Most computers today have four-byte or eight-byte integers.\n",
    "    - The results of pointer arithmetic depend on the size of the memory objects a pointer points to, pointer arithmetic is machine dependent."
   ]
  },
  {
   "cell_type": "markdown",
   "metadata": {
    "slideshow": {
     "slide_type": "slide"
    }
   },
   "source": [
    "- Assume that `int v[5]` has been declared and that its first element is at memory location 3000.\n",
    "- Assume that pointer `vPtr` has been initialized to point to `v[0]` (i.e., the value of vPtr is 3000).\n",
    "- Variable `vPtr` can be initialized to point to `v` with either of the following statements\n",
    "    - situation for a machine with four-byte integers\n",
    "![](../img/ptr-array.png)"
   ]
  },
  {
   "cell_type": "markdown",
   "metadata": {
    "slideshow": {
     "slide_type": "slide"
    }
   },
   "source": [
    "- In conventional arithmetic, the addition 3000 + 2 yields the value 3002.\n",
    "    - This is normally not the case with pointer arithmetic.\n",
    "    - When an integer is added to, or subtracted from, a pointer, the pointer is not simply incremented or decremented by that integer, but by that integer times the size of the memory object to which the pointer refers.\n",
    "    - The number of bytes depends on the memory object's data type."
   ]
  },
  {
   "cell_type": "markdown",
   "metadata": {
    "slideshow": {
     "slide_type": "slide"
    }
   },
   "source": [
    "- `vPtr+2` would produce 3008 (from the calculation 3000 + 2 * 4)\n",
    "    - assuming that an int is stored in four bytes of memory\n",
    "- In the built-in array `v`, `vPtr` would now point to `v[2]`\n",
    "- If an integer is stored in eight bytes of memory, then the preceding calculation would result in memory location 3016 (3000 + 2 * 8)."
   ]
  },
  {
   "cell_type": "code",
   "execution_count": 14,
   "metadata": {
    "slideshow": {
     "slide_type": "fragment"
    }
   },
   "outputs": [
    {
     "name": "stdout",
     "output_type": "stream",
     "text": [
      "Ptr: 0x7ffe4f52e8a0\n",
      "Ptr: 0x7ffe4f52e8a8, value: 8"
     ]
    }
   ],
   "source": [
    "{\n",
    "    int v[5]{2,4,8,16,32};\n",
    "    int* vPtr{v}; //same as vPtr{&v[0]};\n",
    "    cout << \"Ptr: \" << vPtr << endl;\n",
    "    vPtr += 2;\n",
    "    cout << \"Ptr: \" << vPtr << \", value: \"<< *vPtr;\n",
    "}"
   ]
  },
  {
   "cell_type": "markdown",
   "metadata": {
    "slideshow": {
     "slide_type": "slide"
    }
   },
   "source": [
    "## Pointer Assignment\n",
    "\n",
    "- A pointer can be assigned to another pointer if both pointers are of the same type.\n",
    "- Otherwise, a cast operator (normally a `reinterpret_cast`) must be used to convert the value of the pointer on the right of the assignment to the pointer type on the left of the assignment.\n",
    "    - Exception to this rule is the pointer to void (i.e., void*).\n",
    "- Any pointer to a fundamental type or class type can be assigned to a pointer of type `void*` without casting.\n",
    "    - A `void*` pointer cannot be dereferenced."
   ]
  },
  {
   "cell_type": "markdown",
   "metadata": {
    "slideshow": {
     "slide_type": "slide"
    }
   },
   "source": [
    "## Pointer-Based Strings\n",
    "\n",
    "- A pointer-based string is a built-in array of characters ending with a null character ('\\0').\n",
    "- A string is accessed via a pointer to its first character.\n",
    "- The `sizeof` a string literal is the length of the string including the terminating null character."
   ]
  },
  {
   "cell_type": "code",
   "execution_count": 15,
   "metadata": {
    "slideshow": {
     "slide_type": "fragment"
    }
   },
   "outputs": [
    {
     "name": "stdout",
     "output_type": "stream",
     "text": [
      "My name is: John\n",
      "5\n",
      "4\n",
      "J, o, h, n\n",
      "There is a null terminator at the end: 1\n"
     ]
    }
   ],
   "source": [
    "#include <cstring>\n",
    "{\n",
    "    char name[]{ \"John\" }; // only use 5 characters (4 letters + null terminator)\n",
    "    cout << \"My name is: \" << name << endl;\n",
    "    cout << sizeof(name) << endl;\n",
    "    cout << strlen(name) << endl;\n",
    "    cout << name[0] << \", \" << name[1] << \", \" << name[2] << \", \" << name[3] << endl;\n",
    "    cout << \"There is a null terminator at the end: \"<< (name[4] == 0) << endl;\n",
    "}"
   ]
  },
  {
   "cell_type": "markdown",
   "metadata": {
    "slideshow": {
     "slide_type": "slide"
    }
   },
   "source": [
    "## Resource allocation \n",
    "\n",
    "- Consider a function in which we dynamically allocate a value:\n",
    "\n",
    "```c++\n",
    "void someFunction()\n",
    "{\n",
    "    // Resource is a struct or class \n",
    "    Resource *ptr = new Resource;\n",
    "    // do stuff with ptr here\n",
    "    delete ptr;\n",
    "}\n",
    "```"
   ]
  },
  {
   "cell_type": "markdown",
   "metadata": {
    "slideshow": {
     "slide_type": "slide"
    }
   },
   "source": [
    "## Resource allocation (cont.)\n",
    "\n",
    "- Although the above code seems fairly straightforward, it is fairly easy to forget to deallocate `ptr`.\n",
    "\n",
    "```c++\n",
    "void someFunction()\n",
    "{\n",
    "    // Resource is a struct or class \n",
    "    Resource *ptr = new Resource;\n",
    "    // the function returns early, and ptr won’t be deleted!\n",
    "    if (x == 0)        \n",
    "        return; // throw 0;\n",
    "    delete ptr;\n",
    "}\n",
    "```\n",
    "- Pointer variables have no inherent mechanism to clean up after themselves."
   ]
  },
  {
   "cell_type": "markdown",
   "metadata": {
    "slideshow": {
     "slide_type": "slide"
    }
   },
   "source": [
    "## Resources and Smart Pointers\n",
    "\n",
    "- One of the major classes of bugs in C-style programming is the **memory leak**.\n",
    "- Leaks are often caused by a failure to call **delete** for memory that was allocated with **new**.\n",
    "- Modern C++ emphasizes the **principle of resource acquisition is initialization (RAII)**. \n",
    "\n",
    "```c++\n",
    "void someFunction()\n",
    "{\n",
    "    // Resource is a struct or class \n",
    "    Resource var;\n",
    "    // the function returns early, and ptr will be deleted!\n",
    "    if (x == 0)        \n",
    "        throw 0;\n",
    "} // destructor will be call at the end of the scope lifetime\n",
    "```"
   ]
  },
  {
   "cell_type": "markdown",
   "metadata": {
    "slideshow": {
     "slide_type": "slide"
    }
   },
   "source": [
    "## Smart Pointers\n",
    "\n",
    "- Although the above code seems fairly straightforward, it is fairly easy to forget to deallocate `ptr`.\n",
    "\n",
    "```c++\n",
    "#include <memory>\n",
    "void someFunction()\n",
    "{\n",
    "    // Resource is a struct or class\n",
    "    std::auto_ptr<Resource> ptr = new Resource;  \n",
    "    if (x == 0)\n",
    "        throw 0; // ptr will be deallocated here\n",
    " \n",
    "    return; // ptr will be deallocated here\n",
    "}\n",
    "```"
   ]
  },
  {
   "cell_type": "markdown",
   "metadata": {
    "slideshow": {
     "slide_type": "slide"
    }
   },
   "source": [
    "## Example: resource mgmt"
   ]
  },
  {
   "cell_type": "code",
   "execution_count": 16,
   "metadata": {
    "slideshow": {
     "slide_type": "slide"
    }
   },
   "outputs": [],
   "source": [
    "class Resource {\n",
    "public:    \n",
    "    Resource *selfptr{nullptr};    \n",
    "    Resource() {selfptr = this; cout << \"Allocate the resource: \"<< selfptr << endl; }\n",
    "    ~Resource() { cout << \"Deallocate the resource: \" << selfptr << endl; selfptr = nullptr; }\n",
    "}"
   ]
  },
  {
   "cell_type": "code",
   "execution_count": 17,
   "metadata": {
    "slideshow": {
     "slide_type": "fragment"
    }
   },
   "outputs": [
    {
     "name": "stdout",
     "output_type": "stream",
     "text": [
      "Allocate the resource: 0x7ffe4f52e8b0\n",
      "Deallocate the resource: 0x7ffe4f52e8b0\n"
     ]
    }
   ],
   "source": [
    "{\n",
    "\n",
    "    Resource r; // implicit allocation\n",
    "\n",
    "} // implicit deallocation at the end of the scope"
   ]
  },
  {
   "cell_type": "code",
   "execution_count": 18,
   "metadata": {
    "slideshow": {
     "slide_type": "fragment"
    }
   },
   "outputs": [
    {
     "name": "stdout",
     "output_type": "stream",
     "text": [
      "Allocate the resource: 0x561fdfe69840\n"
     ]
    },
    {
     "ename": "Error",
     "evalue": "",
     "output_type": "error",
     "traceback": [
      "Error: "
     ]
    }
   ],
   "source": [
    "{\n",
    "    Resource* rptr = new Resource; // explicit allocation\n",
    "    throw 0; // problem here, destructor never called\n",
    "    delete rptr;\n",
    "}"
   ]
  },
  {
   "cell_type": "markdown",
   "metadata": {
    "slideshow": {
     "slide_type": "slide"
    }
   },
   "source": [
    "## Example: `my_auto_ptr` smart pointer"
   ]
  },
  {
   "cell_type": "code",
   "execution_count": 19,
   "metadata": {
    "slideshow": {
     "slide_type": "slide"
    }
   },
   "outputs": [],
   "source": [
    "// my_auto_ptr\n",
    "template<typename T>\n",
    "class my_auto_ptr {\n",
    "    T* ptr;\n",
    "public:\n",
    "    my_auto_ptr(T* newptr) : ptr{newptr} {}\n",
    "    ~my_auto_ptr() { delete ptr; }\n",
    "    \n",
    "    T& operator*() const { return *ptr; }\n",
    "    T* operator->() const { return ptr; }\n",
    "};"
   ]
  },
  {
   "cell_type": "code",
   "execution_count": 20,
   "metadata": {
    "scrolled": true,
    "slideshow": {
     "slide_type": "fragment"
    }
   },
   "outputs": [
    {
     "name": "stdout",
     "output_type": "stream",
     "text": [
      "Allocate the resource: 0x561fe035a640\n",
      "Deallocate the resource: 0x561fe035a640\n"
     ]
    },
    {
     "ename": "Error",
     "evalue": "",
     "output_type": "error",
     "traceback": [
      "Error: "
     ]
    }
   ],
   "source": [
    "{\n",
    "    Resource* rptr = new Resource; // explicit allocation\n",
    "    my_auto_ptr<Resource> smartptr{rptr}; // wrapped in auto_ptr\n",
    "    throw 0; // no problem here\n",
    "    delete rptr;\n",
    "} // destructor for auto_ptr called here, and so for Resource"
   ]
  },
  {
   "cell_type": "markdown",
   "metadata": {
    "slideshow": {
     "slide_type": "slide"
    }
   },
   "source": [
    "## Tips\n",
    "\n",
    "`std::auto_ptr` has a number of problems that makes using it dangerous.\n",
    "\n",
    "- `std::auto_ptr` implements **move semantics** through the copy constructor and assignment operator, passing a `std::auto_ptr` by value to a function will cause your resource to get moved to the function parameter\n",
    "    - and be destroyed at the end of the function when the function parameters go out of scope.\n",
    "    - Then when you go to access your `auto_ptr` argument from the caller (not realizing it was transferred and deleted)\n",
    "\n",
    "- `auto_ptr` always deletes its contents using non-array delete.\n",
    "    - This means `auto_ptr` won't work correctly with dynamically allocated arrays.\n",
    "\n",
    "- `auto_ptr` doesn't play nice with a lot of the other classes in the standard library"
   ]
  },
  {
   "cell_type": "code",
   "execution_count": 21,
   "metadata": {
    "slideshow": {
     "slide_type": "fragment"
    }
   },
   "outputs": [
    {
     "name": "stdout",
     "output_type": "stream",
     "text": [
      "Allocate the resource: 0x561fdff3adb0\n",
      "Try to use my resource: 0x561fdff3adb0\n",
      "Deallocate the resource: 0x561fdff3adb0\n",
      "Try to use my resource: 0x561fe061b8e0\n"
     ]
    }
   ],
   "source": [
    "{\n",
    "    Resource* rptr = new Resource; // explicit allocation\n",
    "    cout << \"Try to use my resource: \" << rptr->selfptr << endl;\n",
    "    {\n",
    "        my_auto_ptr<Resource> smartptr{rptr}; // wrapped in the smart pointer\n",
    "    }\n",
    "    cout << \"Try to use my resource: \" << rptr->selfptr << endl; // different object\n",
    "    // delete rptr; // double delete\n",
    "}"
   ]
  },
  {
   "cell_type": "markdown",
   "metadata": {
    "slideshow": {
     "slide_type": "slide"
    }
   },
   "source": [
    "## More Smart Pointers\n",
    "\n",
    "- To support easy adoption of RAII principles, the C++ Standard Library provides three smart pointer types:\n",
    "    - `std::unique_ptr`\n",
    "    - `std::shared_ptr`\n",
    "    - `std::weak_ptr`\n",
    "- A smart pointer handles the allocation and deletion of the memory it owns.\n",
    "- The following example shows a class with an array member that is allocated on the heap in the call to `make_unique()`.\n",
    "    - The calls to new and delete are encapsulated by the `unique_ptr` class."
   ]
  },
  {
   "cell_type": "code",
   "execution_count": null,
   "metadata": {
    "slideshow": {
     "slide_type": "slide"
    }
   },
   "outputs": [],
   "source": [
    "#include <memory>\n",
    "class widget\n",
    "{\n",
    "private:\n",
    "    std::unique_ptr<int> data;\n",
    "public:\n",
    "    widget(const int size) { data = std::make_unique<int>(size); }\n",
    "    void do_something() {}\n",
    "};\n",
    "\n",
    "void functionUsingWidget() {\n",
    "    widget w(1000000);   // lifetime automatically tied to enclosing scope\n",
    "                         // constructs w, including the w.data gadget member\n",
    "    // ...\n",
    "    w.do_something();\n",
    "    // ...\n",
    "} // automatic destruction and deallocation for w and w.data"
   ]
  },
  {
   "cell_type": "code",
   "execution_count": 22,
   "metadata": {
    "slideshow": {
     "slide_type": "fragment"
    }
   },
   "outputs": [
    {
     "name": "stdout",
     "output_type": "stream",
     "text": [
      "Allocate the resource: 0x561fdfefd9e0\n",
      "Try to use my resource: 0x561fdfefd9e0\n",
      "Try to use my resource from `shared_ptr`: 0x561fdfefd9e0\n",
      "Try to use my resource: 0x561fdfefd9e0\n",
      "Deallocate the resource: 0x561fdfefd9e0\n"
     ]
    }
   ],
   "source": [
    "{\n",
    "    shared_ptr<Resource> rptr = make_shared<Resource>(); // explicit allocation\n",
    "    cout << \"Try to use my resource: \" << rptr->selfptr << endl;\n",
    "    {\n",
    "        shared_ptr<Resource> smartptr{rptr}; // wrapped in the smart pointer\n",
    "        cout << \"Try to use my resource from `shared_ptr`: \" << smartptr->selfptr << endl; // different object\n",
    "    }\n",
    "    cout << \"Try to use my resource: \" << rptr->selfptr << endl; // different object\n",
    "    // delete rptr; // double delete\n",
    "}"
   ]
  }
 ],
 "metadata": {
  "celltoolbar": "Slideshow",
  "jupytext": {
   "cell_metadata_filter": "-all",
   "main_language": "python",
   "notebook_metadata_filter": "-all"
  },
  "kernelspec": {
   "display_name": "C++17",
   "language": "C++17",
   "name": "xcpp17"
  },
  "language_info": {
   "codemirror_mode": "text/x-c++src",
   "file_extension": ".cpp",
   "mimetype": "text/x-c++src",
   "name": "c++",
   "version": "17"
  }
 },
 "nbformat": 4,
 "nbformat_minor": 4
}
