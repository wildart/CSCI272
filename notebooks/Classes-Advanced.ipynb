{
 "cells": [
  {
   "cell_type": "code",
   "execution_count": 1,
   "metadata": {
    "slideshow": {
     "slide_type": "skip"
    }
   },
   "outputs": [],
   "source": [
    "#include <iostream>\n",
    "#include <iomanip>   // for setw and setfill stream manipulators\n",
    "#include <stdexcept> // for invalid_argument exception class\n",
    "#include <sstream>   // for ostringstream class\n",
    "#include <string>\n",
    "using namespace std;"
   ]
  },
  {
   "cell_type": "markdown",
   "metadata": {
    "slideshow": {
     "slide_type": "slide"
    }
   },
   "source": [
    "# Classes: Advanced"
   ]
  },
  {
   "cell_type": "markdown",
   "metadata": {
    "slideshow": {
     "slide_type": "slide"
    }
   },
   "source": [
    "- Friend function and classes\n",
    "- **this** pointer\n",
    "- Pointer to a private data member\n",
    "- Default memberwise assignment\n",
    "- Const objects\n",
    "- Const member functions\n",
    "- Composition\n",
    "- Default copy constructor\n",
    "- Static class members\n",
    "- Dynamic Memory Management"
   ]
  },
  {
   "cell_type": "markdown",
   "metadata": {
    "slideshow": {
     "slide_type": "slide"
    }
   },
   "source": [
    "## Friend Functions and Classes\n",
    "\n",
    "A **friend function** of a class is a non-member function that has the right to access the public and non-public class members.\n",
    "- Standalone functions, entire classes or member functions of other classes may be declared to be friends of another class, see [C++ Reference Manual](https://en.cppreference.com/w/cpp/language/friend).\n",
    "\n",
    "Declaring a friend\n",
    "- To declare a non-member function as a friend of a class, place the function prototype in the class definition and precede it with keyword **friend**.\n",
    "- To declare all member functions of a class as friends of other class, place a **friend** declaration of the form\n",
    "```cpp\n",
    "friend class <frend-class-name>;\n",
    "// or\n",
    "friend <frend-function-name>;\n",
    "```"
   ]
  },
  {
   "cell_type": "code",
   "execution_count": 2,
   "metadata": {
    "slideshow": {
     "slide_type": "slide"
    }
   },
   "outputs": [],
   "source": [
    "class Point3D {\n",
    "    friend void setX(Point3D&, int); // friend function declaration\n",
    "    friend class Point3DUtils;       // friend class declaration\n",
    "    friend ostream& operator<<(ostream&, const Point3D&); // friend streaming operator\n",
    "private:    \n",
    "    int x; int y; int z;\n",
    "public:\n",
    "    Point3D(int r = 0, int s = 0, int t = 0): x(r), y(s), z(t) {}    \n",
    "    string toString() const {\n",
    "        ostringstream out;\n",
    "        out << \"(x:\" << x << \", y:\" << y  << \", z:\" << z << \")\";\n",
    "        return out.str();\n",
    "    }    \n",
    "}"
   ]
  },
  {
   "cell_type": "markdown",
   "metadata": {
    "slideshow": {
     "slide_type": "fragment"
    }
   },
   "source": [
    "*Note:* **Member access** notions of private, protected and public are **not relevant to friend declarations**, so friend declarations can be placed **anywhere** in a class definition."
   ]
  },
  {
   "cell_type": "code",
   "execution_count": 11,
   "metadata": {
    "slideshow": {
     "slide_type": "slide"
    }
   },
   "outputs": [],
   "source": [
    "// friend function that has access to\n",
    "// Point3D private data members\n",
    "void setX(Point3D& p, int x){\n",
    "    p.x = x;\n",
    "}"
   ]
  },
  {
   "cell_type": "code",
   "execution_count": 12,
   "metadata": {
    "slideshow": {
     "slide_type": "fragment"
    }
   },
   "outputs": [
    {
     "name": "stderr",
     "output_type": "stream",
     "text": [
      "\u001b[1minput_line_19:4:7: \u001b[0m\u001b[0;1;31merror: \u001b[0m\u001b[1m'x' is a private member of '__cling_N510::Point3D'\u001b[0m\n",
      "    p.x = x;\n",
      "\u001b[0;1;32m      ^\n",
      "\u001b[0m\u001b[1minput_line_17:6:9: \u001b[0m\u001b[0;1;30mnote: \u001b[0mdeclared private here\u001b[0m\n",
      "    int x; int y; int z;\n",
      "\u001b[0;1;32m        ^\n",
      "\u001b[0m"
     ]
    },
    {
     "ename": "Interpreter Error",
     "evalue": "",
     "output_type": "error",
     "traceback": [
      "Interpreter Error: "
     ]
    }
   ],
   "source": [
    "// friend function that has access to\n",
    "// Point3D private data members\n",
    "void setY(Point3D& p, int x){\n",
    "    p.x = x;\n",
    "}"
   ]
  },
  {
   "cell_type": "code",
   "execution_count": 13,
   "metadata": {
    "slideshow": {
     "slide_type": "fragment"
    }
   },
   "outputs": [
    {
     "name": "stdout",
     "output_type": "stream",
     "text": [
      "(x:0, y:0, z:0)\n",
      "(x:10, y:0, z:0)\n"
     ]
    }
   ],
   "source": [
    "{\n",
    "    Point3D p;\n",
    "    cout << p.toString() << endl;\n",
    "    setX(p, 10);\n",
    "    cout << p.toString() << endl;\n",
    "}"
   ]
  },
  {
   "cell_type": "code",
   "execution_count": 14,
   "metadata": {
    "slideshow": {
     "slide_type": "slide"
    }
   },
   "outputs": [],
   "source": [
    "// friend class that has access to\n",
    "// Point3D private data members\n",
    "class Point3DUtils {\n",
    "    int defaultx;\n",
    "public:\n",
    "    Point3DUtils(): defaultx(1000) {}\n",
    "    void setDefaultX(Point3D& p){ p.x = defaultx;}\n",
    "    void setDefaultY(Point3D& p){ p.y = defaultx+1;}\n",
    "}"
   ]
  },
  {
   "cell_type": "code",
   "execution_count": 15,
   "metadata": {
    "slideshow": {
     "slide_type": "fragment"
    }
   },
   "outputs": [
    {
     "name": "stdout",
     "output_type": "stream",
     "text": [
      "(x:0, y:0, z:0)\n",
      "(x:1000, y:0, z:0)\n",
      "(x:1000, y:1001, z:0)\n"
     ]
    }
   ],
   "source": [
    "{\n",
    "    Point3DUtils pu;\n",
    "    Point3D p;\n",
    "    cout << p.toString() << endl;\n",
    "    pu.setDefaultX(p);\n",
    "    cout << p.toString() << endl;\n",
    "    pu.setDefaultY(p);\n",
    "    cout << p.toString() << endl;\n",
    "}"
   ]
  },
  {
   "cell_type": "code",
   "execution_count": null,
   "metadata": {
    "slideshow": {
     "slide_type": "slide"
    }
   },
   "outputs": [],
   "source": [
    "ostream& operator<<(ostream& out, const Point3D& p){\n",
    "    out << \"(\" << p.x << p.y << p.z << \")\" << endl; // p.x, p.y, p.z are private\n",
    "    return out;\n",
    "}"
   ]
  },
  {
   "cell_type": "code",
   "execution_count": null,
   "metadata": {
    "scrolled": false,
    "slideshow": {
     "slide_type": "fragment"
    }
   },
   "outputs": [],
   "source": [
    "{\n",
    "    Point3D p;\n",
    "    cout << p << endl;\n",
    "}"
   ]
  },
  {
   "cell_type": "markdown",
   "metadata": {
    "slideshow": {
     "slide_type": "slide"
    }
   },
   "source": [
    "## Friendship\n",
    "\n",
    "Friendship is granted, not taken\n",
    "- for class B to be a friend of class A, class A must explicitly declare that class B is its friend.\n",
    "\n",
    "Friendship is not symmetric\n",
    "- if class A is a friend of class B, you cannot infer that class B is a friend of class A.\n",
    "\n",
    "Friendship is not transitive\n",
    "- if class A is a friend of class B and class B is a friend of class C, you cannot infer that class A is a friend of class C."
   ]
  },
  {
   "cell_type": "markdown",
   "metadata": {
    "slideshow": {
     "slide_type": "slide"
    }
   },
   "source": [
    "## this Pointer\n",
    "\n",
    "Every object has access to its own address through a pointer called **this** (a C++ keyword).\n",
    "- The **this** pointer is not part of the object itself\n",
    "    - the memory occupied by the this pointer is not reflected in the result of a **sizeof** operation on the object.\n",
    "- Rather, the this pointer is passed (by the compiler) as an **implicit** argument to each of the object's non-static member functions.\n",
    "\n",
    "Member functions use the this pointer **implicitly** or **explicitly** to reference an object's data members and other member functions.\n",
    "- A common explicit use of the this pointer is to avoid naming conflicts between a class's data members and member-function parameters (or other local variables)."
   ]
  },
  {
   "cell_type": "code",
   "execution_count": 13,
   "metadata": {
    "slideshow": {
     "slide_type": "slide"
    }
   },
   "outputs": [],
   "source": [
    "class Point {\n",
    "    int x;\n",
    "public:\n",
    "    Point(int val) : x{val} {}\n",
    "    int getX() { return x; }\n",
    "    void setX(int x){\n",
    "        // implicitly use the this pointer to access the member x\n",
    "        cout << \"[setX] x = \" << x << endl;\n",
    "        // explicitly use the this pointer and the arrow operator\n",
    "        // to access the member x\n",
    "        this->x = x;\n",
    "        // explicitly use the dereferenced this pointer and\n",
    "        // the dot operator to access the member x\n",
    "        cout << \"(*this).x = \" << (*this).x << endl;\n",
    "    }\n",
    "}"
   ]
  },
  {
   "cell_type": "code",
   "execution_count": 14,
   "metadata": {
    "slideshow": {
     "slide_type": "fragment"
    }
   },
   "outputs": [
    {
     "name": "stdout",
     "output_type": "stream",
     "text": [
      "After creation: p.x = 0\n",
      "[setX] x = 2\n",
      "(*this).x = 2\n",
      "p.x = 2\n"
     ]
    }
   ],
   "source": [
    "{\n",
    "    Point p{0};\n",
    "    cout << \"After creation: p.x = \" << p.getX() << endl;\n",
    "    p.setX(2);\n",
    "    cout << \"p.x = \" << p.getX() << endl;\n",
    "}"
   ]
  },
  {
   "cell_type": "markdown",
   "metadata": {
    "slideshow": {
     "slide_type": "slide"
    }
   },
   "source": [
    "## Pointer to a Private Data Member\n",
    "\n",
    "A reference to an object is an alias for the name of the object and, hence, may be used on the left side of an assignment statement.\n",
    "- The reference makes a perfectly acceptable **lvalue** that can receive a value.\n",
    "\n",
    "A member function can return a reference to a private data member of that class.\n",
    "- Returning a reference or a pointer to a private data member breaks the encapsulation of the class.\n",
    "- Makes the client code dependent on the representation of the class’s data.\n",
    "- <span style=\"color:red\">NEVER DO THAT!!!</span>\n"
   ]
  },
  {
   "cell_type": "code",
   "execution_count": 15,
   "metadata": {
    "slideshow": {
     "slide_type": "slide"
    }
   },
   "outputs": [],
   "source": [
    "class PrivateRef {\n",
    "    int x;\n",
    "public:\n",
    "    int getValue() const { return x; };\n",
    "    void setValue(int v){ x=v; };\n",
    "    int& setValueBad(int v){ x=v; return x; };\n",
    "}"
   ]
  },
  {
   "cell_type": "code",
   "execution_count": 19,
   "metadata": {
    "slideshow": {
     "slide_type": "fragment"
    }
   },
   "outputs": [
    {
     "name": "stdout",
     "output_type": "stream",
     "text": [
      "X: -1147710480\n",
      "X: 10\n",
      "X: 30\n"
     ]
    }
   ],
   "source": [
    "{\n",
    "    PrivateRef X;\n",
    "    cout << \"X: \" << X.getValue() << endl;\n",
    "    X.setValue(10);\n",
    "    cout << \"X: \" << X.getValue() << endl;\n",
    "    X.setValueBad(20) = 30; // BIG PROBLEM\n",
    "    cout << \"X: \" << X.getValue() << endl;\n",
    "}"
   ]
  },
  {
   "cell_type": "markdown",
   "metadata": {
    "slideshow": {
     "slide_type": "slide"
    }
   },
   "source": [
    "## Default Memberwise Assignment\n",
    "\n",
    "- The **assignment operator (=)** can be used to **assign an object to another object** of the same type.\n",
    "    - By default, such assignment is performed by **memberwise assignment** (also called *copy assignment*).    \n",
    "- Each data member of the object on the right of the assignment operator is assigned individually to the same data member in the object on the left of the assignment operator.\n",
    "\n",
    "<span style=\"color:red\">Caution: Memberwise assignment can cause serious problems when used with a class whose data members contain pointers to dynamically allocated memory.</span>"
   ]
  },
  {
   "cell_type": "code",
   "execution_count": 14,
   "metadata": {
    "slideshow": {
     "slide_type": "slide"
    }
   },
   "outputs": [],
   "source": [
    "class Point2D {\n",
    "    int x;\n",
    "    int y;\n",
    "public:\n",
    "    Point2D(int v = 0, int w = 0): x(v), y(w){}\n",
    "    ~Point2D(){ cout << \"Point2D object [\" << toString() <<\"] is destroyed\" << endl; }\n",
    "    \n",
    "    void setPoint(int v, int w) {x= v; y = w; }; \n",
    "    string toString() const {\n",
    "        ostringstream out;\n",
    "        out << \"(x:\" << x << \", y:\" << y << \")\";\n",
    "        return out.str();\n",
    "    }\n",
    "}"
   ]
  },
  {
   "cell_type": "code",
   "execution_count": 15,
   "metadata": {
    "slideshow": {
     "slide_type": "fragment"
    }
   },
   "outputs": [
    {
     "name": "stdout",
     "output_type": "stream",
     "text": [
      "Before: p1: (x:3, y:2), p2: (x:0, y:0)\n",
      " After: p1: (x:3, y:2), p2: (x:3, y:2)\n",
      "Point2D object [(x:3, y:2)] is destroyed\n",
      "Point2D object [(x:3, y:2)] is destroyed\n"
     ]
    }
   ],
   "source": [
    "{\n",
    "    Point2D p1{3,2};\n",
    "    Point2D p2;\n",
    "    cout << \"Before: p1: \" << p1.toString() << \", p2: \" << p2.toString() << endl;\n",
    "    p2 = p1; //  memberwise assignment\n",
    "    cout << \" After: p1: \" << p1.toString() << \", p2: \" << p2.toString() << endl;\n",
    "}"
   ]
  },
  {
   "cell_type": "markdown",
   "metadata": {
    "slideshow": {
     "slide_type": "slide"
    }
   },
   "source": [
    "## Const Objects\n",
    "\n",
    "- Attempts to modify a const object are **caught at compile time** rather than causing execution-time errors.\n",
    "- Declaring variables and objects **const** when appropriate can improve performance."
   ]
  },
  {
   "cell_type": "code",
   "execution_count": 16,
   "metadata": {
    "scrolled": true,
    "slideshow": {
     "slide_type": "fragment"
    }
   },
   "outputs": [
    {
     "name": "stderr",
     "output_type": "stream",
     "text": [
      "\u001b[1minput_line_23:6:8: \u001b[0m\u001b[0;1;31merror: \u001b[0m\u001b[1mno viable overloaded '='\u001b[0m\n",
      "    p2 = p1; //  memberwise assignment\n",
      "\u001b[0;1;32m    ~~ ^ ~~\n",
      "\u001b[0m\u001b[1minput_line_21:1:7: \u001b[0m\u001b[0;1;30mnote: \u001b[0mcandidate function (the implicit copy assignment operator) not viable: 'this'\n",
      "      argument has type 'const __cling_N514::Point2D', but method is not marked\n",
      "      const\u001b[0m\n",
      "class Point2D {\n",
      "\u001b[0;1;32m      ^\n",
      "\u001b[0m"
     ]
    },
    {
     "ename": "Interpreter Error",
     "evalue": "",
     "output_type": "error",
     "traceback": [
      "Interpreter Error: "
     ]
    }
   ],
   "source": [
    "{\n",
    "    Point2D p1{1,2};\n",
    "    const Point2D p2;\n",
    "    cout << \"p1: \" << p1.toString() << \", p2: \" << p2.toString() << endl;\n",
    "    p2 = p1; //  memberwise assignment\n",
    "}"
   ]
  },
  {
   "cell_type": "markdown",
   "metadata": {
    "slideshow": {
     "slide_type": "slide"
    }
   },
   "source": [
    "## Const Member Functions\n",
    "\n",
    "- C++ disallows member function calls for **const** objects unless the member functions themselves are also declared **const**.\n",
    "    - This is true even for get member functions that do not modify the object.\n",
    "    - This is also a key reason that we've declared as **const** all member-functions that do not modify the objects on which they're called.\n",
    "- Constructor **must be a non-const** member function, but it can still be used to initialize a **const** object\n",
    "    - Attempting to declare a constructor or destructor const is a compilation error."
   ]
  },
  {
   "cell_type": "code",
   "execution_count": 17,
   "metadata": {
    "slideshow": {
     "slide_type": "slide"
    }
   },
   "outputs": [
    {
     "name": "stderr",
     "output_type": "stream",
     "text": [
      "\u001b[1minput_line_24:8:5: \u001b[0m\u001b[0;1;31merror: \u001b[0m\u001b[1mmember function 'setPoint' not viable: 'this' argument has type 'const\n",
      "      __cling_N514::Point2D', but function is not marked const\u001b[0m\n",
      "    p2.setPoint(1,1); // const     non-const  !!! PROBLEM\n",
      "\u001b[0;1;32m    ^~\n",
      "\u001b[0m\u001b[1minput_line_21:8:10: \u001b[0m\u001b[0;1;30mnote: \u001b[0m'setPoint' declared here\u001b[0m\n",
      "    void setPoint(int v, int w) {x= v; y = w; }; \n",
      "\u001b[0;1;32m         ^\n",
      "\u001b[0m"
     ]
    },
    {
     "ename": "Interpreter Error",
     "evalue": "",
     "output_type": "error",
     "traceback": [
      "Interpreter Error: "
     ]
    }
   ],
   "source": [
    "{\n",
    "    Point2D p1{1,2};\n",
    "    const Point2D p2; \n",
    "                      // OBJECT    MEMBER\n",
    "    p1.setPoint(1,1); // non-const non-const\n",
    "    p1.toString();    // non-const const\n",
    "    p2.setPoint(1,1); // const     non-const  !!! PROBLEM\n",
    "    p2.toString();    // const     const\n",
    "}"
   ]
  },
  {
   "cell_type": "markdown",
   "metadata": {
    "slideshow": {
     "slide_type": "slide"
    }
   },
   "source": [
    "## Composition: Objects as Members of Classes\n",
    "\n",
    "It is natural to think of objects as containing other objects.\n",
    "- an aircraft may be studied by decomposing it into its propulsion system, etc.\n",
    "- object structure\n",
    "- \"part-of\" hierarchy / \"has-a\" relation\n",
    "    - has-a relationship - a class can have objects of other classes as members.\n",
    "\n",
    "Data members are constructed in the order in which they're declared in the class definition\n",
    "- before their enclosing class objects are constructed."
   ]
  },
  {
   "cell_type": "code",
   "execution_count": 18,
   "metadata": {
    "slideshow": {
     "slide_type": "slide"
    }
   },
   "outputs": [],
   "source": [
    "class Location {\n",
    "    string name;   // composition: member object\n",
    "    Point2D coord; // composition: member object\n",
    "public:\n",
    "    Location(const string& n, int x, int y) : name(n), coord{x,y} {}   // using Point2D constructor\n",
    "    Location(const string& n, const Point2D &p) : name(n), coord{p} {} // using Point2D copy constructor\n",
    "    ~Location(){ cout << \"Location object [\" << toString() <<\"] is destroyed\" << endl; }\n",
    "    string toString() const {\n",
    "        ostringstream out;\n",
    "        out << name << \" @ \" << coord.toString();\n",
    "        return out.str();\n",
    "    }    \n",
    "    void setLocation(int x, int y) { coord.setPoint(x,y); }\n",
    "}"
   ]
  },
  {
   "cell_type": "code",
   "execution_count": 19,
   "metadata": {
    "slideshow": {
     "slide_type": "fragment"
    }
   },
   "outputs": [
    {
     "name": "stdout",
     "output_type": "stream",
     "text": [
      "Point2D object [(x:0, y:0)] is destroyed\n"
     ]
    }
   ],
   "source": [
    "{\n",
    "    Point2D p1;\n",
    "}"
   ]
  },
  {
   "cell_type": "code",
   "execution_count": 9,
   "metadata": {
    "slideshow": {
     "slide_type": "fragment"
    }
   },
   "outputs": [
    {
     "name": "stdout",
     "output_type": "stream",
     "text": [
      "home @ (x:1, y:2)\n",
      "Location object [home @ (x:1, y:2)] is destroyed\n",
      "Point2D object [(x:1, y:2)] is destroyed\n"
     ]
    }
   ],
   "source": [
    "{\n",
    "    Location home{\"home\", 1, 2};\n",
    "    cout << home.toString() << endl;    \n",
    "}"
   ]
  },
  {
   "cell_type": "markdown",
   "metadata": {
    "slideshow": {
     "slide_type": "slide"
    }
   },
   "source": [
    "## Default Copy Constructor\n",
    "\n",
    "Objects may be passed as function arguments and may be returned from functions.\n",
    "- such passing and returning is performed using pass-by-value by default\n",
    "    - a copy of the object is passed or returned. \n",
    "- C++ creates a **new object** and uses a **copy constructor** to copy the original object's values into the new object.\n",
    "    - the compiler provides a default copy constructor that copies each member of the original object into the corresponding member of the new object.\n",
    "\n",
    "The member initializers specify **Location** constructor parameters being passed to the constructors of the **Point2D** data members.\n",
    "- If a member object is not initialized through a member initializer, the member object's default constructor will be called implicitly."
   ]
  },
  {
   "cell_type": "code",
   "execution_count": 10,
   "metadata": {
    "slideshow": {
     "slide_type": "slide"
    }
   },
   "outputs": [
    {
     "name": "stdout",
     "output_type": "stream",
     "text": [
      "Begining of local scope\n",
      "home @ (x:2, y:3)\n",
      "home @ (x:3, y:4)\n",
      "End of local scope\n",
      "Location object [home @ (x:3, y:4)] is destroyed\n",
      "Point2D object [(x:3, y:4)] is destroyed\n",
      "Point2D object [(x:2, y:3)] is destroyed\n"
     ]
    }
   ],
   "source": [
    "{\n",
    "    cout << \"Begining of local scope\" << endl;\n",
    "    Point2D p{2,3};\n",
    "    Location home{\"home\", p};\n",
    "    cout << home.toString() << endl;    \n",
    "    home.setLocation(3,4);\n",
    "    cout << home.toString() << endl;    \n",
    "    cout << \"End of local scope\" << endl;\n",
    "}"
   ]
  },
  {
   "cell_type": "markdown",
   "metadata": {
    "slideshow": {
     "slide_type": "slide"
    }
   },
   "source": [
    "## Cascaded Function Calls\n",
    "\n",
    "We can use of the **this** pointer is to enable **cascaded member-function calls** by returning **\\*this**.\n",
    "- invoking multiple functions sequentially in the same statement"
   ]
  },
  {
   "cell_type": "code",
   "execution_count": 5,
   "metadata": {
    "slideshow": {
     "slide_type": "fragment"
    }
   },
   "outputs": [],
   "source": [
    "class Coord {\n",
    "    int x; int y;\n",
    "public:\n",
    "    Coord& setX(int x) { this->x = x; return *this ;}\n",
    "    Coord& setY(int y) { this->y = y; return *this ;}\n",
    "    void print() const { cout << \"(x:\" << x << \", y:\" << y  << \")\" << endl; }\n",
    "}"
   ]
  },
  {
   "cell_type": "code",
   "execution_count": 6,
   "metadata": {
    "slideshow": {
     "slide_type": "fragment"
    }
   },
   "outputs": [
    {
     "name": "stdout",
     "output_type": "stream",
     "text": [
      "(x:1799847936, y:32557)\n",
      "(x:1, y:2)\n"
     ]
    }
   ],
   "source": [
    "{\n",
    "    Coord c;\n",
    "    c.print();\n",
    "    c.setX(1).setY(2);\n",
    "    c.print();\n",
    "}"
   ]
  },
  {
   "cell_type": "markdown",
   "metadata": {
    "slideshow": {
     "slide_type": "slide"
    }
   },
   "source": [
    "## Static Class Members\n",
    "\n",
    "- In certain cases, only one copy of a variable should be **shared** by **all** objects of a class.\n",
    "- A ***static* data member** is used for these and other reasons.\n",
    "- Such a variable represents \"classwide\" information,\n",
    "    - data that is shared by all instances and is not specific to any one object of the class.    \n",
    "- Static data members have **class scope**.\n",
    "- A static data member must be initialized **exactly once**.\n",
    "- Fundamental-type static data members are initialized by default to 0.\n",
    "- In C++11's all static const data members can have in-class initializers."
   ]
  },
  {
   "cell_type": "code",
   "execution_count": null,
   "metadata": {
    "slideshow": {
     "slide_type": "slide"
    }
   },
   "outputs": [],
   "source": [
    "// Counter.h\n",
    "#include <iostream>\n",
    "using namespace std;\n",
    "class Counter {\n",
    "    static unsigned int count; // number of objects instantiated\n",
    "public:\n",
    "    Counter()  { cout << \"new object created\" << endl; ++count; };\n",
    "    ~Counter() { cout << \"object destroyed\" << endl; --count; };\n",
    "    static unsigned int getCount();\n",
    "}"
   ]
  },
  {
   "cell_type": "code",
   "execution_count": null,
   "metadata": {
    "slideshow": {
     "slide_type": "fragment"
    }
   },
   "outputs": [],
   "source": [
    "// main.cpp\n",
    "#include <iostream>\n",
    "#include \"Counter.h\"\n",
    "using namespace std;\n",
    "// define and initialize static data member at global namespace scope\n",
    "unsigned int Counter::count{100}; // cannot include keyword static\n",
    "// define static member function that returns number of initialized objects\n",
    "unsigned int Counter::getCount(){ return count; }\n",
    "int main() {\n",
    "    cout << \"Counter starts with \" << Counter::getCount() << endl;\n",
    "    {\n",
    "        Counter c1;\n",
    "        cout << \"Counter after 'c1' created: \" << Counter::getCount() << endl;\n",
    "        {\n",
    "            Counter c2;\n",
    "            cout << \"Counter after 'c2' created: \" << Counter::getCount() << endl;\n",
    "        }\n",
    "        cout << \"Counter after 'c2' destroyed: \" << Counter::getCount() << endl;\n",
    "    }\n",
    "    cout << \"Counter after 'c1' destroyed:  \" << Counter::getCount() << endl;\n",
    "}"
   ]
  },
  {
   "cell_type": "code",
   "execution_count": 16,
   "metadata": {
    "slideshow": {
     "slide_type": "slide"
    }
   },
   "outputs": [],
   "source": [
    "class C {\n",
    "public:\n",
    "    int x{-1};\n",
    "    void setX(int x){\n",
    "        x = x;\n",
    "    }\n",
    "}"
   ]
  },
  {
   "cell_type": "code",
   "execution_count": 18,
   "metadata": {
    "slideshow": {
     "slide_type": "fragment"
    }
   },
   "outputs": [
    {
     "name": "stdout",
     "output_type": "stream",
     "text": [
      "-1\n",
      "-1\n"
     ]
    }
   ],
   "source": [
    "{\n",
    "    C obj;\n",
    "    cout << obj.x << endl;\n",
    "    obj.setX(10);\n",
    "    cout << obj.x << endl;\n",
    "}"
   ]
  },
  {
   "cell_type": "markdown",
   "metadata": {
    "slideshow": {
     "slide_type": "slide"
    }
   },
   "source": [
    "## Dynamic Memory Management\n",
    "\n",
    "- You can control memory **allocation** and **deallocation** in a program for objects and for arrays of any built-in or user-defined type.\n",
    "    - Known as **dynamic memory management**; performed with **new** and **delete**.\n",
    "- Use the **new** operator to dynamically allocate the exact amount of memory required to hold an object at execution time.\n",
    "- The object is created in the free store - **heap** - a region of memory assigned to each program for storing dynamically allocated objects.\n",
    "- Once memory is allocated, you can access it via the pointer that operator **new** returns.\n",
    "- Return memory by using the **delete** operator to **deallocate** it."
   ]
  },
  {
   "cell_type": "markdown",
   "metadata": {
    "slideshow": {
     "slide_type": "slide"
    }
   },
   "source": [
    "## Obtaining Dynamic Memory\n",
    "\n",
    "- The **new** operator allocates storage of the proper size for an object\n",
    "    - calls the default constructor to initialize the object, and\n",
    "    - returns a pointer to the type specified to the right of the new operator.\n",
    "- If **new** is unable to find sufficient space in memory for the object, it indicates that an error occurred\n",
    "    - by \"throwing an exception\"."
   ]
  },
  {
   "cell_type": "code",
   "execution_count": null,
   "metadata": {
    "slideshow": {
     "slide_type": "fragment"
    }
   },
   "outputs": [],
   "source": [
    "{\n",
    "    ClassWithIncOp2* ptr{new ClassWithIncOp2(7)};\n",
    "    cout << ptr->getX();\n",
    "}"
   ]
  },
  {
   "cell_type": "markdown",
   "metadata": {
    "slideshow": {
     "slide_type": "slide"
    }
   },
   "source": [
    "## Releasing Dynamic Memory\n",
    "\n",
    "- To destroy a dynamically allocated object, use the **delete** operator as follows:\n",
    "        delete ptr;\n",
    "- This statement first calls the **destructor** for the object to which `ptr` points,\n",
    "    - then deallocates the memory associated with the object, returning the memory to the free store."
   ]
  },
  {
   "cell_type": "code",
   "execution_count": null,
   "metadata": {
    "slideshow": {
     "slide_type": "fragment"
    }
   },
   "outputs": [],
   "source": [
    "{\n",
    "    ClassWithIncOp2* ptr{new ClassWithIncOp2(7)};\n",
    "    cout << ptr->getX() << endl;\n",
    "    delete ptr;\n",
    "    // delete ptr; //DO NOT DO THAT TWO TIMES\n",
    "    ptr = nullptr;\n",
    "    cout << ptr->getX();\n",
    "}"
   ]
  },
  {
   "cell_type": "markdown",
   "metadata": {
    "slideshow": {
     "slide_type": "slide"
    }
   },
   "source": [
    "## Tips\n",
    "\n",
    "- **Memory leak:** Not releasing dynamically allocated memory when it's no longer needed can cause the system to run out of memory prematurely.\n",
    "- Do not delete memory that was not allocated by **new**. Doing so results in undefined behavior.\n",
    "\n",
    "- After you delete a block of dynamically allocated memory, be sure not to delete the same block again.\n",
    "    - One way to guard against this is to immediately set the pointer to `nullptr`.\n",
    "    - Deleting a `nullptr` has no effect."
   ]
  },
  {
   "cell_type": "markdown",
   "metadata": {
    "slideshow": {
     "slide_type": "slide"
    }
   },
   "source": [
    "## Initializing Dynamic Memory\n",
    "\n",
    "- You can provide an **initializer** for a newly created fundamental type variable, as in\n",
    "        double *ptr{new double{3.14159}};\n",
    "- The same syntax can be used to specify a comma-separated list of arguments to the constructor of an object.\n",
    "- You can also use the **new** operator to allocate built-in arrays dynamically.\n",
    "        int *gradesArray{new int[10]{}};        \n",
    "- A dynamically allocated array's **size** can be specified using any non-negative integral expression that can be evaluated at execution time."
   ]
  },
  {
   "cell_type": "markdown",
   "metadata": {
    "slideshow": {
     "slide_type": "slide"
    }
   },
   "source": [
    "## Releasing Dynamically Allocated Built-In Arrays\n",
    "\n",
    "- To deallocate a dynamically allocated array, use the statement\n",
    "        delete[] ptr;\n",
    "- If the pointer points to a built-in array of objects, the statement first calls the destructor for every object in the array, then deallocates the memory.\n",
    "- Using **delete** or **[]** on a **nullptr** has no effect.\n",
    "- Using **delete** instead of **delete[]** for built-in arrays of objects can lead to runtime logic errors."
   ]
  }
 ],
 "metadata": {
  "celltoolbar": "Slideshow",
  "kernelspec": {
   "display_name": "C++14",
   "language": "C++14",
   "name": "xcpp14"
  },
  "language_info": {
   "codemirror_mode": "text/x-c++src",
   "file_extension": ".cpp",
   "mimetype": "text/x-c++src",
   "name": "c++",
   "version": "14"
  },
  "rise": {
   "enable_chalkboard": true
  }
 },
 "nbformat": 4,
 "nbformat_minor": 2
}
