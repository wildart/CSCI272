{
 "cells": [
  {
   "cell_type": "code",
   "execution_count": 1,
   "metadata": {
    "slideshow": {
     "slide_type": "skip"
    }
   },
   "outputs": [],
   "source": [
    "#include <iostream>\n",
    "#include <fstream>\n",
    "#include <iomanip>\n",
    "using namespace std;"
   ]
  },
  {
   "cell_type": "markdown",
   "metadata": {
    "slideshow": {
     "slide_type": "slide"
    }
   },
   "source": [
    "# File I/O"
   ]
  },
  {
   "cell_type": "markdown",
   "metadata": {
    "slideshow": {
     "slide_type": "slide"
    }
   },
   "source": [
    "## Files\n",
    "\n",
    "- Storage of data in memory is *temporary*.\n",
    "- Files are used for data persistence - **permanent** retention of data.\n",
    "- File is an abstraction over a sequence of bytes.\n",
    "    - Each file ends either with an **end-of-file marker** or at a specific byte number recorded in an operating-system-maintained administrative data structure.\n",
    "- The streams provide communication channels between a program and a particular file or device.    "
   ]
  },
  {
   "cell_type": "markdown",
   "metadata": {
    "slideshow": {
     "slide_type": "slide"
    }
   },
   "source": [
    "## Input/Ouput to and from files\n",
    "\n",
    "- File input and file output is an essential in programming.\n",
    "    - Most software involves more than keyboard input and screen user interfaces.\n",
    "    - Data needs to be stored somewhere when a program is not running, and that means writing data to disk.\n",
    "    - For this, we need file input and file output techniques.\n",
    "- Fortunately, this is EASY in C++!\n",
    "    - If you know how to do screen output with `cout`, and keyboard input with `cin`, then you already know most of it!\n",
    "    - File I/O with streams works the same way. The primary difference is that objects other than `cout` and `cin` will be used"
   ]
  },
  {
   "cell_type": "markdown",
   "metadata": {
    "slideshow": {
     "slide_type": "slide"
    }
   },
   "source": [
    "## Kinds of Files\n",
    "\n",
    "- Formatted Text vs. Binary files\n",
    "    - A text file is simply made of **readable text characters**. It looks like the output that is typically printed to the screen through the `cout` object\n",
    "    - A binary file contains **unformatted data**, saved in its **raw memory format**. (For example, the integer 123456789 is saved as a 4-byte chunk of data, the same as it's stored in memory - NOT as the 9 digits in this sentence).\n",
    "- Sequential vs. Random Access files\n",
    "    - A sequential file is one that is typically written or read **from start to finish**\n",
    "    - A random access file is one that stores records, all of the same size, and can read or write single records **in place**, without affecting the rest of the file\n",
    "\n",
    "- For now, we'll deal with sequential text files\n"
   ]
  },
  {
   "cell_type": "markdown",
   "metadata": {
    "slideshow": {
     "slide_type": "slide"
    }
   },
   "source": [
    "## File-Processing Class Templates\n",
    "\n",
    "- To perform file processing in C++, headers `<iostream>` and `<fstream>` must be included.\n",
    "- Header `<fstream>` includes the definitions for the stream class templates\n",
    "    - `basic_ifstream`: a subclass of `basic_istream` for file input\n",
    "    - `basic_ofstream`: a subclass of `basic_ostream` for file output\n",
    "    - `basic_fstream`: a subclass of `basic_iostream` for file input and output."
   ]
  },
  {
   "cell_type": "markdown",
   "metadata": {
    "slideshow": {
     "slide_type": "slide"
    }
   },
   "source": [
    "## File-Processing Class Templates (cont.)\n",
    "\n",
    "- Each stream class template has a predefined specialization for `char` I/O.\n",
    "\n",
    "- The <fstream> library provides `typedef` aliases for these template specializations:\n",
    "    - `ifstream` is an alias for `basic_ifstream<char>`\n",
    "    - `ofstream` is an alias for `basic_ofstream<char>`\n",
    "    - `fstream` is an alias for `basic_fstream<char>`."
   ]
  },
  {
   "cell_type": "markdown",
   "metadata": {
    "slideshow": {
     "slide_type": "slide"
    }
   },
   "source": [
    "## Creating a Sequential File"
   ]
  },
  {
   "cell_type": "code",
   "execution_count": 2,
   "metadata": {
    "slideshow": {
     "slide_type": "fragment"
    }
   },
   "outputs": [],
   "source": [
    "int main() {\n",
    "    // ofstream constructor opens file\n",
    "    ofstream outClientFile{\"clients.txt\", ios::out};\n",
    "    // exit program if unable to create file\n",
    "    if ( !outClientFile ) { // overloaded ! operator\n",
    "        cerr << \"File could not be opened\" << endl;\n",
    "        exit(EXIT_FAILURE);\n",
    "    }\n",
    "    cout << \"Enter the account, name, and balance.\\n\"\n",
    "         << \"Enter end-of-file to end input.\\n? \";\n",
    "    \n",
    "    int account; // the account number\n",
    "    string name; // the account owner's name\n",
    "    double balance; // the account balance\n",
    "\n",
    "    // read account, name and balance from cin,\n",
    "    // then place in file\n",
    "    while ( cin >> account >> name >> balance ) {\n",
    "        outClientFile << account << ' ' << name\n",
    "                      << ' ' << balance << endl;\n",
    "        cout << \"? \";\n",
    "    }\n",
    "}"
   ]
  },
  {
   "cell_type": "markdown",
   "metadata": {
    "slideshow": {
     "slide_type": "slide"
    }
   },
   "source": [
    "## Opening a File\n",
    "\n",
    "- To open the file for output, create an `ofstream` object.\n",
    "- Two arguments are passed to the object's constructor:\n",
    "    - the **filename**, and\n",
    "    - the **file-open mode**.\n",
    "    \n",
    "```c++\n",
    "// ofstream constructor opens file\n",
    "ofstream outClientFile{\"clients.txt\", ios::out};\n",
    "```\n",
    "- For an `ofstream` object, the file-open mode can be either\n",
    "    - `ios::out` (the default) to output data to a file\n",
    "    - `ios::app` to append data to the end of a file"
   ]
  },
  {
   "cell_type": "markdown",
   "metadata": {
    "slideshow": {
     "slide_type": "slide"
    }
   },
   "source": [
    "## Opening a File via the open Member Function\n",
    "\n",
    "- You can create an `ofstream` object without opening a specific file\n",
    "```c++\n",
    "ofstream outClientFile;\n",
    "```\n",
    "- The `ofstream` member function `open` opens a file and attaches it to an existing `ofstream` object as follows:\n",
    "```c++\n",
    "outClientFile.open(\"clients.txt\", ios::out);\n",
    "```"
   ]
  },
  {
   "cell_type": "markdown",
   "metadata": {
    "slideshow": {
     "slide_type": "slide"
    }
   },
   "source": [
    "## Testing Whether a File Was Opened Successfully\n",
    "\n",
    "- After creating an `ofstream` object and attempting to open it, we need to determine whether the open operation succeeded\n",
    "\n",
    "    - use the overloaded `ios` member function `operator!`\n",
    "\n",
    "- Some possible reasons for `open` operation failure\n",
    "\n",
    "    - attempting to open a nonexistent file for reading\n",
    "    - attempting to open a file for reading or writing from a directory that you don't have permission to access\n",
    "    - opening a file for writing when no disk space is available"
   ]
  },
  {
   "cell_type": "markdown",
   "metadata": {
    "slideshow": {
     "slide_type": "slide"
    }
   },
   "source": [
    "## Writing Data to a File\n",
    "\n",
    "- `stream`s overloaded `operator bool` (added in C++11) converts the stream to a `true` or `false` value, so it can be tested in a condition.\n",
    "    - If the `failbit` or `badbit` has been set for the stream, the overloaded operator returns `false`.\n",
    "- When **end-of-file** is encountered or bad data is entered, `operator bool` returns `false`\n",
    "\n",
    "- Using the stream insertion operator `<<` and the object associated with it, we write data into the file."
   ]
  },
  {
   "cell_type": "markdown",
   "metadata": {
    "slideshow": {
     "slide_type": "slide"
    }
   },
   "source": [
    "## Closing a File\n",
    "\n",
    "- Once the user enters the **end-of-file indicator**.\n",
    "    - **Ctrl-D** for UNIX/Linux/Mac OS X\n",
    "    - **Ctrl-Z** for MS Windows\n",
    "\n",
    "- This implicitly invokes file object destructor, which closes the `clients.txt` file.\n",
    "- You also can close the `ofstream` object explicitly, using member function close as follows:\n",
    "```c++\n",
    "outClientFile.close();\n",
    "```"
   ]
  },
  {
   "cell_type": "markdown",
   "metadata": {
    "slideshow": {
     "slide_type": "slide"
    }
   },
   "source": [
    "## Reading Data from a Sequential File"
   ]
  },
  {
   "cell_type": "code",
   "execution_count": 3,
   "metadata": {
    "slideshow": {
     "slide_type": "fragment"
    }
   },
   "outputs": [],
   "source": [
    "int main() {\n",
    "    // ifstream constructor opens the file\n",
    "    ifstream inClientFile(\"clients.txt\", ios::in);\n",
    "    // exit program if ifstream could not open file\n",
    "    if ( !inClientFile ) {\n",
    "        cerr << \"File could not be opened\" << endl;\n",
    "        exit(EXIT_FAILURE);\n",
    "    }\n",
    "    \n",
    "    cout << left << setw(10) << \"Account\" << setw(13)\n",
    "         << \"Name\" << \"Balance\\n\" << fixed << showpoint;\n",
    "    \n",
    "    int account; // the account number\n",
    "    string name; // the account owner's name\n",
    "    double balance; // the account balance\n",
    "    // display each record in file\n",
    "    while ( inClientFile >> account >> name >> balance ) {\n",
    "        cout << left << setw(10) << account << setw(13) << name\n",
    "             << setw(7) << setprecision(2) << right << balance << endl;\n",
    "    }\n",
    "}"
   ]
  },
  {
   "cell_type": "markdown",
   "metadata": {
    "slideshow": {
     "slide_type": "slide"
    }
   },
   "source": [
    "## Opening a File for Input\n",
    "\n",
    "- Objects of class `ifstream` are opened for **input** by default\n",
    "```c++\n",
    "ifstream inClientFile(\"clients.txt\");\n",
    "```\n",
    "- Just as with an `ofstream` object, an `ifstream` object can be created without opening a specific file, because a file can be attached to it later."
   ]
  },
  {
   "cell_type": "markdown",
   "metadata": {
    "slideshow": {
     "slide_type": "slide"
    }
   },
   "source": [
    "## Reading from a File\n",
    "\n",
    "- Suppose you need to read from a text file but with each account's data formatted as follows:\n",
    "```\n",
    "100 Jones 24.98\n",
    "```\n",
    "\n",
    "- Use stream extraction operator `>>` to read the record from the file as follows:\n",
    "\n",
    "```c++\n",
    "inClientFile >> account >> name >> balance\n",
    "```\n",
    "\n",
    "- The stream extraction operator `>>` treats white space as a delimiter.\n",
    "    - C++14 new stream manipulator, `quoted`, enables a program to read and write quoted text from a stream."
   ]
  },
  {
   "cell_type": "code",
   "execution_count": 4,
   "metadata": {
    "slideshow": {
     "slide_type": "slide"
    }
   },
   "outputs": [
    {
     "name": "stdout",
     "output_type": "stream",
     "text": [
      "100, Dow, 100.11\n",
      "200, Black, 2093.22\n"
     ]
    }
   ],
   "source": [
    "{\n",
    "    int account; // the account number\n",
    "    string name; // the account owner's name\n",
    "    double balance; // the account balance\n",
    "\n",
    "    // open file for reading\n",
    "    ifstream inClientFile(\"../src/clients.txt\", ios::in);\n",
    "    \n",
    "    // display each record in file\n",
    "    inClientFile >> account >> name >> balance;\n",
    "    cout << account << \", \" << name << \", \" << balance << endl;\n",
    "    inClientFile >> account >> name >> balance;\n",
    "    cout << account << \", \" << name << \", \" << balance << endl;\n",
    "    \n",
    "    // close file\n",
    "    inClientFile.close();\n",
    "}"
   ]
  },
  {
   "cell_type": "code",
   "execution_count": 5,
   "metadata": {
    "slideshow": {
     "slide_type": "fragment"
    }
   },
   "outputs": [
    {
     "name": "stdout",
     "output_type": "stream",
     "text": [
      "100 Dow 100.11\n",
      "200 Black 2093.22\n"
     ]
    }
   ],
   "source": [
    "!cat ../src/clients.txt\n",
    "!hexdump ../src/clients.txt"
   ]
  },
  {
   "cell_type": "markdown",
   "metadata": {
    "slideshow": {
     "slide_type": "slide"
    }
   },
   "source": [
    "## File-Position Pointers\n",
    "\n",
    "- Programs normally read sequentially from the beginning of a file and read all the data consecutively until the desired data is found.\n",
    "- `istream` and `ostream` provide member functions reposition the **file-position pointers**:\n",
    "    - `seekg`: a get pointer, which indicates the byte number in the file from which the next input is to occur\n",
    "    - `seekp`: a put pointer, which indicates the byte number in the file at which the next output should be placed.\n",
    "    ```cpp\n",
    "    inClientFile.seekg(0);\n",
    "    ```"
   ]
  },
  {
   "cell_type": "markdown",
   "metadata": {
    "slideshow": {
     "slide_type": "slide"
    }
   },
   "source": [
    "- A second argument can be specified to indicate the seek direction\n",
    "    - `ios::beg` for positioning relative to the beginning of a stream\n",
    "    - `ios::cur` for positioning relative to the current position in a stream\n",
    "    - `ios::end` for positioning backward relative to the end of a stream\n",
    "\n",
    "```cpp\n",
    "// position to the nth byte of fileObject (assumes ios::beg)\n",
    "fileObject.seekg(n);\n",
    "// position n bytes in fileObject\n",
    "fileObject.seekg(n, ios::cur);\n",
    "// position n bytes back from end of fileObject\n",
    "fileObject.seekg(n, ios::end);\n",
    "// position at end of fileObject\n",
    "fileObject.seekg(0, ios::end);\n",
    "```"
   ]
  },
  {
   "cell_type": "code",
   "execution_count": 6,
   "metadata": {
    "slideshow": {
     "slide_type": "slide"
    }
   },
   "outputs": [
    {
     "name": "stdout",
     "output_type": "stream",
     "text": [
      "00000000  31 30 30 20 44 6f 77 20  31 30 30 2e 31 31 0a 32  |100 Dow 100.11.2|\n",
      "00000010  30 30 20 42 6c 61 63 6b  20 32 30 39 33 2e 32 32  |00 Black 2093.22|\n",
      "00000020  0a                                                |.|\n",
      "00000021\n"
     ]
    }
   ],
   "source": [
    "!hexdump -C ../src/clients.txt"
   ]
  },
  {
   "cell_type": "code",
   "execution_count": 7,
   "metadata": {
    "slideshow": {
     "slide_type": "fragment"
    }
   },
   "outputs": [
    {
     "name": "stdout",
     "output_type": "stream",
     "text": [
      "100, Dow, 100.11\n",
      "200, Black, 2093.22\n",
      "EOF: 0\n",
      "EOF: 0\n",
      "200, Black, 2093.22\n"
     ]
    }
   ],
   "source": [
    "{\n",
    "    int account; // the account number\n",
    "    string name; // the account owner's name\n",
    "    double balance; // the account balance\n",
    "\n",
    "    // open file for reading\n",
    "    ifstream inClientFile(\"../src/clients.txt\", ios::in);    \n",
    "    // display two file records\n",
    "    inClientFile >> account >> name >> balance;\n",
    "    cout << account << \", \" << name << \", \" << balance << endl;\n",
    "    inClientFile >> account >> name >> balance;\n",
    "    cout << account << \", \" << name << \", \" << balance << endl;\n",
    "    // go to the beginning \n",
    "    inClientFile.seekg(-17, ios::cur); account = 1;\n",
    "//     // and show the record again    \n",
    "    cout << \"EOF: \" << inClientFile.eof() << endl;\n",
    "    inClientFile >> account >> name >> balance;\n",
    "    cout << \"EOF: \" << inClientFile.eof() << endl;\n",
    "    cout << account << \", \" << name << \", \" << balance << endl;\n",
    "}"
   ]
  },
  {
   "cell_type": "markdown",
   "metadata": {
    "slideshow": {
     "slide_type": "slide"
    }
   },
   "source": [
    "## Updating Sequential Files\n",
    "\n",
    "- Data that is formatted and written to a sequential file as shown cannot be modified without the risk of destroying other data in the file.\n",
    "\n",
    "    - For example, if the name in the record for \"White\" was written to the file as    \n",
    "    ```\n",
    "    300 White 0.00\n",
    "    ```\n",
    "    - If this record were rewritten beginning at the same location in the file using the longer name, the record would be\n",
    "    ```\n",
    "    300 Worthington 0.00\n",
    "    ```\n",
    "    - The new record contains six more characters than the original record.\n",
    "    - Therefore, the characters beyond the \"h\" in \"Worthington\" would overwrite the 0.00\n",
    "\n",
    "- The formatted input/output model usually is not used to update records in place."
   ]
  },
  {
   "cell_type": "markdown",
   "metadata": {
    "slideshow": {
     "slide_type": "slide"
    }
   },
   "source": [
    "## Random-Access Files\n",
    "\n",
    "- Sequential files are inappropriate for **instant-access** applications, in which a particular record must be located immediately\n",
    "- This kind of instant access is made possible with **random-access files**.\n",
    "    - Individual records of a random-access file can be accessed directly (and quickly) without having to search other records.\n",
    "\n",
    "- C++ does not impose structure on a file.\n",
    "    - So the application that wants to use random-access files **must** create such structure.\n",
    "    \n",
    "- Data can be inserted into a random-access file without destroying other data in the file.\n",
    "\n",
    "- Data stored previously also can be updated or deleted without rewriting the entire file."
   ]
  },
  {
   "cell_type": "markdown",
   "metadata": {
    "slideshow": {
     "slide_type": "slide"
    }
   },
   "source": [
    "## Creating a Random-Access File\n",
    "\n",
    "- The second argument to the `ofstream` constructor must have `ios::binary` flag\n",
    "    - it indicates that we are opening the file for output in binary mode, which is required if we are to write fixed-length records\n",
    "    - multiple file-open modes are combined by separating each open mode from the next with the `|` operator ( bitwise inclusive OR operator)\n",
    "    ```cpp\n",
    "     ofstream outFile{\"clients.dat\", ios::out | ios::binary};\n",
    "    ```"
   ]
  },
  {
   "cell_type": "code",
   "execution_count": 8,
   "metadata": {
    "slideshow": {
     "slide_type": "slide"
    }
   },
   "outputs": [],
   "source": [
    "{\n",
    "     int number = 1024254;\n",
    "     ofstream outFile{\"../src/number.dat\", ios::out | ios::binary};\n",
    "//      outFile << number;\n",
    "     outFile.write(reinterpret_cast<const char*>(&number), sizeof(number));\n",
    "}"
   ]
  },
  {
   "cell_type": "code",
   "execution_count": 9,
   "metadata": {
    "slideshow": {
     "slide_type": "fragment"
    }
   },
   "outputs": [
    {
     "name": "stdout",
     "output_type": "stream",
     "text": [
      "00000000  fe a0 0f 00                                       |....|\n",
      "00000004\n"
     ]
    }
   ],
   "source": [
    "!hexdump -C ../src/number.dat"
   ]
  },
  {
   "cell_type": "markdown",
   "metadata": {
    "slideshow": {
     "slide_type": "fragment"
    }
   },
   "source": [
    "- First parameter of `write` is a pointer to a group of bytes in memory of type a `const char*`\n",
    "- Starting from that location, function `write` outputs the number of bytes specified by its second argument,\n",
    "an integer of type `size_t`."
   ]
  },
  {
   "cell_type": "markdown",
   "metadata": {
    "slideshow": {
     "slide_type": "slide"
    }
   },
   "source": [
    "## Converting Between Pointer Types\n",
    "\n",
    "- Most pointers that we pass to function `write` as the first argument are not of type `const char*`\n",
    "- C++ provides the `reinterpret_cast` operator for cases like this to make it clear that you're treating data as an **unrelated type**\n",
    "    - A `reinterpret_cast` is performed at compile time and does not change the value of the object to which its operand points\n",
    "    - Without a `reinterpret_cast`, the `write` call will not be compiled, a pointer of type `int*` is not allowed as parameter\n",
    "        -  the type returned by the expression `&number` is `int*`    "
   ]
  },
  {
   "cell_type": "markdown",
   "metadata": {
    "slideshow": {
     "slide_type": "slide"
    }
   },
   "source": [
    "## Writing Into Random-Access File"
   ]
  },
  {
   "cell_type": "code",
   "execution_count": 10,
   "metadata": {
    "slideshow": {
     "slide_type": "slide"
    }
   },
   "outputs": [],
   "source": [
    "struct Credit {\n",
    "    int accountNumber;\n",
    "    char lastName[10];\n",
    "    double balance;\n",
    "};"
   ]
  },
  {
   "cell_type": "code",
   "execution_count": 16,
   "metadata": {
    "slideshow": {
     "slide_type": "fragment"
    }
   },
   "outputs": [
    {
     "name": "stdout",
     "output_type": "stream",
     "text": [
      "Size of the Credit type: 24"
     ]
    }
   ],
   "source": [
    "{\n",
    "    cout << \"Size of the Credit type: \" << sizeof(Credit);\n",
    "    \n",
    "    ofstream outCredit{\"../src/credit.dat\", ios::out | ios::binary};\n",
    "    if ( !outCredit ) {\n",
    "        cout << \"File could not be opened.\" << endl;\n",
    "    }\n",
    "    \n",
    "    Credit client{255, \"Dow\", 1000.10};    \n",
    "    \n",
    "    outCredit.write(reinterpret_cast<const char*>(&client), sizeof(Credit));\n",
    "}"
   ]
  },
  {
   "cell_type": "code",
   "execution_count": 12,
   "metadata": {
    "slideshow": {
     "slide_type": "fragment"
    }
   },
   "outputs": [
    {
     "name": "stdout",
     "output_type": "stream",
     "text": [
      "00000000  ff 00 00 00 44 6f 77 00  00 00 00 00 00 00 00 00  |....Dow.........|\n",
      "00000010  cd cc cc cc cc 40 8f 40                           |.....@.@|\n",
      "00000018\n"
     ]
    }
   ],
   "source": [
    "!hexdump -C ../src/credit.dat"
   ]
  },
  {
   "cell_type": "markdown",
   "metadata": {
    "slideshow": {
     "slide_type": "slide"
    }
   },
   "source": [
    "## Reading From Random-Access File"
   ]
  },
  {
   "cell_type": "code",
   "execution_count": 13,
   "metadata": {
    "slideshow": {
     "slide_type": "fragment"
    }
   },
   "outputs": [
    {
     "name": "stdout",
     "output_type": "stream",
     "text": [
      "255, Dow, 1000.1\n"
     ]
    }
   ],
   "source": [
    "{\n",
    "    ifstream inCredit{\"../src/credit.dat\", ios::in | ios::binary};\n",
    "    if ( !inCredit ) {\n",
    "        cout << \"File could not be opened.\" << endl;\n",
    "    }\n",
    "        \n",
    "    Credit client; // create record\n",
    "    \n",
    "    // read first record from file\n",
    "    inCredit.read(reinterpret_cast<char*>(&client), sizeof(Credit));\n",
    "    \n",
    "    cout << client.accountNumber << \", \" << client.lastName << \", \" << client.balance << endl;\n",
    "}"
   ]
  },
  {
   "cell_type": "markdown",
   "metadata": {
    "slideshow": {
     "slide_type": "slide"
    }
   },
   "source": [
    "# Output Stream Formatting"
   ]
  },
  {
   "cell_type": "markdown",
   "metadata": {
    "slideshow": {
     "slide_type": "slide"
    }
   },
   "source": [
    "## Member functions and flags\n",
    "\n",
    "Output streams (class `ostream` and related classes) have some useful member functions for controlling output formatting.\n",
    "\n",
    "- `precision()`:  sets the precision for floating-point values to a specific number of significant digits after the decimal point. Takes that number as a parameter\n",
    "\n",
    "- `unsetf()`: the \"unset flags\" function. Call this to turn off one of the flags"
   ]
  },
  {
   "cell_type": "markdown",
   "metadata": {
    "slideshow": {
     "slide_type": "slide"
    }
   },
   "source": [
    "- `setf()`: the \"set flags\" function. Takes as a parameter the flag to be turned \"on\". Some of the flags that can be turned on or off are:\n",
    "    - `ios::fixed`: to specify that floating-point numbers will be printed in fixed notation.\n",
    "    - `ios::scientific`: to specify that floating-point numbers will be printed in scientific (exponential) notation.\n",
    "    - `ios::showpoint`: specifies that the decimal point will always be printed for floating point types (even if the value is a whole number, like 4.0\n",
    "    - `ios::right`: right-justifies an output item in a field, if a field width is specified\n",
    "    - `ios::left`: left-justifies an output item in a field, if a field width is specified"
   ]
  },
  {
   "cell_type": "markdown",
   "metadata": {
    "slideshow": {
     "slide_type": "slide"
    }
   },
   "source": [
    "- `width()`: used to specify the \"field width\" for the next item that is output. Number of character positions is specified as a parameter. Left and right justify flags will apply when this function is used to specify field widths. Extra \"space\" in the field will be filled with a fill character, which is set to a space by default:"
   ]
  },
  {
   "cell_type": "code",
   "execution_count": 14,
   "metadata": {
    "slideshow": {
     "slide_type": "fragment"
    }
   },
   "outputs": [
    {
     "name": "stdout",
     "output_type": "stream",
     "text": [
      "     Hello           1234"
     ]
    }
   ],
   "source": [
    "{\n",
    "    int x = 1234;\n",
    "    cout.setf(ios::right);\n",
    "    cout.width(10);\n",
    "    cout << \"Hello\";\n",
    "    cout.width(15);\n",
    "    cout << x;\n",
    "}"
   ]
  },
  {
   "cell_type": "markdown",
   "metadata": {
    "slideshow": {
     "slide_type": "slide"
    }
   },
   "source": [
    "- `fill()`: used to specify the fill character to be used to pad out extra space in a field (when using width()). Takes the character as a parameter."
   ]
  },
  {
   "cell_type": "code",
   "execution_count": 15,
   "metadata": {
    "slideshow": {
     "slide_type": "fragment"
    }
   },
   "outputs": [
    {
     "name": "stdout",
     "output_type": "stream",
     "text": [
      "......1234"
     ]
    }
   ],
   "source": [
    "{\n",
    "    int x = 1234;\n",
    "    cout.setf(ios::right);\n",
    "    cout.fill('.'); // change the fill character\n",
    "    cout.width(10); // set field width to 10\n",
    "    cout << x;      // print x\n",
    "}"
   ]
  },
  {
   "cell_type": "markdown",
   "metadata": {
    "slideshow": {
     "slide_type": "slide"
    }
   },
   "source": [
    "## Stream Manipulators\n",
    "\n",
    "- A stream manipulator is a symbol or function that is used by placing it on the right side of the insertion operator `<<`.\n",
    "\n",
    "- A plain manipulator is just a symbol, like a variable:\n",
    "```c++\n",
    "cout << endl;\t   // endl is a stream manipulator\n",
    "```\n",
    "- A parameterized stream manipulator looks like a function call -- it has one or more parameters:\n",
    "```c++\n",
    "cout << setw(10); // setw() is a parameterized manipulator\n",
    "```\n",
    "- To use parameterized stream manipulators, you need to include the `<iomanip>` library"
   ]
  },
  {
   "cell_type": "markdown",
   "metadata": {
    "slideshow": {
     "slide_type": "slide"
    }
   },
   "source": [
    "## Stream Manipulators (cont.)\n",
    "\n",
    "- Many of the stream manipulators are just alternate ways of doing tasks performed by member functions. A nice benefit is that cascading can be used, intermixing manipulators and other output statements that use the insertion operator\n",
    "```c++\n",
    "cout << setw(10) << \"Hello\" << endl;\n",
    "```\n",
    "\n",
    "- `setprecision()` is a parameterized stream manipulator that performs the same task as the member function `precision()`\n",
    "```c++\n",
    "cout.precision(2); // sets decimal precision to 2 significant digits\n",
    "cout << setprecision(2);  // does the same thing!\n",
    "```"
   ]
  },
  {
   "cell_type": "markdown",
   "metadata": {
    "slideshow": {
     "slide_type": "slide"
    }
   },
   "source": [
    "- `setw()` is a parameterized stream manipulator that performs the same task as the member function `width()`\n",
    "```c++\n",
    "cout.width(10);    // sets field width to 10 for next output\n",
    "cout << setw(10);  // does the same thing!\n",
    "```\n",
    "- `setfill()` is a parameterized stream manipulator that performs the same task as the member function `fill()`\n",
    "```c++\n",
    "cout.fill('*');       // sets fill character to '*'\n",
    "cout << setfill('*'); // does the same thing!\n",
    "```"
   ]
  },
  {
   "cell_type": "markdown",
   "metadata": {
    "slideshow": {
     "slide_type": "slide"
    }
   },
   "source": [
    "- `setiosflags()` is a parameterized stream manipulator that performs the same task as the member function `setf()`\n",
    "```c++\n",
    "cout.setf(ios::left);            // sets left justification flag\n",
    "cout << setiosflags(ios::left);  // does the same thing!\n",
    "```\n",
    "\n",
    "- There are also some newer stream manipulators that correspond to some of the formatting flags. For example:\n",
    "```c++\n",
    "cout.setf(ios::left);    // sets left justification for cout\n",
    "cout << left;            // also sets left justification for cout\n",
    "```\n",
    "- **Caution**: Some of these manipulators that correspond to formatting flags were introduced in a newer version of the `<iomanip>` library, just a few years ago. Some older compilers (still in use) may not recognize them!\n"
   ]
  }
 ],
 "metadata": {
  "celltoolbar": "Slideshow",
  "kernelspec": {
   "display_name": "C++17",
   "language": "C++17",
   "name": "xcpp17"
  },
  "language_info": {
   "codemirror_mode": "text/x-c++src",
   "file_extension": ".cpp",
   "mimetype": "text/x-c++src",
   "name": "c++",
   "version": "17"
  }
 },
 "nbformat": 4,
 "nbformat_minor": 4
}
