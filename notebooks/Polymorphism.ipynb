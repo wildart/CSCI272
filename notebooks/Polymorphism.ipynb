{
 "cells": [
  {
   "cell_type": "code",
   "execution_count": 1,
   "metadata": {
    "slideshow": {
     "slide_type": "skip"
    }
   },
   "outputs": [],
   "source": [
    "#include <iostream>\n",
    "using namespace std;"
   ]
  },
  {
   "cell_type": "markdown",
   "metadata": {
    "slideshow": {
     "slide_type": "slide"
    }
   },
   "source": [
    "# Polymorphism"
   ]
  },
  {
   "cell_type": "markdown",
   "metadata": {
    "slideshow": {
     "slide_type": "slide"
    }
   },
   "source": [
    "## Introduction\n",
    "\n",
    "- **Polymorphism** is one of the key features of object-oriented programming, after classes and inheritance.\n",
    "    - *polymorphism* means *different forms*\n",
    "- **\"program in the general\"** rather than **\"program in the specific\"**\n",
    "    - Write programs that process objects of classes that are part of the same class hierarchy as if they were all objects of the hierarchy's base class.\n",
    "- Polymorphism works off base-class pointer handles and base-class **reference handles**, but **not** off name handles."
   ]
  },
  {
   "cell_type": "markdown",
   "metadata": {
    "slideshow": {
     "slide_type": "slide"
    }
   },
   "source": [
    "## Implementing for Extensibility\n",
    "\n",
    "Design and implement systems that are easily extensible.\n",
    "- Relying on each object to know how to \"do the right thing\" in response to the same function call is the key concept of polymorphism.\n",
    "- The same message sent to a variety of objects has \"many forms\" of results - hence the term *polymorphism*.\n",
    "- New classes can be added with little or no modification to the general portions of the program, as long as the new classes are part of the inheritance hierarchy that the program processes generally.\n",
    "- The only parts of a program that must be altered to accommodate new classes are those that require direct knowledge of the new classes that you add to the hierarchy."
   ]
  },
  {
   "cell_type": "markdown",
   "metadata": {
    "cell_style": "split",
    "slideshow": {
     "slide_type": "slide"
    }
   },
   "source": [
    "## Inheritance  as a Relation\n",
    "    \n",
    "- We distinguish between the **is-a** relationship and the **has-a** relationship.\n",
    "\n",
    "\n",
    "- The <span style=\"color:red;font-weight: bold;\">is-a</span> relationship represents <span style=\"color:red;font-weight: bold;\">inheritance</span>.\n",
    "\n",
    "\n",
    "- In an **is-a** relationship, an object of a **derived class** also can be treated as an object of its **base class**.\n",
    "\n",
    "\n",
    "- By contrast, the **has-a** relationship represents **composition**.\n"
   ]
  },
  {
   "cell_type": "markdown",
   "metadata": {
    "cell_style": "split",
    "slideshow": {
     "slide_type": "fragment"
    }
   },
   "source": [
    "<img src=\"../img/Hierarchies.png\" style=\"width:80%; float: left;\"/>"
   ]
  },
  {
   "cell_type": "markdown",
   "metadata": {
    "cell_style": "center",
    "slideshow": {
     "slide_type": "slide"
    }
   },
   "source": [
    "## Inheritance: Relationships Among Objects\n",
    "   \n",
    "- How *base-class* and *derived-class* pointers can be aimed at base-class and derived-class objects, and how those pointers can be used to invoke member functions that manipulate those objects.\n",
    "    - An **object of a derived class** can be treated as an **object of its base class**.\n",
    "- Despite the fact that the *derived-class objects* are of **different types**, the compiler **allows** this because each *derived-class object* **is an** *object of its base class*.\n",
    "- We cannot treat a base-class object as an any of its derived classes.\n",
    "- The **is-a** relationship applies only from a derived class to its direct and indirect base classes.\n"
   ]
  },
  {
   "cell_type": "markdown",
   "metadata": {
    "slideshow": {
     "slide_type": "slide"
    }
   },
   "source": [
    "## Invoking Base-Class Functions from Derived-Class Objects\n",
    "\n",
    "<div>\n",
    "<div style=\"width:50%; float: left; padding: 1em;\">\n",
    "\n",
    "Consider the `Shape` inheritance hierarchy:\n",
    "- The **base class** is `Shape`\n",
    "</div>\n",
    "<div style=\"width:50%; float: right;\">\n",
    "    <img src=\"../img/Inheritance2.png\"/>\n",
    "</div>\n",
    "</div>"
   ]
  },
  {
   "cell_type": "code",
   "execution_count": null,
   "metadata": {
    "slideshow": {
     "slide_type": "slide"
    }
   },
   "outputs": [],
   "source": [
    "class Shape {\n",
    "public:\n",
    "    void draw() {cout << \"Draw shape\" << endl; }\n",
    "};"
   ]
  },
  {
   "cell_type": "code",
   "execution_count": null,
   "metadata": {
    "slideshow": {
     "slide_type": "fragment"
    }
   },
   "outputs": [],
   "source": [
    "class Circle : public Shape {\n",
    "    float r{0.0};\n",
    "public:\n",
    "    void draw() {cout << \"Draw circle\" << endl; }\n",
    "    void radius() {cout << \"The radius is \" << r << endl; }\n",
    "};"
   ]
  },
  {
   "cell_type": "code",
   "execution_count": null,
   "metadata": {
    "slideshow": {
     "slide_type": "fragment"
    }
   },
   "outputs": [],
   "source": [
    "class Square : public Shape {\n",
    "    float s{0.0};\n",
    "public:\n",
    "    void draw() {cout << \"Draw square\" << endl; }\n",
    "    void side() {cout << \"The side is \" << s << endl; }\n",
    "};"
   ]
  },
  {
   "cell_type": "markdown",
   "metadata": {
    "slideshow": {
     "slide_type": "slide"
    }
   },
   "source": [
    "- Method invocation\n",
    "    - Aim a base-class pointer at a base-class object and invoke base-class functionality\n",
    "    - Aim a derived-class pointer at a derived-class object and invoke derived-class functionality"
   ]
  },
  {
   "cell_type": "code",
   "execution_count": 5,
   "metadata": {
    "slideshow": {
     "slide_type": "fragment"
    }
   },
   "outputs": [
    {
     "name": "stdout",
     "output_type": "stream",
     "text": [
      "Draw shape\n",
      "Draw shape\n"
     ]
    }
   ],
   "source": [
    "{\n",
    "    Shape s;\n",
    "    s.draw();    \n",
    "    Shape* base_ptr = &s;\n",
    "    base_ptr->draw();\n",
    "}"
   ]
  },
  {
   "cell_type": "code",
   "execution_count": 6,
   "metadata": {
    "slideshow": {
     "slide_type": "fragment"
    }
   },
   "outputs": [
    {
     "name": "stdout",
     "output_type": "stream",
     "text": [
      "Draw circle\n",
      "Draw circle\n"
     ]
    }
   ],
   "source": [
    "{\n",
    "    Circle c;\n",
    "    c.draw();\n",
    "    Circle* der_ptr = &c;\n",
    "    der_ptr->draw();\n",
    "}"
   ]
  },
  {
   "cell_type": "markdown",
   "metadata": {
    "slideshow": {
     "slide_type": "slide"
    }
   },
   "source": [
    "- Demonstrate the relationship between derived classes and base classes\n",
    "    - Aim a **base-class pointer** at a **derived-class object** and showing that the base-class functionality is indeed available in the derived-class object.\n",
    "    - Circle **is a** Shape"
   ]
  },
  {
   "cell_type": "code",
   "execution_count": 35,
   "metadata": {
    "slideshow": {
     "slide_type": "fragment"
    }
   },
   "outputs": [
    {
     "name": "stdout",
     "output_type": "stream",
     "text": [
      "Draw circle\n",
      "Draw square\n",
      "Draw shape\n",
      "Draw shape\n",
      "Draw shape\n",
      "Draw shape\n",
      "Draw shape\n"
     ]
    }
   ],
   "source": [
    "{\n",
    "    // Create derived-class objects\n",
    "    Circle c;\n",
    "    c.draw(); \n",
    "    Square s;\n",
    "    s.draw();    \n",
    "    // Use base-class pointer\n",
    "    Shape* ptr;\n",
    "    ptr = &c;\n",
    "    ptr->draw();    \n",
    "    ptr = &s;\n",
    "    ptr->draw();\n",
    "    Shape* shapes[] = {&c, &s};\n",
    "    shapes[1]->draw();\n",
    "    shapes[2]->draw();\n",
    "    // As base-class object\n",
    "    Shape sp = c;\n",
    "    sp.draw();\n",
    "}"
   ]
  },
  {
   "cell_type": "markdown",
   "metadata": {
    "slideshow": {
     "slide_type": "slide"
    }
   },
   "source": [
    "The function in the base class is **always** executed.\n",
    "- The compiler ignores the contents of the pointer `ptr` and chooses the member function that matches the type of the pointer.\n",
    "    \n",
    "![](img/Virtual1.png)"
   ]
  },
  {
   "cell_type": "markdown",
   "metadata": {
    "slideshow": {
     "slide_type": "slide"
    }
   },
   "source": [
    "- Aim **derived-class** pointers at **base-class** object\n",
    "    - C++ compiler generates an error.\n",
    "    - The compiler prevents this assignment\n",
    "        - Shape **is not** a Circle."
   ]
  },
  {
   "cell_type": "code",
   "execution_count": 18,
   "metadata": {
    "slideshow": {
     "slide_type": "fragment"
    }
   },
   "outputs": [
    {
     "name": "stderr",
     "output_type": "stream",
     "text": [
      "\u001b[1minput_line_25:4:13: \u001b[0m\u001b[0;1;31merror: \u001b[0m\u001b[1mcannot initialize a variable of type '__cling_N53::Circle *' with an rvalue of\n",
      "      type '__cling_N52::Shape *'\u001b[0m\n",
      "    Circle* ptr = &s;\n",
      "\u001b[0;1;32m            ^     ~~\n",
      "\u001b[0m\u001b[1minput_line_25:6:12: \u001b[0m\u001b[0;1;31merror: \u001b[0m\u001b[1mno viable conversion from '__cling_N52::Shape' to '__cling_N53::Circle'\u001b[0m\n",
      "    Circle c = s;\n",
      "\u001b[0;1;32m           ^   ~\n",
      "\u001b[0m\u001b[1minput_line_10:1:7: \u001b[0m\u001b[0;1;30mnote: \u001b[0mcandidate constructor (the implicit copy constructor) not viable: cannot bind\n",
      "      base class object of type '__cling_N52::Shape' to derived class reference\n",
      "      'const __cling_N53::Circle &' for 1st argument\u001b[0m\n",
      "class Circle : public Shape {\n",
      "\u001b[0;1;32m      ^\n",
      "\u001b[0m\u001b[1minput_line_10:1:7: \u001b[0m\u001b[0;1;30mnote: \u001b[0mcandidate constructor (the implicit move constructor) not viable: cannot bind\n",
      "      base class object of type '__cling_N52::Shape' to derived class reference\n",
      "      '__cling_N53::Circle &&' for 1st argument\u001b[0m\n"
     ]
    },
    {
     "ename": "Interpreter Error",
     "evalue": "",
     "output_type": "error",
     "traceback": [
      "Interpreter Error: "
     ]
    }
   ],
   "source": [
    "{\n",
    "    Shape s;\n",
    "    Circle* ptr = &s;\n",
    "    ptr->draw();\n",
    "    Circle c = s;\n",
    "}"
   ]
  },
  {
   "cell_type": "markdown",
   "metadata": {
    "slideshow": {
     "slide_type": "slide"
    }
   },
   "source": [
    "- Off a base-class pointer, the compiler allows us to invoke **only** base-class member functions.\n",
    "- If a base-class pointer is aimed at a derived-class object, and an attempt is made to access a **derived-class-only member function**, a compilation error will occur.\n"
   ]
  },
  {
   "cell_type": "code",
   "execution_count": 20,
   "metadata": {
    "slideshow": {
     "slide_type": "fragment"
    }
   },
   "outputs": [
    {
     "name": "stderr",
     "output_type": "stream",
     "text": [
      "\u001b[1minput_line_27:8:11: \u001b[0m\u001b[0;1;31merror: \u001b[0m\u001b[1mno member named 'radius' in '__cling_N52::Shape'\u001b[0m\n",
      "    sptr->radius();\n",
      "\u001b[0;1;32m    ~~~~  ^\n",
      "\u001b[0m"
     ]
    },
    {
     "ename": "Interpreter Error",
     "evalue": "",
     "output_type": "error",
     "traceback": [
      "Interpreter Error: "
     ]
    }
   ],
   "source": [
    "{\n",
    "    Circle c;\n",
    "    Circle* cptr = &c;\n",
    "    cptr->radius();\n",
    "    Shape* sptr = &c;\n",
    "    sptr->draw();\n",
    "    sptr->radius();\n",
    "}"
   ]
  },
  {
   "cell_type": "markdown",
   "metadata": {
    "slideshow": {
     "slide_type": "slide"
    }
   },
   "source": [
    "## Downcasting\n",
    "\n",
    "- The compiler will allow access to derived-class-only members from a base-class pointer that is aimed at a derived-class object **if** we explicitly cast the base-class pointer to a derived-class pointer - known as **downcasting**.\n",
    "- Downcasting allows a derived-class-specific operation on a derived-class object pointed to by a base-class pointer.\n",
    "- After a downcast, the program can invoke derived-class functions that are not in the base class."
   ]
  },
  {
   "cell_type": "code",
   "execution_count": 27,
   "metadata": {
    "scrolled": false,
    "slideshow": {
     "slide_type": "slide"
    }
   },
   "outputs": [
    {
     "name": "stdout",
     "output_type": "stream",
     "text": [
      "Draw circle\n",
      "The radius is 0\n",
      "The side is 0\n"
     ]
    }
   ],
   "source": [
    "{\n",
    "    Circle c;\n",
    "    Circle* cptr{&c};\n",
    "    cptr->draw();\n",
    "    Shape* sptr{&c};\n",
    "//     sptr->radius(); //error\n",
    "    ((Circle*)sptr)->radius();\n",
    "    ((Square*)sptr)->side(); // Circle has a side!!!\n",
    "}"
   ]
  },
  {
   "cell_type": "code",
   "execution_count": 31,
   "metadata": {
    "slideshow": {
     "slide_type": "fragment"
    }
   },
   "outputs": [
    {
     "name": "stdout",
     "output_type": "stream",
     "text": [
      "The radius is -1.19633e+36\n",
      "The radius is -1.19633e+36\n"
     ]
    }
   ],
   "source": [
    "{\n",
    "    Shape s;\n",
    "    // Wrong!!!\n",
    "    Circle* q = (Circle*) &s;\n",
    "    q->radius();\n",
    "    ((Circle*)&s)->radius();\n",
    "    // Circle c = s; //error\n",
    "}"
   ]
  },
  {
   "cell_type": "markdown",
   "metadata": {
    "slideshow": {
     "slide_type": "slide"
    }
   },
   "source": [
    "## Virtual Functions\n",
    "\n",
    "Suppose that shape classes such as `Circle`, `Triangle`, `Rectangle` and `Square` are all derived from base class `Shape`.\n",
    "- Each of these classes might be endowed with the ability to **draw** itself via a member function `draw`, but the function for each shape is quite different.\n",
    "- In a program that draws a set of shapes, it would be useful to be able to treat all the shapes generally as objects of the base class `Shape`.\n",
    "- To draw any shape, we could simply use a **base-class** `Shape` pointer to invoke function `draw`\n",
    "    - Let the program determine dynamically (i.e., at runtime) which **derived-class** `draw` function to use, based on the type of the object to which the base-class `Shape` pointer points at any given time.\n",
    "- This is **polymorphic behavior**.\n",
    "    - The `draw()` function must be declared to be virtual in the base class.  "
   ]
  },
  {
   "cell_type": "code",
   "execution_count": 12,
   "metadata": {
    "slideshow": {
     "slide_type": "slide"
    }
   },
   "outputs": [],
   "source": [
    "class Shape {\n",
    "public:\n",
    "    virtual void draw() {cout << \"Draw shape\" << endl; }\n",
    "};"
   ]
  },
  {
   "cell_type": "code",
   "execution_count": 13,
   "metadata": {
    "slideshow": {
     "slide_type": "fragment"
    }
   },
   "outputs": [],
   "source": [
    "class Circle : public Shape {\n",
    "    float r{0.0};\n",
    "public:\n",
    "    void draw() {cout << \"Draw circle\" << endl; }\n",
    "    void radius() {cout << \"The radius is \" << r << endl; }\n",
    "};"
   ]
  },
  {
   "cell_type": "code",
   "execution_count": 14,
   "metadata": {
    "slideshow": {
     "slide_type": "fragment"
    }
   },
   "outputs": [],
   "source": [
    "class Square : public Shape {\n",
    "    float s{0.0};\n",
    "public:\n",
    "    void draw() {cout << \"Draw square\" << endl; }\n",
    "    void side() {cout << \"The side is \" << s << endl; }\n",
    "};"
   ]
  },
  {
   "cell_type": "code",
   "execution_count": 15,
   "metadata": {
    "slideshow": {
     "slide_type": "slide"
    }
   },
   "outputs": [
    {
     "name": "stdout",
     "output_type": "stream",
     "text": [
      "Draw circle\n",
      "Draw square\n",
      "Draw circle\n",
      "Draw square\n",
      "Draw circle\n",
      "Draw square\n"
     ]
    }
   ],
   "source": [
    "{\n",
    "    // Create derived-class objects\n",
    "    Circle c;\n",
    "    c.draw();\n",
    "    \n",
    "    Square s;\n",
    "    s.draw();\n",
    "    \n",
    "    // Use base-class pointer\n",
    "    Shape* ptr;\n",
    "\n",
    "    ptr = &c;\n",
    "    ptr->draw();\n",
    "    \n",
    "    ptr = &s;\n",
    "    ptr->draw();\n",
    "    \n",
    "    // Keep objects in the same array\n",
    "    Shape* shapes[] = {&c, &s};\n",
    "    shapes[0]->draw();\n",
    "    shapes[1]->draw();\n",
    "}"
   ]
  },
  {
   "cell_type": "markdown",
   "metadata": {
    "slideshow": {
     "slide_type": "slide"
    }
   },
   "source": [
    "- With virtual functions, the type of the **object** - not the type of the handle used to invoke the object's member function - determines which version of a virtual function to invoke.\n",
    "\n",
    "![](img/Virtual2.png)"
   ]
  },
  {
   "cell_type": "markdown",
   "metadata": {
    "slideshow": {
     "slide_type": "slide"
    }
   },
   "source": [
    "## Declaring `virtual` Functions\n",
    "\n",
    "- To enable this behavior, we declare `draw` in the **base class** as a `virtual` function\n",
    "    - and we override `draw` in each of the **derived classes** to draw the appropriate shape.\n",
    "- An overridden function in a derived class has the **same signature and return type** (i.e., prototype) as the function it overrides in its base class.\n",
    "- If we declare the base-class function as `virtual`, we can override that function to enable **polymorphic behavior**.\n",
    "- We declare a virtual function by preceding the function's prototype with the key-word `virtual` in the base class.\n",
    "- Once a function is declared virtual, it remains virtual all the way down the inheritance hierarchy from that point, even if that function is not explicitly declared virtual when a derived class overrides it.\n",
    "- When a derived class chooses not to override a virtual function from its base class, the derived class simply inherits its base class's virtual function implementation."
   ]
  },
  {
   "cell_type": "markdown",
   "metadata": {
    "slideshow": {
     "slide_type": "slide"
    }
   },
   "source": [
    "## Late Binding\n",
    "\n",
    "- If a program invokes a **virtual** function through a base-class pointer to a derived-class object or a base-class reference to a derived-class, the program will choose the correct derived-class function dynamically, at runtime, based on the **object type** - not the pointer or reference type.\n",
    "    - Known as **dynamic binding** or **late binding**.\n",
    "    - Late binding requires some overhead but provides increased power and flexibility.    "
   ]
  },
  {
   "cell_type": "markdown",
   "metadata": {
    "slideshow": {
     "slide_type": "slide"
    }
   },
   "source": [
    "## Late Binding (cont.)\n",
    "\n",
    "When a virtual function is called\n",
    "1. by **referencing** a specific object **by name** and using the **dot** member-selection operator\n",
    "2. the function invocation is resolved at **compile time**\n",
    "    - this is called static binding\n",
    "3. and the called virtual function is the one defined for (or inherited by) the class of that particular object\n",
    "    - this is not polymorphic behavior."
   ]
  },
  {
   "cell_type": "markdown",
   "metadata": {
    "slideshow": {
     "slide_type": "fragment"
    }
   },
   "source": [
    "Dynamic binding with virtual functions occurs **only** off pointers and references"
   ]
  },
  {
   "cell_type": "code",
   "execution_count": 24,
   "metadata": {
    "slideshow": {
     "slide_type": "slide"
    }
   },
   "outputs": [],
   "source": [
    "class Shape3D {\n",
    "public:\n",
    "     virtual void draw() { cout << \"Draw 3D shape\" << endl; }\n",
    "    ~Shape3D() { cout << \"Destroy 3D shape\" << endl; }\n",
    "};"
   ]
  },
  {
   "cell_type": "code",
   "execution_count": 25,
   "metadata": {
    "slideshow": {
     "slide_type": "fragment"
    }
   },
   "outputs": [],
   "source": [
    "class Cube : public Shape3D {\n",
    "public:\n",
    "    void draw() { cout << \"Draw cube\" << endl; }\n",
    "    ~Cube() { cout << \"Destroy cube\" << endl; }\n",
    "};"
   ]
  },
  {
   "cell_type": "code",
   "execution_count": 27,
   "metadata": {
    "slideshow": {
     "slide_type": "fragment"
    }
   },
   "outputs": [
    {
     "name": "stdout",
     "output_type": "stream",
     "text": [
      "Draw 3D shape\n",
      "Destroy 3D shape\n",
      "Draw cube\n",
      "Destroy 3D shape\n",
      "==Object-based destructor calls==\n",
      "Destroy cube\n",
      "Destroy 3D shape\n"
     ]
    }
   ],
   "source": [
    "{\n",
    "    Shape3D* sptr = new Shape3D();\n",
    "    sptr->draw();\n",
    "    delete sptr;\n",
    "    \n",
    "    sptr = new Cube();\n",
    "    sptr->draw();\n",
    "    delete sptr; // Problem: base class destructor is called\n",
    "    \n",
    "    cout << \"==Object-based destructor calls==\" << endl;\n",
    "    Cube c;  \n",
    "}"
   ]
  },
  {
   "cell_type": "markdown",
   "metadata": {
    "slideshow": {
     "slide_type": "slide"
    }
   },
   "source": [
    "## `virtual` Destructors\n",
    "\n",
    "- A problem can occur when using polymorphism to process dynamically allocated objects of a class hierarchy.\n",
    "    - If a derived-class object with a non-virtual destructor is destroyed by applying the delete operator to a base-class pointer to the object, the C++ standard specifies that the behavior is **undefined**.\n",
    "- The simple solution to this problem is to create a **public virtual destructor** in the base class.\n",
    "    - If a base class destructor is declared `virtual`, the destructors of any derived classes are **also virtual**."
   ]
  },
  {
   "cell_type": "code",
   "execution_count": 28,
   "metadata": {
    "slideshow": {
     "slide_type": "slide"
    }
   },
   "outputs": [],
   "source": [
    "class Shape3D {\n",
    "public:\n",
    "    virtual void draw() { cout << \"Draw 3D shape\" << endl; }\n",
    "    virtual ~Shape3D() { cout << \"Destroy 3D shape\" << endl; }\n",
    "};"
   ]
  },
  {
   "cell_type": "code",
   "execution_count": 29,
   "metadata": {
    "slideshow": {
     "slide_type": "fragment"
    }
   },
   "outputs": [],
   "source": [
    "class Cube : public Shape3D {\n",
    "public:\n",
    "    void draw() { cout << \"Draw cube\" << endl; }\n",
    "    ~Cube() { cout << \"Destroy cube\" << endl; }\n",
    "};"
   ]
  },
  {
   "cell_type": "code",
   "execution_count": 30,
   "metadata": {
    "slideshow": {
     "slide_type": "fragment"
    }
   },
   "outputs": [
    {
     "name": "stdout",
     "output_type": "stream",
     "text": [
      "Draw 3D shape\n",
      "Destroy 3D shape\n",
      "Draw cube\n",
      "Destroy cube\n",
      "Destroy 3D shape\n",
      "=Object-based destructor calls=\n",
      "Destroy cube\n",
      "Destroy 3D shape\n"
     ]
    }
   ],
   "source": [
    "{\n",
    "    Shape3D* sptr = new Shape3D();\n",
    "    sptr->draw();\n",
    "    delete sptr;\n",
    "    \n",
    "    sptr = new Cube();\n",
    "    sptr->draw();\n",
    "    delete sptr;\n",
    "    \n",
    "    cout << \"=Object-based destructor calls=\" << endl;\n",
    "    Cube c;    \n",
    "}"
   ]
  },
  {
   "cell_type": "markdown",
   "metadata": {
    "slideshow": {
     "slide_type": "slide"
    }
   },
   "source": [
    "- Now, if an object in the hierarchy is destroyed explicitly by applying the delete operator to a **base-class pointer**, the destructor for the **appropriate class** is called based on the object to which the base-class pointer points.\n",
    "- Remember, when a derived-class object is destroyed, the base-class part of the derived-class object is also destroyed, so it's important for the destructors of both the derived and base classes to execute.\n",
    "- The base-class destructor automatically executes after the derived-class destructor.\n"
   ]
  },
  {
   "cell_type": "markdown",
   "metadata": {
    "slideshow": {
     "slide_type": "slide"
    }
   },
   "source": [
    "- If a class has *virtual functions*, **always** provide a *virtual destructor*, even if one is not required for the class. This ensures that a custom derived-class destructor (if there is one) will be invoked when a derived-class object is deleted via a base-class pointer.\n",
    "- *Constructors* **cannot be** virtual.\n",
    "    - Declaring a constructor virtual is a compilation error."
   ]
  },
  {
   "cell_type": "markdown",
   "metadata": {
    "slideshow": {
     "slide_type": "slide"
    }
   },
   "source": [
    "Destructor definition also may be written as follows:\n",
    "```c++\n",
    "virtual ~Shape3D() = default;\n",
    "```\n",
    "\n",
    "You can tell the compiler to **explicitly generate** the default version of a default:\n",
    "- constructor\n",
    "- copy constructor\n",
    "- move constructor\n",
    "- copy assignment operator\n",
    "- move assignment operator\n",
    "- destructor\n",
    "\n",
    "by following the special member function's prototype with `= default`. "
   ]
  },
  {
   "cell_type": "markdown",
   "metadata": {
    "slideshow": {
     "slide_type": "subslide"
    }
   },
   "source": [
    "## `default` keyword\n",
    "\n",
    "- Useful, for example, when you explicitly define a constructor for a class and still want the compiler to generate a default constructor as well in that case, add the following declaration to your class definition:\n",
    "\n",
    "```c++\n",
    "ClassName() = default;\n",
    "```\n"
   ]
  },
  {
   "cell_type": "markdown",
   "metadata": {
    "slideshow": {
     "slide_type": "slide"
    }
   },
   "source": [
    "## Final Member Functions\n",
    "\n",
    "In C++11, a base-class virtual function that's declared **final** in its prototype\n",
    "- **cannot** be overridden in any derived class, e.g.\n",
    "```c++\n",
    "virtual someFunction(params) final;\n",
    "```\n",
    "- Guarantees that the base class's final member function definition will be used by all base-class objects and by all objects of the base class's direct and indirect derived classes.\n",
    "- Attempting to override a final member function results in a compilation error."
   ]
  },
  {
   "cell_type": "markdown",
   "metadata": {
    "slideshow": {
     "slide_type": "slide"
    }
   },
   "source": [
    "## Final Classes\n",
    "\n",
    "You can declare a **class** as `final` to **prevent** it from being **used as a base class**, as in\n",
    "```c++\n",
    "// this class cannot be used as a base class\n",
    "class MyClass final {\n",
    "    // class body\n",
    "};\n",
    "```\n",
    "- Attempting to inherit from a final base class results in a compilation error."
   ]
  },
  {
   "cell_type": "markdown",
   "metadata": {
    "slideshow": {
     "slide_type": "slide"
    }
   },
   "source": [
    "## Abstract Classes\n",
    "\n",
    "- There are cases in which it's useful to define **classes from which you never intend to instantiate any objects**.\n",
    "- Such classes are called **abstract classes**.\n",
    "- Because these classes normally are used as base classes in inheritance hierarchies, we refer to them as **abstract base classes**.\n",
    "- Cannot be used to instantiate objects, because they are **incomplete** - derived classes must define the \"missing pieces.\"\n",
    "- An abstract class is a base class from which other classes can inherit.\n",
    "- Classes that can be used to instantiate objects are **concrete classes**.\n",
    "- Such classes define **every** member function they declare."
   ]
  },
  {
   "cell_type": "markdown",
   "metadata": {
    "slideshow": {
     "slide_type": "slide"
    }
   },
   "source": [
    "## Abstract Classes (cont.)\n",
    "\n",
    "- Abstract base classes are **too generic** to define real objects;\n",
    "    - we need to be more specific before we can think of instantiating objects.\n",
    "- For example, if someone tells you to \"draw the two-dimensional shape\", what shape would you draw?\n",
    "- Concrete classes provide the specifics that make it possible to instantiate objects."
   ]
  },
  {
   "cell_type": "markdown",
   "metadata": {
    "slideshow": {
     "slide_type": "slide"
    }
   },
   "source": [
    "## Pure `virtual` Functions\n",
    "\n",
    "- A class is made **abstract** by declaring **one or more** of its virtual functions to be **\"pure.\"**\n",
    "    - A pure virtual function is specified by placing **\"= 0\"** in its declaration, as in\n",
    "```c++\n",
    "virtual void draw() = 0;\n",
    "```\n",
    "- The `= 0` is a pure specifier.\n",
    "- Pure virtual functions typically **do not provide implementations**, though they can."
   ]
  },
  {
   "cell_type": "code",
   "execution_count": 31,
   "metadata": {
    "slideshow": {
     "slide_type": "slide"
    }
   },
   "outputs": [],
   "source": [
    "// abstract class\n",
    "class CommunityMember {\n",
    "public:\n",
    "    CommunityMember() { cout << \"Create a community member\"  << endl; }\n",
    "    virtual ~CommunityMember(){ cout << \"Destroy a community member\" << endl; }\n",
    "    \n",
    "    virtual void act() = 0; // pure virtual function\n",
    "};"
   ]
  },
  {
   "cell_type": "code",
   "execution_count": 32,
   "metadata": {
    "slideshow": {
     "slide_type": "fragment"
    }
   },
   "outputs": [
    {
     "name": "stderr",
     "output_type": "stream",
     "text": [
      "\u001b[1minput_line_39:3:21: \u001b[0m\u001b[0;1;31merror: \u001b[0m\u001b[1mvariable type '__cling_N531::CommunityMember' is an abstract class\u001b[0m\n",
      "    CommunityMember cm;\n",
      "\u001b[0;1;32m                    ^\n",
      "\u001b[0m\u001b[1minput_line_38:7:18: \u001b[0m\u001b[0;1;30mnote: \u001b[0munimplemented pure virtual method 'act' in 'CommunityMember'\u001b[0m\n",
      "    virtual void act() = 0; // pure virtual function\n",
      "\u001b[0;1;32m                 ^\n",
      "\u001b[0m"
     ]
    },
    {
     "ename": "Interpreter Error",
     "evalue": "",
     "output_type": "error",
     "traceback": [
      "Interpreter Error: "
     ]
    }
   ],
   "source": [
    "{\n",
    "    CommunityMember cm;\n",
    "}"
   ]
  },
  {
   "cell_type": "code",
   "execution_count": 33,
   "metadata": {
    "slideshow": {
     "slide_type": "slide"
    }
   },
   "outputs": [],
   "source": [
    "// concrete class\n",
    "class Employee : public CommunityMember {\n",
    "public:\n",
    "    Employee() : CommunityMember() { cout << \"Create an employee\" << endl; }\n",
    "    ~Employee(){ cout << \"Destroy an employee\" << endl; }\n",
    " \n",
    "    void act() { cout << \"I'm an employee\" << endl; }\n",
    "};"
   ]
  },
  {
   "cell_type": "code",
   "execution_count": 34,
   "metadata": {
    "slideshow": {
     "slide_type": "subslide"
    }
   },
   "outputs": [],
   "source": [
    "// concrete class\n",
    "class Faculty : public Employee {\n",
    "public:\n",
    "    Faculty() : Employee() { cout << \"Create a faculty\" << endl; }\n",
    "    ~Faculty(){ cout << \"Destroy a faculty\" << endl; }\n",
    " \n",
    "    void act() { cout << \"I'm a faculty\" << endl; }\n",
    "};"
   ]
  },
  {
   "cell_type": "code",
   "execution_count": 42,
   "metadata": {
    "slideshow": {
     "slide_type": "subslide"
    }
   },
   "outputs": [
    {
     "name": "stdout",
     "output_type": "stream",
     "text": [
      "Create a community member\n",
      "Create an employee\n",
      "Create a community member\n",
      "Create an employee\n",
      "Create a faculty\n",
      "I'm an employee\n",
      "I'm a faculty\n",
      "Destroy an employee\n",
      "Destroy a community member\n",
      "Destroy a faculty\n",
      "Destroy an employee\n",
      "Destroy a community member\n"
     ]
    }
   ],
   "source": [
    "{\n",
    "    vector<CommunityMember*> members{new Employee(), new Faculty()};\n",
    "    \n",
    "    for(CommunityMember* m : members)\n",
    "        m->act();\n",
    "\n",
    "    for(auto m : members)\n",
    "        delete m;\n",
    "}"
   ]
  },
  {
   "cell_type": "code",
   "execution_count": 40,
   "metadata": {
    "slideshow": {
     "slide_type": "slide"
    }
   },
   "outputs": [],
   "source": [
    "// derived abstract class\n",
    "class Student : public CommunityMember {\n",
    "public:\n",
    "    Student() : CommunityMember() { cout << \"Create a faculty\" << endl; }\n",
    "    ~Student(){ cout << \"Destroy a faculty\" << endl; }\n",
    " \n",
    "//     void act() { cout << \"I'm a student\" << endl; }\n",
    "};"
   ]
  },
  {
   "cell_type": "code",
   "execution_count": 41,
   "metadata": {
    "slideshow": {
     "slide_type": "fragment"
    }
   },
   "outputs": [
    {
     "name": "stderr",
     "output_type": "stream",
     "text": [
      "\u001b[1minput_line_48:3:13: \u001b[0m\u001b[0;1;31merror: \u001b[0m\u001b[1mvariable type '__cling_N540::Student' is an abstract class\u001b[0m\n",
      "    Student s;\n",
      "\u001b[0;1;32m            ^\n",
      "\u001b[0m\u001b[1minput_line_38:7:18: \u001b[0m\u001b[0;1;30mnote: \u001b[0munimplemented pure virtual method 'act' in 'Student'\u001b[0m\n",
      "    virtual void act() = 0; // pure virtual function\n",
      "\u001b[0;1;32m                 ^\n",
      "\u001b[0m"
     ]
    },
    {
     "ename": "Interpreter Error",
     "evalue": "",
     "output_type": "error",
     "traceback": [
      "Interpreter Error: "
     ]
    }
   ],
   "source": [
    "{\n",
    "    Student s;\n",
    "}"
   ]
  },
  {
   "cell_type": "markdown",
   "metadata": {
    "slideshow": {
     "slide_type": "slide"
    }
   },
   "source": [
    "## Pure `virtual` Functions (cont.)\n",
    "\n",
    "- Each **concrete** derived class **must override all** base-class **pure virtual functions** with concrete implementations of those functions; otherwise the derived class is also abstract.\n",
    "- The difference between a `virtual` function and a pure `virtual` function is that a `virtual` function **has** an implementation and gives the derived class the **option** of overriding the function.\n",
    "- By contrast, a pure virtual function **does not have** an implementation and **requires** the derived class to override the function for that derived class to be concrete; otherwise the derived class remains **abstract**.\n",
    "- Pure virtual functions are used when it **does not make sense** for the base class to have an implementation of a function, but you want all concrete derived classes to implement the function."
   ]
  },
  {
   "cell_type": "markdown",
   "metadata": {
    "slideshow": {
     "slide_type": "slide"
    }
   },
   "source": [
    "## Software Engineering: Interfaces\n",
    "\n",
    "- An **abstract class** defines a common **public interface** for the various classes that derive from it in a class hierarchy.\n",
    "    - An abstract class contains one or more pure virtual functions that concrete derived classes must override.        \n",
    "- An abstract class has at least one pure virtual function.\n",
    "- An abstract class also can have data members and concrete functions (including constructors and destructors), which are subject to the normal rules of inheritance by derived classes.\n",
    "- Failure to override a pure virtual function in a derived class makes that class abstract.\n",
    "    - Attempting to instantiate an object of an abstract class causes a compilation error."
   ]
  },
  {
   "cell_type": "markdown",
   "metadata": {
    "slideshow": {
     "slide_type": "slide"
    }
   },
   "source": [
    "## Abstract Classes (cont.)\n",
    "\n",
    "- Although we cannot instantiate objects of an abstract base class, we **can use** the abstract base class to **declare pointers and references** that can refer to objects of any **concrete** classes derived from the abstract class.\n",
    "- Programs typically use such pointers and references to manipulate derived-class objects polymorphically."
   ]
  }
 ],
 "metadata": {
  "celltoolbar": "Slideshow",
  "kernelspec": {
   "display_name": "C++14",
   "language": "C++14",
   "name": "xcpp14"
  },
  "language_info": {
   "codemirror_mode": "text/x-c++src",
   "file_extension": ".cpp",
   "mimetype": "text/x-c++src",
   "name": "c++",
   "version": "14"
  },
  "rise": {
   "enable_chalkboard": true
  }
 },
 "nbformat": 4,
 "nbformat_minor": 2
}
