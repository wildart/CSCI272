{
 "cells": [
  {
   "cell_type": "code",
   "execution_count": 1,
   "metadata": {
    "hide_input": false,
    "slideshow": {
     "slide_type": "skip"
    }
   },
   "outputs": [],
   "source": [
    "#include <iostream>\n",
    "#include <iomanip>   // for setw and setfill stream manipulators\n",
    "#include <stdexcept> // for invalid_argument exception class\n",
    "#include <sstream>   // for ostringstream class\n",
    "#include <string>\n",
    "using namespace std;"
   ]
  },
  {
   "cell_type": "markdown",
   "metadata": {
    "slideshow": {
     "slide_type": "slide"
    }
   },
   "source": [
    "# Classes"
   ]
  },
  {
   "cell_type": "markdown",
   "metadata": {
    "slideshow": {
     "slide_type": "slide"
    }
   },
   "source": [
    "## Vocabulary\n",
    "- a **class** is the definition of a data structure and the associated operations that can be done on it;\n",
    "- an **object** (equivalent to a variable) is an instanciation of the class, i.e.\n",
    "    - an existing set of data build upon the model described by the class;\n",
    "- a **data field** is one of the variable internal to the object containing a piece of data;\n",
    "- a **method** is a special function associated to a class."
   ]
  },
  {
   "cell_type": "markdown",
   "metadata": {
    "slideshow": {
     "slide_type": "slide"
    }
   },
   "source": [
    "## Default Constructor\n",
    "\n",
    "If no user-declared constructors of any kind are provided for a class type, the compiler will **always declare** a default constructor as an inline public member of its class. "
   ]
  },
  {
   "cell_type": "code",
   "execution_count": 2,
   "metadata": {
    "slideshow": {
     "slide_type": "fragment"
    }
   },
   "outputs": [],
   "source": [
    "class One {\n",
    "    int x;\n",
    "public:\n",
    "    // One::One()  is an implicitly-defined default constructor\n",
    "    // One(){};\n",
    "    int getValue() { return x; };\n",
    "};"
   ]
  },
  {
   "cell_type": "code",
   "execution_count": 3,
   "metadata": {
    "slideshow": {
     "slide_type": "fragment"
    }
   },
   "outputs": [
    {
     "name": "stdout",
     "output_type": "stream",
     "text": [
      "Value is -305663152\n"
     ]
    }
   ],
   "source": [
    "{\n",
    "    One s;\n",
    "    cout << \"Value is \" << s.getValue() << endl;    \n",
    "}"
   ]
  },
  {
   "cell_type": "markdown",
   "metadata": {
    "slideshow": {
     "slide_type": "slide"
    }
   },
   "source": [
    "## Data Member Initialization"
   ]
  },
  {
   "cell_type": "code",
   "execution_count": 4,
   "metadata": {
    "slideshow": {
     "slide_type": "fragment"
    }
   },
   "outputs": [],
   "source": [
    "class OneDefault {\n",
    "    int x{1};\n",
    "public:\n",
    "    // OneDefault::OneDefault()  is an implicitly-defined default constructor\n",
    "    int getValue() { return x; };\n",
    "};"
   ]
  },
  {
   "cell_type": "code",
   "execution_count": 5,
   "metadata": {
    "slideshow": {
     "slide_type": "fragment"
    }
   },
   "outputs": [
    {
     "name": "stdout",
     "output_type": "stream",
     "text": [
      "Value is 1\n"
     ]
    }
   ],
   "source": [
    "{\n",
    "    OneDefault s;\n",
    "    cout << \"Value is \" << s.getValue() << endl;    \n",
    "}"
   ]
  },
  {
   "cell_type": "markdown",
   "metadata": {
    "slideshow": {
     "slide_type": "slide"
    }
   },
   "source": [
    "## Constructors\n",
    "\n",
    "- There's **no default constructor** in a class that defines a constructor\n",
    "- If you **define** a custom constructor for a class, the compiler will **not create** a default constructor for that class.\n",
    "    - We'll show later that C++11 allows you to force the compiler to create the default constructor even if you've defined non-default constructors.\n",
    "- Unless default initialization of your class's data members is acceptable, you should generally provide a custom constructor to ensure that your data members are properly initialized.    "
   ]
  },
  {
   "cell_type": "markdown",
   "metadata": {
    "slideshow": {
     "slide_type": "slide"
    }
   },
   "source": [
    "A default constructor can be called with **no parameters**, and is used if you define a variable with no initial value."
   ]
  },
  {
   "cell_type": "code",
   "execution_count": 6,
   "metadata": {
    "slideshow": {
     "slide_type": "fragment"
    }
   },
   "outputs": [],
   "source": [
    "class Two {\n",
    "    int x;\n",
    "public:\n",
    "    Two(int v): x(v) {}; // explicit \"default\" constructor\n",
    "    int getValue() { return x; };\n",
    "};"
   ]
  },
  {
   "cell_type": "code",
   "execution_count": 7,
   "metadata": {
    "slideshow": {
     "slide_type": "fragment"
    }
   },
   "outputs": [
    {
     "name": "stderr",
     "output_type": "stream",
     "text": [
      "\u001b[1minput_line_14:3:9: \u001b[0m\u001b[0;1;31merror: \u001b[0m\u001b[1mno matching constructor for initialization of '__cling_N56::Two'\u001b[0m\n",
      "    Two t;\n",
      "\u001b[0;1;32m        ^\n",
      "\u001b[0m\u001b[1minput_line_13:4:5: \u001b[0m\u001b[0;1;30mnote: \u001b[0mcandidate constructor not viable: requires single argument 'v', but no arguments\n",
      "      were provided\u001b[0m\n",
      "    Two(int v): x(v) {}; // explicit \"default\" constructor\n",
      "\u001b[0;1;32m    ^\n",
      "\u001b[0m\u001b[1minput_line_13:1:7: \u001b[0m\u001b[0;1;30mnote: \u001b[0mcandidate constructor (the implicit copy constructor) not viable: requires 1\n",
      "      argument, but 0 were provided\u001b[0m\n",
      "class Two {\n",
      "\u001b[0;1;32m      ^\n",
      "\u001b[0m\u001b[1minput_line_13:1:7: \u001b[0m\u001b[0;1;30mnote: \u001b[0mcandidate constructor (the implicit move constructor) not viable: requires 1\n",
      "      argument, but 0 were provided\u001b[0m\n"
     ]
    },
    {
     "ename": "Interpreter Error",
     "evalue": "",
     "output_type": "error",
     "traceback": [
      "Interpreter Error: "
     ]
    }
   ],
   "source": [
    "{\n",
    "    Two t;\n",
    "    cout << \"Value is \" << t.getValue() << endl;    \n",
    "}"
   ]
  },
  {
   "cell_type": "code",
   "execution_count": 8,
   "metadata": {
    "slideshow": {
     "slide_type": "slide"
    }
   },
   "outputs": [
    {
     "name": "stdout",
     "output_type": "stream",
     "text": [
      "Value is 2\n"
     ]
    }
   ],
   "source": [
    "{\n",
    "    Two t{2};\n",
    "    cout << \"Value is \" << t.getValue() << endl;    \n",
    "}"
   ]
  },
  {
   "cell_type": "markdown",
   "metadata": {
    "slideshow": {
     "slide_type": "fragment"
    }
   },
   "source": [
    "but with default constructor"
   ]
  },
  {
   "cell_type": "code",
   "execution_count": 9,
   "metadata": {
    "slideshow": {
     "slide_type": "fragment"
    }
   },
   "outputs": [],
   "source": [
    "class Three {\n",
    "    int x;\n",
    "public:\n",
    "    Three(): x(3) {}; // default constructor\n",
    "    int getValue() { return x; };\n",
    "};"
   ]
  },
  {
   "cell_type": "code",
   "execution_count": 10,
   "metadata": {
    "slideshow": {
     "slide_type": "fragment"
    }
   },
   "outputs": [
    {
     "name": "stdout",
     "output_type": "stream",
     "text": [
      "Value is 3\n"
     ]
    }
   ],
   "source": [
    "{\n",
    "    Three u;\n",
    "    cout << \"Value is \" << u.getValue() << endl;    \n",
    "}"
   ]
  },
  {
   "cell_type": "markdown",
   "metadata": {
    "slideshow": {
     "slide_type": "slide"
    }
   },
   "source": [
    "## Tip\n",
    "\n",
    "A **constructor** can call **other member functions** of the class, such as **set** or **get** functions, but because the constructor is initializing the object, the data members may not yet be initialized\n",
    "- Using data members before they have been properly initialized can cause logic errors."
   ]
  },
  {
   "cell_type": "markdown",
   "metadata": {
    "slideshow": {
     "slide_type": "slide"
    }
   },
   "source": [
    "## Study: Separating Interface from Implementation\n",
    "\n",
    "Prior project structure:\n",
    "\n",
    "- a class placed in a header for reuse\n",
    "- then included the header into a source-code file containing **main**\n",
    "\n",
    "Problem:\n",
    "\n",
    "- Reveals the entire implementation of the class to the class's clients\n",
    "- If an implementation changes, the class's clients should not have to change\n",
    "\n",
    "Client code (e.g., main) needs to know only:\n",
    "- what member functions to call\n",
    "- what return type and arguments to provide to each member function\n",
    "\n",
    "Hiding the implementation details makes it easier to change the implementation while minimizing changes to client code."
   ]
  },
  {
   "cell_type": "markdown",
   "metadata": {
    "slideshow": {
     "slide_type": "slide"
    }
   },
   "source": [
    "## Interface of a Class\n",
    "\n",
    "Interfaces define and standardize the ways of interaction with one another\n",
    "- A radio's controls serve as an interface between the radio's users and its internal components.\n",
    "- The controls allow users to perform a limited set of operations\n",
    "- Various radios may implement these operations differently\n",
    "\n",
    "The interface specifies what operations are permited to perform but does not specify how they are implemented.\n",
    "\n",
    "- Interface of a class describes what services a class's clients can use, and\n",
    "- how to request those services, but\n",
    "- not how the class carries out the services\n",
    "\n",
    "A class's public interface consists of the class's public member functions.\n",
    "\n",
    "You can specify a class's interface by writing a class definition that lists only the class's member-function prototypes and the class's data members."
   ]
  },
  {
   "cell_type": "markdown",
   "metadata": {
    "slideshow": {
     "slide_type": "slide"
    }
   },
   "source": [
    "## Separating the Interface\n",
    "\n",
    "To separate the class interface from its implementation, we break up class into\n",
    "- **header file** (.h) in which class is defined, and\n",
    "- **source-code file** (.cpp) in which class's member functions are defined\n",
    "\n",
    "Benefits:\n",
    " - the class is reusable\n",
    " - the clients of the class know what member functions the class provides\n",
    " - the clients do not know how the class's member functions are implemented."
   ]
  },
  {
   "cell_type": "code",
   "execution_count": 2,
   "metadata": {
    "slideshow": {
     "slide_type": "slide"
    }
   },
   "outputs": [],
   "source": [
    "// Time.h\n",
    "// Member functions are defined in Time.cpp\n",
    "#include <string>\n",
    "\n",
    "// prevent multiple inclusions of header\n",
    "#ifndef TIME_H\n",
    "#define TIME_H\n",
    "// Time class definition\n",
    "class Time {\n",
    "public:\n",
    "    void setTime(int, int, int); // set hour, minute and second\n",
    "    std::string toUniversalString() const; // 24-hour time format string\n",
    "private:\n",
    "    unsigned int hour{0}; // 0 - 23 (24-hour clock format)\n",
    "    unsigned int minute{0}; // 0 - 59\n",
    "    unsigned int second{0}; // 0 - 59\n",
    "};\n",
    "#endif"
   ]
  },
  {
   "cell_type": "markdown",
   "metadata": {
    "slideshow": {
     "slide_type": "slide"
    }
   },
   "source": [
    "## Guard\n",
    "\n",
    "In above, the class definition is enclosed in the following include guard (lines 6, 7 and 18):\n",
    "\n",
    "```cpp\n",
    "// or #pragma once\n",
    "#ifndef TIME_H\n",
    "#define TIME_H\n",
    "...\n",
    "#endif\n",
    "```   \n",
    "\n",
    "\n",
    "When we build larger programs, other definitions and declarations will also be placed in headers.\n",
    "\n",
    "The preceding include guard prevents the code between **#ifndef** and **#endif** from being **#include**d if the name `TIME_H` has been defined.\n",
    "- If the header is #included again, TIME_H is defined already and the code between #ifndef and #endif is ignored by the preprocessor"
   ]
  },
  {
   "cell_type": "code",
   "execution_count": null,
   "metadata": {
    "slideshow": {
     "slide_type": "skip"
    }
   },
   "outputs": [],
   "source": [
    "// Time.cpp\n",
    "// Time class member-function definitions.\n",
    "#include <iomanip>   // for setw and setfill stream manipulators\n",
    "#include <stdexcept> // for invalid_argument exception class\n",
    "#include <sstream>   // for ostringstream class\n",
    "#include <string>\n",
    "\n",
    "#include \"Time.h\"    // include definition of class Time from Time.h\n",
    "using namespace std;\n",
    "\n",
    "// set new Time value using universal time\n",
    "void Time::setTime(int h, int m, int s) {\n",
    "    // validate hour, minute and second\n",
    "    if ((h >= 0 && h < 24) && (m >= 0 && m < 60) && (s >= 0 && s < 60)) {\n",
    "        hour = h;\n",
    "        minute = m;\n",
    "        second = s;\n",
    "    }\n",
    "    else {\n",
    "        throw invalid_argument(\"hour, minute and/or second was out of range\");\n",
    "    }\n",
    "};\n",
    "\n",
    "string Time::toUniversalString() const {\n",
    "    ostringstream output;\n",
    "    output << setfill('0') << setw(2) << hour << \":\"\n",
    "        << setw(2) << minute << \":\" << setw(2) << second;\n",
    "    return output.str(); // returns the formatted string\n",
    "};"
   ]
  },
  {
   "cell_type": "code",
   "execution_count": null,
   "metadata": {
    "slideshow": {
     "slide_type": "skip"
    }
   },
   "outputs": [],
   "source": [
    "// main.cpp\n",
    "// using Time class\n",
    "#include <iomanip>   // for setw and setfill stream manipulators\n",
    "#include <stdexcept> // for invalid_argument exception class\n",
    "#include <sstream>   // for ostringstream class\n",
    "#include <string>\n",
    "\n",
    "#include \"Time.h\"    // include definition of class Time from Time.h\n",
    "using namespace std;\n",
    "\n",
    "int main() {\n",
    "    Time t;\n",
    "    t.setTime(1,2,3);\n",
    "    cout << t.toUniversalString() << endl;\n",
    "}"
   ]
  },
  {
   "cell_type": "markdown",
   "metadata": {
    "slideshow": {
     "slide_type": "slide"
    }
   },
   "source": [
    "## Compilation and Linking Process\n",
    "\n",
    "<img src=\"../img/linking-process.png\" style=\"height:700px; margin: auto;padding-top:20px\"/>"
   ]
  },
  {
   "cell_type": "markdown",
   "metadata": {
    "slideshow": {
     "slide_type": "slide"
    }
   },
   "source": [
    "## Compilation and Linking Process (cont.)\n",
    "\n",
    "To create the executable **Time** application, the last step is to link:\n",
    "- the object code for the **main** function (i.e., the client code),\n",
    "- the object code for **class** Time's member-function implementations, and\n",
    "- the C++ Standard Library object code for the C++ classes (e.g., string) used by the class-implementation programmer and the client-code programmer.\n",
    "\n",
    "The linker's output is the executable Time application that users can execute to create and manipulate a Time object."
   ]
  },
  {
   "cell_type": "markdown",
   "metadata": {
    "slideshow": {
     "slide_type": "slide"
    }
   },
   "source": [
    "## Scope Resolution Operator\n",
    "\n",
    "Each member function's name (lines 12 and 24) is preceded by the class name and the **scope resolution operator (::)** \"ties\" them to the (now separate) Time class definition.\n",
    "\n",
    "**Time::** tells the compiler that each member function is within that class's scope and its name is known to other class members\n",
    "\n",
    "- Without **Time::** preceding each function name, these functions would not be recognized by the compiler as `Time` member functions\n",
    "- Instead, the compiler would consider them “free” or “loose” functions, like `main` - these are also called **global functions**.\n",
    "    - Such functions **cannot** *access* class private data or *call* the class's member functions, without specifying an object."
   ]
  },
  {
   "cell_type": "code",
   "execution_count": 11,
   "metadata": {
    "slideshow": {
     "slide_type": "fragment"
    }
   },
   "outputs": [],
   "source": [
    "string Time::toUniversalString() const {\n",
    "    ostringstream output;\n",
    "    output << setfill('0') << setw(2) << hour << \":\"\n",
    "        << setw(2) << minute << \":\" << setw(2) << second;\n",
    "    return output.str(); // returns the formatted string\n",
    "};"
   ]
  },
  {
   "cell_type": "markdown",
   "metadata": {
    "slideshow": {
     "slide_type": "slide"
    }
   },
   "source": [
    "## Implicitly Inlining Member Functions\n",
    "\n",
    "If a member function is **defined in a class body**, the member function is implicitly declared **inline**.\n",
    "- Remember that the compiler reserves the right not to inline any function.\n",
    "- This can improve performance.\n",
    "    \n",
    "Only the **simplest** and **most stable** member functions should be defined in the class header.\n",
    "- implementations are unlikely to change\n",
    "- because every change to the header requires you to recompile every source-code file that’s dependent on that header (a time-consuming task in large systems)."
   ]
  },
  {
   "cell_type": "markdown",
   "metadata": {
    "slideshow": {
     "slide_type": "slide"
    }
   },
   "source": [
    "## Using Class\n",
    "\n",
    "**Time** can be used as a type in object, array, pointer and reference declarations as follows:\n",
    "\n",
    "```cpp\n",
    "Time sunset; // object of type Time\n",
    "array<Time, 5> arrayOfTimes; // array of 5 Time objects\n",
    "Time& dinnerTimeRef{sunset}; // reference to a Time object\n",
    "Time* timePtr{&sunset}; // pointer to a Time object\n",
    "```\n",
    "\n",
    "Separating Time’s interface from the implementation of its member functions does not affect the way that this client code uses the class\n",
    "\n"
   ]
  },
  {
   "cell_type": "markdown",
   "metadata": {
    "slideshow": {
     "slide_type": "slide"
    }
   },
   "source": [
    "## Object Size\n",
    "\n",
    "People new to object-oriented programming often suppose that objects must be quite large because they contain data members and member functions.\n",
    "- **logically**, this is true - you may think of objects as containing data and functions;\n",
    "- **physically**, however, this is not true.\n",
    "\n",
    "Objects contain **only** data."
   ]
  },
  {
   "cell_type": "markdown",
   "metadata": {
    "slideshow": {
     "slide_type": "slide"
    }
   },
   "source": [
    "## Constructors with Default Arguments"
   ]
  },
  {
   "cell_type": "code",
   "execution_count": 2,
   "metadata": {
    "slideshow": {
     "slide_type": "fragment"
    }
   },
   "outputs": [],
   "source": [
    "class Time {\n",
    "public:\n",
    "    explicit Time(int = 0, int = 1, int = 2); // default constructor\n",
    "    \n",
    "    void setTime(int, int, int); // set hour, minute and second\n",
    "    std::string toUniversalString() const; // 24-hour time format string\n",
    "    \n",
    "    ~Time(); // destructor\n",
    "private:\n",
    "    unsigned int hour{0}; // 0 - 23 (24-hour clock format)\n",
    "    unsigned int minute{0}; // 0 - 59\n",
    "    unsigned int second{0}; // 0 - 59\n",
    "};"
   ]
  },
  {
   "cell_type": "code",
   "execution_count": 3,
   "metadata": {
    "slideshow": {
     "slide_type": "slide"
    }
   },
   "outputs": [],
   "source": [
    "// set new Time value using universal time\n",
    "void Time::setTime(int h, int m, int s) {\n",
    "    // validate hour, minute and second\n",
    "    if ((h >= 0 && h < 24) && (m >= 0 && m < 60) && (s >= 0 && s < 60)) {\n",
    "        hour = h;\n",
    "        minute = m;\n",
    "        second = s;\n",
    "    }\n",
    "    else {\n",
    "        throw invalid_argument(\"hour, minute and/or second was out of range\");\n",
    "    }\n",
    "};"
   ]
  },
  {
   "cell_type": "code",
   "execution_count": 4,
   "metadata": {
    "slideshow": {
     "slide_type": "fragment"
    }
   },
   "outputs": [],
   "source": [
    "string Time::toUniversalString() const {\n",
    "    ostringstream output;\n",
    "    output << setfill('0') << setw(2) << hour << \":\"\n",
    "           << setw(2) << minute << \":\" << setw(2) << second;\n",
    "    return output.str(); // returns the formatted string\n",
    "};"
   ]
  },
  {
   "cell_type": "code",
   "execution_count": 5,
   "metadata": {
    "slideshow": {
     "slide_type": "fragment"
    }
   },
   "outputs": [],
   "source": [
    "// displays a Time in 24-hour and 12-hour formats\n",
    "void displayTime(const string& message, const Time& time) {\n",
    "    cout << message << \"\\nUniversal time: \" << time.toUniversalString() << \"\\n\\n\";\n",
    "}"
   ]
  },
  {
   "cell_type": "markdown",
   "metadata": {
    "slideshow": {
     "slide_type": "slide"
    }
   },
   "source": [
    "- Like other functions, constructors can specify default arguments.\n",
    "    - Line 3 declares a Time **constructor with default arguments**, specifying a default value of zero for each argument passed to the constructor.\n",
    "- The constructor is declared **explicit** because it can be called with one argument"
   ]
  },
  {
   "cell_type": "code",
   "execution_count": 6,
   "metadata": {
    "slideshow": {
     "slide_type": "slide"
    }
   },
   "outputs": [],
   "source": [
    "// from interface:  explicit Time(int = 0, int = 1, int = 2);\n",
    "Time::Time(int h, int m, int s) {\n",
    "    cout << \"Time object is created\" << endl;\n",
    "    setTime(h, m, s);\n",
    "}"
   ]
  },
  {
   "cell_type": "code",
   "execution_count": 12,
   "metadata": {
    "scrolled": true,
    "slideshow": {
     "slide_type": "fragment"
    }
   },
   "outputs": [
    {
     "name": "stdout",
     "output_type": "stream",
     "text": [
      "Time 1: \n",
      "Universal time: 00:01:02\n",
      "\n",
      "Time 2: \n",
      "Universal time: 04:01:02\n",
      "\n",
      "Time 3: \n",
      "Universal time: 04:03:02\n",
      "\n",
      "Time 4: \n",
      "Universal time: 04:03:05\n",
      "\n",
      "Time object destroyed\n",
      "Time object destroyed\n",
      "Time object destroyed\n",
      "Time object destroyed\n"
     ]
    }
   ],
   "source": [
    "{\n",
    "    Time t1;         // Time()\n",
    "    Time t2(4);      // Time(int)\n",
    "    Time t3(4,3);    // Time(int, int)\n",
    "    Time t4(4,3,5);  // Time(int, int, int)\n",
    "    displayTime(\"Time 1: \", t1);\n",
    "    displayTime(\"Time 2: \", t2);\n",
    "    displayTime(\"Time 3: \", t3);\n",
    "    displayTime(\"Time 4: \", t4);\n",
    "}"
   ]
  },
  {
   "cell_type": "code",
   "execution_count": 26,
   "metadata": {
    "slideshow": {
     "slide_type": "skip"
    }
   },
   "outputs": [
    {
     "name": "stdout",
     "output_type": "stream",
     "text": [
      "Got you\n"
     ]
    }
   ],
   "source": [
    "{\n",
    "    try{\n",
    "        Time t1{100};\n",
    "    }\n",
    "    catch (invalid_argument& e) {\n",
    "        cout << \"Got you\\n\";\n",
    "    }\n",
    "    //dispayTime(\"Time:\", t1);\n",
    "}"
   ]
  },
  {
   "cell_type": "markdown",
   "metadata": {
    "slideshow": {
     "slide_type": "slide"
    }
   },
   "source": [
    "## Overloaded Functions\n",
    "\n",
    "- **C language does not allow that!!!**\n",
    "- C++ does"
   ]
  },
  {
   "cell_type": "code",
   "execution_count": 2,
   "metadata": {
    "slideshow": {
     "slide_type": "fragment"
    }
   },
   "outputs": [],
   "source": [
    "int f() { return 1; }"
   ]
  },
  {
   "cell_type": "code",
   "execution_count": 3,
   "metadata": {
    "slideshow": {
     "slide_type": "fragment"
    }
   },
   "outputs": [
    {
     "name": "stdout",
     "output_type": "stream",
     "text": [
      "1"
     ]
    }
   ],
   "source": [
    "cout << f();"
   ]
  },
  {
   "cell_type": "code",
   "execution_count": 4,
   "metadata": {
    "slideshow": {
     "slide_type": "fragment"
    }
   },
   "outputs": [],
   "source": [
    "int f(int n){ return n;}"
   ]
  },
  {
   "cell_type": "code",
   "execution_count": 5,
   "metadata": {
    "slideshow": {
     "slide_type": "fragment"
    }
   },
   "outputs": [
    {
     "name": "stdout",
     "output_type": "stream",
     "text": [
      "122"
     ]
    }
   ],
   "source": [
    "cout << f(122);"
   ]
  },
  {
   "cell_type": "code",
   "execution_count": 6,
   "metadata": {
    "slideshow": {
     "slide_type": "fragment"
    }
   },
   "outputs": [
    {
     "name": "stderr",
     "output_type": "stream",
     "text": [
      "\u001b[1minput_line_13:1:6: \u001b[0m\u001b[0;1;31merror: \u001b[0m\u001b[1mfunctions that differ only in their return type cannot be overloaded\u001b[0m\n",
      "void f(){}\n",
      "\u001b[0;1;32m~~~~ ^\n",
      "\u001b[0m\u001b[1minput_line_9:1:5: \u001b[0m\u001b[0;1;30mnote: \u001b[0mprevious definition is here\u001b[0m\n",
      "int f() { return 1; }\n",
      "\u001b[0;1;32m~~~ ^\n",
      "\u001b[0m"
     ]
    },
    {
     "ename": "Interpreter Error",
     "evalue": "",
     "output_type": "error",
     "traceback": [
      "Interpreter Error: "
     ]
    }
   ],
   "source": [
    "void f(){}"
   ]
  },
  {
   "cell_type": "markdown",
   "metadata": {
    "slideshow": {
     "slide_type": "slide"
    }
   },
   "source": [
    "## Overloaded Constructors"
   ]
  },
  {
   "cell_type": "markdown",
   "metadata": {
    "slideshow": {
     "slide_type": "fragment"
    }
   },
   "source": [
    "Time's **constructor** with three parameters had a **default argument** for each parameter.\n",
    "- We could have defined that constructor instead as four overloaded constructors with the following prototypes:\n",
    "\n",
    "```cpp\n",
    "Time(); // default hour, minute and second to 0\n",
    "explicit Time(int); // init hour; default minute and second to 0\n",
    "Time(int, int); // initialize hour and minute; default second to 0\n",
    "Time(int, int, int); // initialize hour, minute and second\n",
    "```"
   ]
  },
  {
   "cell_type": "markdown",
   "metadata": {
    "slideshow": {
     "slide_type": "slide"
    }
   },
   "source": [
    "## Overloaded Constructors (cont.)\n",
    "\n",
    "C++11 allows **constructors to call other constructors** in the same class.\n",
    "\n",
    "Use a member initializer with the name of the class as follows:\n",
    "```cpp\n",
    "// delegate to Time(int, int, int)\n",
    "Time::Time() : Time{0, 1, 2} {}\n",
    "// delegate to Time(int, int, int)\n",
    "Time::Time(int hour) : Time{hour, 1, 2} {}\n",
    "// delegate to Time(int, int, int)\n",
    "Time::Time(int hour, int minute) : Time{hour, minute, 2} {}\n",
    "```"
   ]
  },
  {
   "cell_type": "markdown",
   "metadata": {
    "slideshow": {
     "slide_type": "slide"
    }
   },
   "source": [
    "## Destructor\n",
    "\n",
    "- The name of the destructor is the **tilde** character (~) followed by the **class name**.\n",
    "- Called implicitly when an object is destroyed.\n",
    "- Receives no parameters and returns no value.\n",
    "- May not specify a return type - not even void.\n",
    "- A class has one destructor.\n",
    "- A destructor must be public.\n",
    "- If you do not explicitly define a destructor, the compiler defines an \"empty\" destructor."
   ]
  },
  {
   "cell_type": "code",
   "execution_count": 7,
   "metadata": {
    "slideshow": {
     "slide_type": "fragment"
    }
   },
   "outputs": [],
   "source": [
    "Time::~Time() {\n",
    "    cout << \"Time object destroyed\" << endl;\n",
    "}"
   ]
  },
  {
   "cell_type": "markdown",
   "metadata": {
    "slideshow": {
     "slide_type": "fragment"
    }
   },
   "source": [
    "*Note: The destructor itself does not actually release the object’s memory it performs termination housekeeping before the object’s memory is reclaimed.*"
   ]
  },
  {
   "cell_type": "code",
   "execution_count": 8,
   "metadata": {
    "cell_style": "center",
    "slideshow": {
     "slide_type": "slide"
    }
   },
   "outputs": [
    {
     "name": "stdout",
     "output_type": "stream",
     "text": [
      "Begining of the scope\n",
      "Time object is created\n",
      "Time: \n",
      "Universal time: 05:02:03\n",
      "\n",
      "End of the scope\n",
      "Time object destroyed\n"
     ]
    }
   ],
   "source": [
    "{   // implicit object construnction & destruction\n",
    "    cout << \"Begining of the scope\" << endl;\n",
    "    Time t{5,2,3};\n",
    "    displayTime(\"Time: \", t);\n",
    "    cout << \"End of the scope\" << endl;\n",
    "}"
   ]
  },
  {
   "cell_type": "code",
   "execution_count": 9,
   "metadata": {
    "slideshow": {
     "slide_type": "fragment"
    }
   },
   "outputs": [
    {
     "name": "stdout",
     "output_type": "stream",
     "text": [
      "Begining of the scope\n",
      "Time object is created\n",
      "Time: \n",
      "Universal time: 03:02:01\n",
      "\n",
      "Time object destroyed\n",
      "End of the scope\n"
     ]
    }
   ],
   "source": [
    "{   // explicit object construnction & destruction\n",
    "    cout << \"Begining of the scope\" << endl;\n",
    "    Time* t = new Time(3,2,1);\n",
    "    displayTime(\"Time: \", *t);\n",
    "    delete t;\n",
    "    cout << \"End of the scope\" << endl;\n",
    "}"
   ]
  },
  {
   "cell_type": "markdown",
   "metadata": {
    "slideshow": {
     "slide_type": "slide"
    }
   },
   "source": [
    "## Constructor and Destructor Calls\n",
    "\n",
    "- Constructors and destructors are called implicitly.\n",
    "- The order in which these function calls occur depends on the order in which execution enters and leaves the scopes where the objects are instantiated.\n",
    "- Generally, destructor calls are made in the reverse order of the corresponding constructor calls\n",
    "    - Global and static objects can alter the order in which destructors are called."
   ]
  },
  {
   "cell_type": "code",
   "execution_count": 10,
   "metadata": {
    "slideshow": {
     "slide_type": "fragment"
    }
   },
   "outputs": [],
   "source": [
    "class CreateAndDestroy {\n",
    "public:\n",
    "    CreateAndDestroy(int, string); // constructor\n",
    "    ~CreateAndDestroy(); // destructor\n",
    "private:\n",
    "    int objectID; // ID number for object\n",
    "    string message; // message describing object\n",
    "};"
   ]
  },
  {
   "cell_type": "code",
   "execution_count": 11,
   "metadata": {
    "slideshow": {
     "slide_type": "slide"
    }
   },
   "outputs": [],
   "source": [
    "// constructor sets object's ID number and descriptive message\n",
    "CreateAndDestroy::CreateAndDestroy(int ID, string messageString) \n",
    "    : objectID(ID), message(messageString) \n",
    "{\n",
    "    cout << \"Object \" << objectID << \" constructor runs \" << message << endl;\n",
    "}"
   ]
  },
  {
   "cell_type": "code",
   "execution_count": 12,
   "metadata": {
    "slideshow": {
     "slide_type": "fragment"
    }
   },
   "outputs": [],
   "source": [
    "// destructor\n",
    "CreateAndDestroy::~CreateAndDestroy() {\n",
    "    // output newline for certain objects; helps readability\n",
    "    cout << (objectID == 1 || objectID == 6 ? \"\\n\" : \"\");\n",
    "    cout << \"Object \" << objectID << \" destructor runs \"<< message << endl;\n",
    "}"
   ]
  },
  {
   "cell_type": "markdown",
   "metadata": {
    "slideshow": {
     "slide_type": "slide"
    }
   },
   "source": [
    "### Global Scope\n",
    "\n",
    "- Constructors are called for objects defined in global scope **before** any other function\n",
    "- Destructors are called when **main** terminates."
   ]
  },
  {
   "cell_type": "markdown",
   "metadata": {
    "slideshow": {
     "slide_type": "slide"
    }
   },
   "source": [
    "### Non-static Local Objects\n",
    "\n",
    "- Constructor for a non-static local object is called when execution reaches the point where that object is defined\n",
    "- Destructor is called when execution leaves the object's scope\n",
    "- Constructors and destructors for non-static local objects are called each time execution enters and leaves the scope of the object.\n",
    "- Destructors are **not called for local objects** if the program terminates with a call to **exit()** or **abort()**."
   ]
  },
  {
   "cell_type": "code",
   "execution_count": 13,
   "metadata": {
    "slideshow": {
     "slide_type": "fragment"
    }
   },
   "outputs": [
    {
     "name": "stdout",
     "output_type": "stream",
     "text": [
      "Object 1 constructor runs (global scope)\n",
      "Begining of local scope\n",
      "Object 2 constructor runs (local scope)\n",
      "End of local scope\n",
      "Object 2 destructor runs (local scope)\n"
     ]
    }
   ],
   "source": [
    "CreateAndDestroy first{1, \"(global scope)\"};\n",
    "{\n",
    "    cout << \"Begining of local scope\" << endl;\n",
    "    CreateAndDestroy second{2, \"(local scope)\"};\n",
    "    cout << \"End of local scope\" << endl;\n",
    "}"
   ]
  },
  {
   "cell_type": "markdown",
   "metadata": {
    "slideshow": {
     "slide_type": "slide"
    }
   },
   "source": [
    "### Static Local Objects\n",
    "\n",
    "- Constructor for a static local object is called only once, when execution first reaches the point where the object is defined\n",
    "- Destructor is called when **main()** terminates or the program calls function exit.\n",
    "- Global and static objects are destroyed in the **reverse order** of their creation.\n",
    "- Destructors are **not called for static objects** if the program terminates with a call to **abort()**."
   ]
  },
  {
   "cell_type": "code",
   "execution_count": 14,
   "metadata": {
    "slideshow": {
     "slide_type": "slide"
    }
   },
   "outputs": [],
   "source": [
    "void create() {\n",
    "    cout << \"Begining of `create`\" << endl;    \n",
    "    CreateAndDestroy fifth{5, \"(local in create)\"};\n",
    "    static CreateAndDestroy sixth{6, \"(local static in create)\"};\n",
    "    CreateAndDestroy seventh{7, \"(local in create)\"};\n",
    "    cout << \"End of `create`\" << endl;    \n",
    "};"
   ]
  },
  {
   "cell_type": "code",
   "execution_count": 15,
   "metadata": {
    "slideshow": {
     "slide_type": "fragment"
    }
   },
   "outputs": [
    {
     "name": "stdout",
     "output_type": "stream",
     "text": [
      "Begining of local scope\n",
      "Object 2 constructor runs (local scope)\n",
      "Calling `create`\n",
      "Begining of `create`\n",
      "Object 5 constructor runs (local in create)\n",
      "Object 6 constructor runs (local static in create)\n",
      "Object 7 constructor runs (local in create)\n",
      "End of `create`\n",
      "Object 7 destructor runs (local in create)\n",
      "Object 5 destructor runs (local in create)\n",
      "Resume in local scope\n",
      "Object 4 constructor runs (local)\n",
      "End of local scope\n",
      "Object 4 destructor runs (local)\n",
      "Object 2 destructor runs (local scope)\n"
     ]
    }
   ],
   "source": [
    "{\n",
    "    cout << \"Begining of local scope\" << endl;\n",
    "    CreateAndDestroy second{2, \"(local scope)\"};\n",
    "    cout << \"Calling `create`\" << endl;\n",
    "    create();\n",
    "    cout << \"Resume in local scope\" << endl;\n",
    "    CreateAndDestroy fourth{4, \"(local)\"};    \n",
    "    cout << \"End of local scope\" << endl;\n",
    "}"
   ]
  }
 ],
 "metadata": {
  "celltoolbar": "Slideshow",
  "kernelspec": {
   "display_name": "C++14",
   "language": "C++14",
   "name": "xcpp14"
  },
  "language_info": {
   "codemirror_mode": "text/x-c++src",
   "file_extension": ".cpp",
   "mimetype": "text/x-c++src",
   "name": "c++",
   "version": "14"
  },
  "rise": {
   "enable_chalkboard": true
  }
 },
 "nbformat": 4,
 "nbformat_minor": 2
}
